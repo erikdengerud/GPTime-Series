{
 "metadata": {
  "language_info": {
   "codemirror_mode": {
    "name": "ipython",
    "version": 3
   },
   "file_extension": ".py",
   "mimetype": "text/x-python",
   "name": "python",
   "nbconvert_exporter": "python",
   "pygments_lexer": "ipython3",
   "version": "3.6.9-final"
  },
  "orig_nbformat": 2,
  "kernelspec": {
   "name": "Python 3.6.9 64-bit ('venv')",
   "display_name": "Python 3.6.9 64-bit ('venv')",
   "metadata": {
    "interpreter": {
     "hash": "372b0b7ec2deba16ae067aa3df2758e57c96731335b7f57a0616055622e60b0e"
    }
   }
  }
 },
 "nbformat": 4,
 "nbformat_minor": 2,
 "cells": [
  {
   "cell_type": "code",
   "execution_count": 1,
   "metadata": {},
   "outputs": [],
   "source": [
    "import time"
   ]
  },
  {
   "cell_type": "code",
   "execution_count": 8,
   "metadata": {},
   "outputs": [],
   "source": [
    "a = time.time()"
   ]
  },
  {
   "cell_type": "code",
   "execution_count": 10,
   "metadata": {},
   "outputs": [],
   "source": [
    "b = time.time()"
   ]
  },
  {
   "cell_type": "code",
   "execution_count": 12,
   "metadata": {},
   "outputs": [
    {
     "output_type": "execute_result",
     "data": {
      "text/plain": "13.31199598312378"
     },
     "metadata": {},
     "execution_count": 12
    }
   ],
   "source": [
    "b-a"
   ]
  },
  {
   "cell_type": "code",
   "execution_count": 16,
   "metadata": {
    "tags": []
   },
   "outputs": [
    {
     "output_type": "stream",
     "name": "stdout",
     "text": "15.01578974723816\nSLEEP for 0.5005981922149658\n15.51721739768982\nSLEEP for 0.5005848407745361\n16.01875901222229\nSLEEP for 0.5005893707275391\n16.519999742507935\nSLEEP for 0.5006136894226074\n17.021355390548706\nSLEEP for 0.5005943775177002\n17.52226448059082\nSLEEP for 0.5006005764007568\n18.023983001708984\nSLEEP for 0.5001916885375977\n18.525282382965088\nSLEEP for 0.50010085105896\n19.02668046951294\nSLEEP for 0.500584602355957\n19.528099298477173\nSLEEP for 0.5005404949188232\n20.02983784675598\nSLEEP for 0.5005440711975098\n20.5311017036438\nSLEEP for 0.500542163848877\n21.032055854797363\nSLEEP for 0.5005767345428467\n21.53338623046875\nSLEEP for 0.5005385875701904\n22.034688472747803\nSLEEP for 0.5003273487091064\n22.53637170791626\nSLEEP for 0.500394344329834\n23.037362813949585\nSLEEP for 0.5002861022949219\n23.538630723953247\nSLEEP for 0.5005447864532471\n24.03917932510376\nSLEEP for 0.500582218170166\n24.54013419151306\nSLEEP for 0.500537633895874\n25.041473627090454\nSLEEP for 0.500605583190918\n25.542816638946533\nSLEEP for 0.500544548034668\n26.04449772834778\nSLEEP for 0.5005934238433838\n26.54520559310913\nSLEEP for 0.500591516494751\n27.046491622924805\nSLEEP for 0.5005850791931152\n27.547670364379883\nSLEEP for 0.500603199005127\n28.04904294013977\nSLEEP for 0.5005977153778076\n28.550301551818848\nSLEEP for 0.5005989074707031\n29.051392555236816\nSLEEP for 0.5006046295166016\n29.55268120765686\nSLEEP for 0.5005812644958496\n30.054658889770508\n29.553359746932983\nSLEEP for 1.0021264553070068\n30.054793119430542\n29.553691148757935\nSLEEP for 1.001969337463379\n30.05534529685974\n29.554574966430664\nSLEEP for 1.0023229122161865\n30.05584478378296\n29.555031299591064\nSLEEP for 1.001497745513916\n30.05690097808838\n29.55601215362549\nSLEEP for 1.002277135848999\n30.057503700256348\n29.556401252746582\nSLEEP for 1.0014941692352295\n30.057796239852905\n29.556784629821777\nSLEEP for 1.0018408298492432\n30.05866026878357\n29.556926250457764\nSLEEP for 1.0013844966888428\n30.058245420455933\n29.557374954223633\nSLEEP for 1.0010936260223389\n30.059152364730835\n29.558308124542236\nSLEEP for 1.0018765926361084\n30.060120344161987\n29.558887004852295\nSLEEP for 1.0022239685058594\n30.06041193008423\n29.55979895591736\nSLEEP for 1.0018787384033203\n30.061158657073975\n29.56002902984619\nSLEEP for 1.0019803047180176\n30.062042236328125\n29.560704469680786\nSLEEP for 1.0016908645629883\n30.063079118728638\n29.561875581741333\nSLEEP for 1.002558708190918\n30.063668251037598\n30.063654899597168\n29.060792684555054\nSLEEP for 0.5007266998291016\n29.562333345413208\nSLEEP for 1.5036232471466064\n30.06458616256714\n30.064101457595825\n29.06115484237671\nSLEEP for 0.5006742477416992\n29.56243586540222\nSLEEP for 1.5033671855926514\n30.063648223876953\n30.063239812850952\n"
    }
   ],
   "source": [
    "request_time_stamps = []\n",
    "for i in range(100):\n",
    "    time.sleep(0.5)\n",
    "    request_time_stamps.append(time.time())\n",
    "    #print(f\"Length of list: {len(request_time_stamps)}.\")\n",
    "    if len(request_time_stamps) > 30:\n",
    "        first = request_time_stamps.pop(0)\n",
    "        print(time.time() - first)\n",
    "        if time.time() - first < 30:\n",
    "            print(f\"SLEEP for {request_time_stamps[0]- first}\")\n",
    "            time.sleep(request_time_stamps[0]- first)"
   ]
  },
  {
   "cell_type": "code",
   "execution_count": null,
   "metadata": {},
   "outputs": [],
   "source": []
  }
 ]
}