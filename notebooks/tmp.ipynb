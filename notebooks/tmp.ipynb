{
 "metadata": {
  "language_info": {
   "codemirror_mode": {
    "name": "ipython",
    "version": 3
   },
   "file_extension": ".py",
   "mimetype": "text/x-python",
   "name": "python",
   "nbconvert_exporter": "python",
   "pygments_lexer": "ipython3",
   "version": "3.7.6-final"
  },
  "orig_nbformat": 2,
  "kernelspec": {
   "name": "python_defaultSpec_1600854838456",
   "display_name": "Python 3.7.6 64-bit ('env': venv)"
  }
 },
 "nbformat": 4,
 "nbformat_minor": 2,
 "cells": [
  {
   "cell_type": "code",
   "execution_count": 2,
   "metadata": {},
   "outputs": [],
   "source": [
    "# NOTE: df_smyl is actually df_montero"
   ]
  },
  {
   "cell_type": "code",
   "execution_count": 3,
   "metadata": {},
   "outputs": [],
   "source": [
    "import pandas as pd\n",
    "import numpy as np"
   ]
  },
  {
   "cell_type": "code",
   "execution_count": 4,
   "metadata": {},
   "outputs": [],
   "source": [
    "naive2_smape = {\n",
    "    \"yearly\": 16.342,\n",
    "    \"quarterly\": 11.012,\n",
    "    \"monthly\": 14.427,\n",
    "    \"weekly\": 9.161,\n",
    "    \"daily\": 3.045,\n",
    "    \"hourly\": 18.383,\n",
    "    \"global\": 13.564,\n",
    "}\n",
    "naive2_mase = {\n",
    "    \"yearly\": 3.974,\n",
    "    \"quarterly\": 1.371,\n",
    "    \"monthly\": 1.063,\n",
    "    \"weekly\": 2.777,\n",
    "    \"daily\": 3.278,\n",
    "    \"hourly\": 2.396,\n",
    "    \"global\": 1.912,\n",
    "}"
   ]
  },
  {
   "cell_type": "code",
   "execution_count": 25,
   "metadata": {},
   "outputs": [],
   "source": [
    "def MASE(actual: np.array, predicted: np.array, scale: np.array) -> float:\n",
    "    \"\"\" Calculating Mean Absolute Scaled Error \"\"\"\n",
    "    return np.mean(np.nanmean(np.abs(actual - predicted), axis=1) / scale)\n",
    "\n",
    "\n",
    "def SMAPE(actual: np.array, predicted: np.array) -> float:\n",
    "    \"\"\" Calculating Symmetric Mean Absolute Prediction Error \"\"\"\n",
    "    return np.mean(np.nanmean(200.0 * np.abs(actual - predicted) / (np.abs(actual) + np.abs(predicted)),axis=1))\n",
    "\n",
    "\n",
    "def OWA(mase: float, smape: float, freq: str = \"global\") -> float:\n",
    "    \"\"\" Calculating the Overall Weighted Average used in M4 \"\"\"\n",
    "    return (\n",
    "        mase / naive2_mase[freq]\n",
    "        + smape / naive2_smape[freq]\n",
    "    ) / 2"
   ]
  },
  {
   "cell_type": "code",
   "execution_count": 6,
   "metadata": {},
   "outputs": [],
   "source": [
    "df_smyl = pd.read_csv(\"C:\\\\Users\\eriko\\\\OneDrive\\\\Documents\\\\projects\\\\GPTime-Series\\\\GPTime\\\\tests\\\\data\\\\M4submissions\\\\submission-245.csv\", index_col=0)"
   ]
  },
  {
   "cell_type": "code",
   "execution_count": 7,
   "metadata": {},
   "outputs": [
    {
     "output_type": "execute_result",
     "data": {
      "text/plain": "             F1            F2            F3            F4            F5  \\\nid                                                                        \nY1  7291.322400   7333.897027   7376.682477   7419.545627   7462.400007   \nY2  1593.138744   1580.922961   1569.845776   1559.779354   1550.556673   \nY3  8560.555173   8729.000652   8902.360935   9094.041002   9284.889946   \nY4  9873.212978  10089.192494  10303.885348  10519.154315  10734.147576   \nY5  7016.500464   7191.824019   7367.583331   7543.184361   7718.139502   \n\n              F6  F7  F8  F9  F10  ...  F39  F40  F41  F42  F43  F44  F45  \\\nid                                 ...                                      \nY1   7505.189830 NaN NaN NaN  NaN  ...  NaN  NaN  NaN  NaN  NaN  NaN  NaN   \nY2   1541.846688 NaN NaN NaN  NaN  ...  NaN  NaN  NaN  NaN  NaN  NaN  NaN   \nY3   9480.072126 NaN NaN NaN  NaN  ...  NaN  NaN  NaN  NaN  NaN  NaN  NaN   \nY4  10949.255217 NaN NaN NaN  NaN  ...  NaN  NaN  NaN  NaN  NaN  NaN  NaN   \nY5   7892.148716 NaN NaN NaN  NaN  ...  NaN  NaN  NaN  NaN  NaN  NaN  NaN   \n\n    F46  F47  F48  \nid                 \nY1  NaN  NaN  NaN  \nY2  NaN  NaN  NaN  \nY3  NaN  NaN  NaN  \nY4  NaN  NaN  NaN  \nY5  NaN  NaN  NaN  \n\n[5 rows x 48 columns]",
      "text/html": "<div>\n<style scoped>\n    .dataframe tbody tr th:only-of-type {\n        vertical-align: middle;\n    }\n\n    .dataframe tbody tr th {\n        vertical-align: top;\n    }\n\n    .dataframe thead th {\n        text-align: right;\n    }\n</style>\n<table border=\"1\" class=\"dataframe\">\n  <thead>\n    <tr style=\"text-align: right;\">\n      <th></th>\n      <th>F1</th>\n      <th>F2</th>\n      <th>F3</th>\n      <th>F4</th>\n      <th>F5</th>\n      <th>F6</th>\n      <th>F7</th>\n      <th>F8</th>\n      <th>F9</th>\n      <th>F10</th>\n      <th>...</th>\n      <th>F39</th>\n      <th>F40</th>\n      <th>F41</th>\n      <th>F42</th>\n      <th>F43</th>\n      <th>F44</th>\n      <th>F45</th>\n      <th>F46</th>\n      <th>F47</th>\n      <th>F48</th>\n    </tr>\n    <tr>\n      <th>id</th>\n      <th></th>\n      <th></th>\n      <th></th>\n      <th></th>\n      <th></th>\n      <th></th>\n      <th></th>\n      <th></th>\n      <th></th>\n      <th></th>\n      <th></th>\n      <th></th>\n      <th></th>\n      <th></th>\n      <th></th>\n      <th></th>\n      <th></th>\n      <th></th>\n      <th></th>\n      <th></th>\n      <th></th>\n    </tr>\n  </thead>\n  <tbody>\n    <tr>\n      <th>Y1</th>\n      <td>7291.322400</td>\n      <td>7333.897027</td>\n      <td>7376.682477</td>\n      <td>7419.545627</td>\n      <td>7462.400007</td>\n      <td>7505.189830</td>\n      <td>NaN</td>\n      <td>NaN</td>\n      <td>NaN</td>\n      <td>NaN</td>\n      <td>...</td>\n      <td>NaN</td>\n      <td>NaN</td>\n      <td>NaN</td>\n      <td>NaN</td>\n      <td>NaN</td>\n      <td>NaN</td>\n      <td>NaN</td>\n      <td>NaN</td>\n      <td>NaN</td>\n      <td>NaN</td>\n    </tr>\n    <tr>\n      <th>Y2</th>\n      <td>1593.138744</td>\n      <td>1580.922961</td>\n      <td>1569.845776</td>\n      <td>1559.779354</td>\n      <td>1550.556673</td>\n      <td>1541.846688</td>\n      <td>NaN</td>\n      <td>NaN</td>\n      <td>NaN</td>\n      <td>NaN</td>\n      <td>...</td>\n      <td>NaN</td>\n      <td>NaN</td>\n      <td>NaN</td>\n      <td>NaN</td>\n      <td>NaN</td>\n      <td>NaN</td>\n      <td>NaN</td>\n      <td>NaN</td>\n      <td>NaN</td>\n      <td>NaN</td>\n    </tr>\n    <tr>\n      <th>Y3</th>\n      <td>8560.555173</td>\n      <td>8729.000652</td>\n      <td>8902.360935</td>\n      <td>9094.041002</td>\n      <td>9284.889946</td>\n      <td>9480.072126</td>\n      <td>NaN</td>\n      <td>NaN</td>\n      <td>NaN</td>\n      <td>NaN</td>\n      <td>...</td>\n      <td>NaN</td>\n      <td>NaN</td>\n      <td>NaN</td>\n      <td>NaN</td>\n      <td>NaN</td>\n      <td>NaN</td>\n      <td>NaN</td>\n      <td>NaN</td>\n      <td>NaN</td>\n      <td>NaN</td>\n    </tr>\n    <tr>\n      <th>Y4</th>\n      <td>9873.212978</td>\n      <td>10089.192494</td>\n      <td>10303.885348</td>\n      <td>10519.154315</td>\n      <td>10734.147576</td>\n      <td>10949.255217</td>\n      <td>NaN</td>\n      <td>NaN</td>\n      <td>NaN</td>\n      <td>NaN</td>\n      <td>...</td>\n      <td>NaN</td>\n      <td>NaN</td>\n      <td>NaN</td>\n      <td>NaN</td>\n      <td>NaN</td>\n      <td>NaN</td>\n      <td>NaN</td>\n      <td>NaN</td>\n      <td>NaN</td>\n      <td>NaN</td>\n    </tr>\n    <tr>\n      <th>Y5</th>\n      <td>7016.500464</td>\n      <td>7191.824019</td>\n      <td>7367.583331</td>\n      <td>7543.184361</td>\n      <td>7718.139502</td>\n      <td>7892.148716</td>\n      <td>NaN</td>\n      <td>NaN</td>\n      <td>NaN</td>\n      <td>NaN</td>\n      <td>...</td>\n      <td>NaN</td>\n      <td>NaN</td>\n      <td>NaN</td>\n      <td>NaN</td>\n      <td>NaN</td>\n      <td>NaN</td>\n      <td>NaN</td>\n      <td>NaN</td>\n      <td>NaN</td>\n      <td>NaN</td>\n    </tr>\n  </tbody>\n</table>\n<p>5 rows × 48 columns</p>\n</div>"
     },
     "metadata": {},
     "execution_count": 7
    }
   ],
   "source": [
    "df_smyl.head()"
   ]
  },
  {
   "cell_type": "code",
   "execution_count": 8,
   "metadata": {},
   "outputs": [
    {
     "output_type": "execute_result",
     "data": {
      "text/plain": "((23000, 48), (24000, 48), (48000, 48), (359, 48), (4227, 48), (414, 48))"
     },
     "metadata": {},
     "execution_count": 8
    }
   ],
   "source": [
    "df_smyl_y = df_smyl[df_smyl.index.str.contains(\"Y\")]\n",
    "df_smyl_q = df_smyl[df_smyl.index.str.contains(\"Q\")]\n",
    "df_smyl_m = df_smyl[df_smyl.index.str.contains(\"M\")]\n",
    "df_smyl_w = df_smyl[df_smyl.index.str.contains(\"W\")]\n",
    "df_smyl_d = df_smyl[df_smyl.index.str.contains(\"D\")]\n",
    "df_smyl_h = df_smyl[df_smyl.index.str.contains(\"H\")]\n",
    "\n",
    "df_smyl_y.shape, df_smyl_q.shape, df_smyl_m.shape, df_smyl_w.shape, df_smyl_d.shape, df_smyl_h.shape"
   ]
  },
  {
   "cell_type": "code",
   "execution_count": 9,
   "metadata": {},
   "outputs": [],
   "source": [
    "df_test_y = pd.read_csv(\"C:\\\\Users\\eriko\\\\OneDrive\\\\Documents\\\\projects\\\\GPTime-Series\\\\GPTime\\\\tests\\\\data\\\\M4test\\\\Yearly-test.csv\", index_col=0)\n",
    "df_test_q = pd.read_csv(\"C:\\\\Users\\eriko\\\\OneDrive\\\\Documents\\\\projects\\\\GPTime-Series\\\\GPTime\\\\tests\\\\data\\\\M4test\\\\Quarterly-test.csv\", index_col=0)\n",
    "df_test_m = pd.read_csv(\"C:\\\\Users\\eriko\\\\OneDrive\\\\Documents\\\\projects\\\\GPTime-Series\\\\GPTime\\\\tests\\\\data\\\\M4test\\\\Monthly-test.csv\", index_col=0)\n",
    "df_test_w = pd.read_csv(\"C:\\\\Users\\eriko\\\\OneDrive\\\\Documents\\\\projects\\\\GPTime-Series\\\\GPTime\\\\tests\\\\data\\\\M4test\\\\Weekly-test.csv\", index_col=0)\n",
    "df_test_d = pd.read_csv(\"C:\\\\Users\\eriko\\\\OneDrive\\\\Documents\\\\projects\\\\GPTime-Series\\\\GPTime\\\\tests\\\\data\\\\M4test\\\\Daily-test.csv\", index_col=0)\n",
    "df_test_h = pd.read_csv(\"C:\\\\Users\\eriko\\\\OneDrive\\\\Documents\\\\projects\\\\GPTime-Series\\\\GPTime\\\\tests\\\\data\\\\M4test\\\\Hourly-test.csv\", index_col=0)"
   ]
  },
  {
   "cell_type": "code",
   "execution_count": 10,
   "metadata": {},
   "outputs": [
    {
     "output_type": "execute_result",
     "data": {
      "text/plain": "(23000, 6)"
     },
     "metadata": {},
     "execution_count": 10
    }
   ],
   "source": [
    "df_test_y.shape"
   ]
  },
  {
   "cell_type": "code",
   "execution_count": 11,
   "metadata": {},
   "outputs": [],
   "source": [
    "df_test = pd.concat([df_test_y, df_test_q, df_test_m, df_test_w, df_test_d, df_test_h])"
   ]
  },
  {
   "cell_type": "code",
   "execution_count": 12,
   "metadata": {},
   "outputs": [
    {
     "output_type": "execute_result",
     "data": {
      "text/plain": "(100000, 48)"
     },
     "metadata": {},
     "execution_count": 12
    }
   ],
   "source": [
    "df_test.shape"
   ]
  },
  {
   "cell_type": "code",
   "execution_count": 13,
   "metadata": {},
   "outputs": [],
   "source": [
    "df_train_y = pd.read_csv(\"C:\\\\Users\\eriko\\\\OneDrive\\\\Documents\\\\projects\\\\GPTime-Series\\\\GPTime\\\\tests\\\\data\\\\M4train\\\\Yearly-train.csv\", index_col=0)\n",
    "df_train_q = pd.read_csv(\"C:\\\\Users\\eriko\\\\OneDrive\\\\Documents\\\\projects\\\\GPTime-Series\\\\GPTime\\\\tests\\\\data\\\\M4train\\\\Quarterly-train.csv\", index_col=0)\n",
    "df_train_m = pd.read_csv(\"C:\\\\Users\\eriko\\\\OneDrive\\\\Documents\\\\projects\\\\GPTime-Series\\\\GPTime\\\\tests\\\\data\\\\M4train\\\\Monthly-train.csv\", index_col=0)\n",
    "df_train_w = pd.read_csv(\"C:\\\\Users\\eriko\\\\OneDrive\\\\Documents\\\\projects\\\\GPTime-Series\\\\GPTime\\\\tests\\\\data\\\\M4train\\\\Weekly-train.csv\", index_col=0)\n",
    "df_train_d = pd.read_csv(\"C:\\\\Users\\eriko\\\\OneDrive\\\\Documents\\\\projects\\\\GPTime-Series\\\\GPTime\\\\tests\\\\data\\\\M4train\\\\Daily-train.csv\", index_col=0)\n",
    "df_train_h = pd.read_csv(\"C:\\\\Users\\eriko\\\\OneDrive\\\\Documents\\\\projects\\\\GPTime-Series\\\\GPTime\\\\tests\\\\data\\\\M4train\\\\Hourly-train.csv\", index_col=0)\n",
    "frames = [\n",
    "    (df_train_y, 1),\n",
    "    (df_train_q, 4),\n",
    "    (df_train_m, 12),\n",
    "    (df_train_w, 1),\n",
    "    (df_train_d, 1),\n",
    "    (df_train_h, 24),\n",
    "]\n",
    "\n",
    "scale_list = []\n",
    "for df, period in frames:\n",
    "    s = df.diff(periods=period, axis=1).abs().mean(axis=1).reset_index(drop=True)\n",
    "    scale_list.append(s.values)\n",
    "scale = np.concatenate(scale_list)"
   ]
  },
  {
   "cell_type": "code",
   "execution_count": 14,
   "metadata": {},
   "outputs": [
    {
     "output_type": "execute_result",
     "data": {
      "text/plain": "11.820814956137951"
     },
     "metadata": {},
     "execution_count": 14
    }
   ],
   "source": [
    "smape = SMAPE(df_test.values, df_smyl.values)\n",
    "smape"
   ]
  },
  {
   "cell_type": "code",
   "execution_count": 15,
   "metadata": {},
   "outputs": [
    {
     "output_type": "execute_result",
     "data": {
      "text/plain": "1.5513648521942258"
     },
     "metadata": {},
     "execution_count": 15
    }
   ],
   "source": [
    "mase = MASE(df_test.values, df_smyl.values, scale=scale)\n",
    "mase"
   ]
  },
  {
   "cell_type": "code",
   "execution_count": 16,
   "metadata": {},
   "outputs": [
    {
     "output_type": "execute_result",
     "data": {
      "text/plain": "0.8414338658898155"
     },
     "metadata": {},
     "execution_count": 16
    }
   ],
   "source": [
    "OWA(mase, smape)"
   ]
  },
  {
   "cell_type": "code",
   "execution_count": 17,
   "metadata": {},
   "outputs": [
    {
     "output_type": "execute_result",
     "data": {
      "text/plain": "(13.528, 3.06, 0.799)"
     },
     "metadata": {},
     "execution_count": 17
    }
   ],
   "source": [
    "smape_y = SMAPE(df_test_y.values, df_smyl_y.values[:,:6])\n",
    "mase_y = MASE(df_test_y.values, df_smyl_y.values[:,:6], scale_list[0])\n",
    "owa_y = OWA(mase_y, smape_y, freq=\"yearly\")\n",
    "round(smape_y, 3), round(mase_y, 3), round(owa_y, 3)"
   ]
  },
  {
   "cell_type": "code",
   "execution_count": 18,
   "metadata": {},
   "outputs": [
    {
     "output_type": "execute_result",
     "data": {
      "text/plain": "(9.733, 1.111, 0.847)"
     },
     "metadata": {},
     "execution_count": 18
    }
   ],
   "source": [
    "smape_q = SMAPE(df_test_q.values, df_smyl_q.values[:,:8])\n",
    "mase_q = MASE(df_test_q.values, df_smyl_q.values[:,:8], scale_list[1])\n",
    "owa_q = OWA(mase_q, smape_q, freq=\"quarterly\")\n",
    "round(smape_q, 3), round(mase_q, 3), round(owa_q, 3)"
   ]
  },
  {
   "cell_type": "code",
   "execution_count": 19,
   "metadata": {},
   "outputs": [
    {
     "output_type": "execute_result",
     "data": {
      "text/plain": "(12.639, 0.893, 0.858)"
     },
     "metadata": {},
     "execution_count": 19
    }
   ],
   "source": [
    "smape_m = SMAPE(df_test_m.values, df_smyl_m.values[:,:18])\n",
    "mase_m = MASE(df_test_m.values, df_smyl_m.values[:,:18], scale_list[2])\n",
    "owa_m = OWA(mase_m, smape_m, freq=\"monthly\")\n",
    "round(smape_m, 3), round(mase_m, 3), round(owa_m, 3)"
   ]
  },
  {
   "cell_type": "code",
   "execution_count": 20,
   "metadata": {},
   "outputs": [
    {
     "output_type": "execute_result",
     "data": {
      "text/plain": "(7.625, 2.108, 0.796)"
     },
     "metadata": {},
     "execution_count": 20
    }
   ],
   "source": [
    "smape_w = SMAPE(df_test_w.values, df_smyl_w.values[:,:13])\n",
    "mase_w = MASE(df_test_w.values, df_smyl_w.values[:,:13], scale_list[3])\n",
    "owa_w = OWA(mase_w, smape_w, freq=\"weekly\")\n",
    "round(smape_w, 3), round(mase_w, 3), round(owa_w, 3)"
   ]
  },
  {
   "cell_type": "code",
   "execution_count": 21,
   "metadata": {},
   "outputs": [
    {
     "output_type": "execute_result",
     "data": {
      "text/plain": "(3.097, 3.344, 1.019)"
     },
     "metadata": {},
     "execution_count": 21
    }
   ],
   "source": [
    "smape_d = SMAPE(df_test_d.values, df_smyl_d.values[:,:14])\n",
    "mase_d = MASE(df_test_d.values, df_smyl_d.values[:,:14], scale_list[4])\n",
    "owa_d = OWA(mase_d, smape_d, freq=\"daily\")\n",
    "round(smape_d, 3), round(mase_d, 3), round(owa_d, 3)"
   ]
  },
  {
   "cell_type": "code",
   "execution_count": 22,
   "metadata": {},
   "outputs": [
    {
     "output_type": "execute_result",
     "data": {
      "text/plain": "(11.506, 0.819, 0.484)"
     },
     "metadata": {},
     "execution_count": 22
    }
   ],
   "source": [
    "smape_h = SMAPE(df_test_h.values, df_smyl_h.values[:,:48])\n",
    "mase_h = MASE(df_test_h.values, df_smyl_h.values[:,:48], scale_list[5])\n",
    "owa_h = OWA(mase_h, smape_h, freq=\"hourly\")\n",
    "round(smape_h, 3), round(mase_h, 3), round(owa_h, 3)"
   ]
  },
  {
   "cell_type": "code",
   "execution_count": 26,
   "metadata": {},
   "outputs": [
    {
     "output_type": "execute_result",
     "data": {
      "text/plain": "(11.72, 1.551, 0.838)"
     },
     "metadata": {},
     "execution_count": 26
    }
   ],
   "source": [
    "smape_g = SMAPE(df_test.values, df_smyl.values)\n",
    "mase_g = MASE(df_test.values, df_smyl.values, scale)\n",
    "owa_g = OWA(mase_g, smape_g, freq=\"global\")\n",
    "round(smape_g, 3), round(mase_g, 3), round(owa_g, 3)"
   ]
  },
  {
   "cell_type": "code",
   "execution_count": 24,
   "metadata": {},
   "outputs": [
    {
     "output_type": "execute_result",
     "data": {
      "text/plain": "11.720282344585177"
     },
     "metadata": {},
     "execution_count": 24
    }
   ],
   "source": [
    "tot_smape = (\n",
    "    smape_y * df_test_y.shape[0] \n",
    "    + smape_q * df_test_q.shape[0]\n",
    "    + smape_m * df_test_m.shape[0]\n",
    "    + smape_w * df_test_w.shape[0]\n",
    "    + smape_d * df_test_d.shape[0]\n",
    "    + smape_h * df_test_h.shape[0]\n",
    "    ) / df_test.shape[0]\n",
    "tot_smape"
   ]
  }
 ]
}