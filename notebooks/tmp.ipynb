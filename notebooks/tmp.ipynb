{
 "metadata": {
  "language_info": {
   "codemirror_mode": {
    "name": "ipython",
    "version": 3
   },
   "file_extension": ".py",
   "mimetype": "text/x-python",
   "name": "python",
   "nbconvert_exporter": "python",
   "pygments_lexer": "ipython3",
   "version": "3.6.9-final"
  },
  "orig_nbformat": 2,
  "kernelspec": {
   "name": "Python 3.6.9 64-bit ('venv')",
   "display_name": "Python 3.6.9 64-bit ('venv')",
   "metadata": {
    "interpreter": {
     "hash": "372b0b7ec2deba16ae067aa3df2758e57c96731335b7f57a0616055622e60b0e"
    }
   }
  }
 },
 "nbformat": 4,
 "nbformat_minor": 2,
 "cells": [
  {
   "cell_type": "code",
   "execution_count": 1,
   "metadata": {},
   "outputs": [],
   "source": [
    "f = open(\"to_download.txt\", \"r\")\n",
    "s = f.read()"
   ]
  },
  {
   "cell_type": "code",
   "execution_count": 6,
   "metadata": {},
   "outputs": [],
   "source": [
    "s.split(\"\\n\")"
   ]
  },
  {
   "cell_type": "code",
   "execution_count": 16,
   "metadata": {},
   "outputs": [],
   "source": [
    "ids = [l.split(\" \")[11] for l in s.split(\"\\n\") if \"Failed to download id\" in l]"
   ]
  },
  {
   "cell_type": "code",
   "execution_count": null,
   "metadata": {},
   "outputs": [],
   "source": [
    "\"\"\"\n",
    "Downloading all time series in the provided JSON file.\n",
    "\"\"\" \n",
    "fred.key(\"01571df9f62cb8c1ff7dcb8471b164c8\")\n",
    "#num_requests = 0\n",
    "tot_downloaded = 0\n",
    "num_files_written = 0\n",
    "list_json = []\n",
    "request_time_stamps = []\n",
    "#curr_dir = f\"dir{tot_downloaded // cfg.source.files_per_folder :04d}/\"\n",
    "\n",
    "dirs = glob.glob(cfg.source.path.FRED.meta + \"/*\")\n",
    "for d in dirs:\n",
    "    file_names = glob.glob(d + \"/*\")\n",
    "    for fname in file_names:\n",
    "        with open(fname, \"r\") as fp:\n",
    "            ids_meta = json.load(fp)\n",
    "            fp.close()\n",
    "\n",
    "        for id_meta in ids_meta:\n",
    "            try:\n",
    "                observations = fred.observations(id_meta[\"id\"])\n",
    "                request_time_stamps.append(time.time())\n",
    "                #num_requests += 1\n",
    "                ts = {\n",
    "                    \"id\" : id_meta[\"id\"],\n",
    "                    \"source\" : id_meta[\"source\"],\n",
    "                    \"node_id\" : id_meta[\"node_id\"],\n",
    "                    \"category_name\" : id_meta[\"category_name\"],\n",
    "                    \"parent_id\" : id_meta[\"parent_id\"],\n",
    "                    \"frequency\" : id_meta[\"frequency\"],\n",
    "                    \"observations\" : [{\"date\" : obs[\"date\"], \"value\" : obs[\"value\"]} for obs in observations[\"observations\"]]\n",
    "                }\n",
    "\n",
    "                tot_downloaded += 1\n",
    "                list_json.append(ts)\n",
    "                if len(list_json) > cfg.source.samples_per_json:\n",
    "                    filename = f\"raw_{num_files_written:>06}.json\"\n",
    "                    if num_files_written % cfg.source.files_per_folder == 0:\n",
    "                        curr_dir = f\"dir{num_files_written // cfg.source.files_per_folder :04d}/\"\n",
    "                        os.makedirs(os.path.join(cfg.source.path.FRED.raw, curr_dir), exist_ok=True)\n",
    "                    with open(os.path.join(*[cfg.source.path.FRED.raw, curr_dir, filename]), \"w\") as fp:\n",
    "                        json.dump(list_json, fp, sort_keys=True, indent=4, separators=(\",\", \": \"))\n",
    "                        fp.close()\n",
    "                    \n",
    "                    with open(os.path.join(cfg.source.path.FRED.meta, \"ids_downloaded.txt\"), \"a\") as fp:\n",
    "                        for j in list_json:\n",
    "                            fp.write(j[\"id\"])\n",
    "                            fp.write(\"\\n\")\n",
    "                        fp.close()\n",
    "\n",
    "                    num_files_written += 1\n",
    "                    list_json = []\n",
    "\n",
    "                if tot_downloaded % 10000 == 0:\n",
    "                    logger.info(f\"Downloaded {tot_downloaded} time series.\")\n",
    "\n",
    "            except Exception as e:\n",
    "                logger.info(f\"Failed to download id {id_meta['id']} from fname {fname}.\")\n",
    "                logger.warning(e)\n",
    "\n",
    "            if len(request_time_stamps) > rate_limit:\n",
    "                first = request_time_stamps.pop(0)\n",
    "                if time.time() - first < sleep_time:\n",
    "                    #logger.info(f\"Sleeping for {request_time_stamps[0]-first}.\")\n",
    "                    time.sleep(request_time_stamps[0]-first)\n",
    "    \n",
    "    logger.info(f\"Written files in directory {d} and currently have {tot_downloaded:>6} time series saved\")"
   ]
  },
  {
   "cell_type": "code",
   "execution_count": 31,
   "metadata": {},
   "outputs": [
    {
     "output_type": "execute_result",
     "data": {
      "text/plain": [
       "<fred.core.Fred at 0x7f321cfe9c50>"
      ]
     },
     "metadata": {},
     "execution_count": 31
    }
   ],
   "source": [
    "import fred\n",
    "import time\n",
    "fred.key(\"01571df9f62cb8c1ff7dcb8471b164c8\")"
   ]
  },
  {
   "cell_type": "code",
   "execution_count": 32,
   "metadata": {},
   "outputs": [
    {
     "output_type": "stream",
     "name": "stdout",
     "text": [
      "Sleeping.\n",
      "Sleeping.\n",
      "Sleeping.\n"
     ]
    }
   ],
   "source": [
    "cnt = 0\n",
    "list_json = []\n",
    "for id in ids:\n",
    "    d = fred.series(id)\n",
    "    o = fred.observations(id)\n",
    "    cnt += 2\n",
    "    ts = {\n",
    "        \"id\" : id,\n",
    "        \"source\" : \"FRED\",\n",
    "        \"node_id\" : \"NA\",\n",
    "        \"category_name\" : \"NA\",\n",
    "        \"parent_id\" : \"NA\",\n",
    "        \"frequency\" : d[\"seriess\"][0][\"frequency\"],\n",
    "        \"observations\" : [{\"date\" : obs[\"date\"], \"value\" : obs[\"value\"]} for obs in o[\"observations\"]]\n",
    "    }\n",
    "    list_json.append(ts)\n",
    "    if cnt > 55:\n",
    "        print(\"Sleeping.\")\n",
    "        time.sleep(60)\n",
    "        cnt = 0"
   ]
  },
  {
   "cell_type": "code",
   "execution_count": 33,
   "metadata": {},
   "outputs": [
    {
     "output_type": "stream",
     "name": "stdout",
     "text": [
      "88\n"
     ]
    }
   ],
   "source": [
    "print(len(list_json))"
   ]
  },
  {
   "cell_type": "code",
   "execution_count": 41,
   "metadata": {},
   "outputs": [],
   "source": [
    "import json\n",
    "import sys\n",
    "sys.path.append(\"\")\n",
    "sys.path.append(\"../..\")\n",
    "with open(\"../GPTime/data/raw/FRED/dir0003/raw_000343.json\", \"a\") as fp:\n",
    "    json.dump(list_json, fp, sort_keys=True, indent=4, separators=(\",\", \": \"))\n",
    "    fp.close()"
   ]
  },
  {
   "cell_type": "code",
   "execution_count": 34,
   "metadata": {},
   "outputs": [
    {
     "output_type": "execute_result",
     "data": {
      "text/plain": [
       "'/home/shomea/e/erikde/Documents/GPTime-Series/notebooks'"
      ]
     },
     "metadata": {},
     "execution_count": 34
    }
   ],
   "source": [
    "import os\n",
    "os.getcwd()"
   ]
  }
 ]
}