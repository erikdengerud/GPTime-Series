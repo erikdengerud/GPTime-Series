{
 "metadata": {
  "language_info": {
   "codemirror_mode": {
    "name": "ipython",
    "version": 3
   },
   "file_extension": ".py",
   "mimetype": "text/x-python",
   "name": "python",
   "nbconvert_exporter": "python",
   "pygments_lexer": "ipython3",
   "version": "3.7.6-final"
  },
  "orig_nbformat": 2,
  "kernelspec": {
   "name": "python_defaultSpec_1600693146590",
   "display_name": "Python 3.7.6 64-bit ('env': venv)"
  }
 },
 "nbformat": 4,
 "nbformat_minor": 2,
 "cells": [
  {
   "cell_type": "code",
   "execution_count": 21,
   "metadata": {},
   "outputs": [],
   "source": [
    "import pandas as pd\n",
    "import numpy as np\n",
    "import os\n",
    "import sys\n",
    "sys.path.append(\"\")\n",
    "sys.path.append(\"../..\")"
   ]
  },
  {
   "cell_type": "code",
   "execution_count": 30,
   "metadata": {},
   "outputs": [],
   "source": [
    "import statsmodels as sm"
   ]
  },
  {
   "cell_type": "code",
   "execution_count": 24,
   "metadata": {},
   "outputs": [
    {
     "output_type": "execute_result",
     "data": {
      "text/plain": "array([3.04597623, 2.26982297, 1.92137723, 3.83726139, 2.93166713,\n       3.95894068, 1.44447605, 2.60294754, 1.12430882, 4.24618511,\n       4.72027933, 5.35836859, 4.64784992, 3.66981756, 4.54897754,\n       4.60737062, 4.59307652, 4.88819735, 6.08950047, 5.8778822 ])"
     },
     "metadata": {},
     "execution_count": 24
    }
   ],
   "source": [
    "2 + 0.15*np.arange(1, 21, 1) + np.random.randn(20)"
   ]
  },
  {
   "cell_type": "code",
   "execution_count": 29,
   "metadata": {
    "tags": []
   },
   "outputs": [
    {
     "output_type": "stream",
     "name": "stdout",
     "text": "(100, 14) (100, 6)\n"
    },
    {
     "output_type": "execute_result",
     "data": {
      "text/plain": "((100, 14), (100, 6))"
     },
     "metadata": {},
     "execution_count": 29
    }
   ],
   "source": [
    "#In this example let us produce forecasts for 100 randomly generated timeseries\n",
    "fh = 6 #The forecasting horizon examined\n",
    "frq = 1 #The frequency of the data\n",
    "data_train = np.zeros((100, 20-fh))\n",
    "data_test = np.zeros((100, fh))\n",
    "print(data_train.shape, data_test.shape)\n",
    "for i in range(100):\n",
    "  data_all = 2 + 0.15*np.arange(1, 21, 1) + np.random.randn(20) \n",
    "  data_train[i,:] = data_all[:-fh]\n",
    "  data_test[i,:] = data_all[-fh:]\n",
    "data_train.shape, data_test.shape"
   ]
  },
  {
   "cell_type": "code",
   "execution_count": null,
   "metadata": {},
   "outputs": [],
   "source": [
    "def SMAPE(actual: np.array, predicted: np.array) -> float:\n",
    "    \"\"\" Calculating Symmetric Mean Absolute Prediction Error \"\"\"\n",
    "    nz = np.where(actual > 0)\n",
    "    Pz = predicted[nz]\n",
    "    Az = actual[nz]\n",
    "    return np.mean(2.0 * np.abs(Az - Pz) / (np.abs(Az) + np.abs(Pz)))"
   ]
  },
  {
   "cell_type": "code",
   "execution_count": null,
   "metadata": {},
   "outputs": [],
   "source": [
    "def smape_cal(outsample, forecasts): # should calculate for abunch of ts at once\n",
    "    return (np.abs(outsample - forecast)*200)/(np.abs(outsample) + np.abs(forecasts))"
   ]
  },
  {
   "cell_type": "code",
   "execution_count": null,
   "metadata": {},
   "outputs": [],
   "source": [
    "def mase_cal(insample, outsample, forecasts, frequency):\n",
    "    masep = np.mean(np.abs(np.diff(insample, n=frequency), axis=1))\n",
    "    mase = np.abs(outsample-forecasts) / masep\n",
    "    return mase"
   ]
  },
  {
   "cell_type": "code",
   "execution_count": null,
   "metadata": {},
   "outputs": [],
   "source": [
    "def naive_seasonal(input, fh, frequency):\n",
    "    return 0"
   ]
  },
  {
   "cell_type": "code",
   "execution_count": null,
   "metadata": {},
   "outputs": [],
   "source": [
    "def seasonality_test(ts, ppy):\n",
    "    t_crit = 1.645\n",
    "    if len(ts) < 3*ppy:\n",
    "        test_seasonal = False\n",
    "    else:\n",
    "        xacf = sm.tsa.stattols.acf(ts)[1:]\n",
    "\n",
    "        clim = t_crit / np.sqrt(len(x)) * sqrt(np.cumsum([1, 2*xacf**2]))\n",
    "        if np.abs(xacf[ppy]) > clim[ppy]\n",
    "            test_seasonal = True\n",
    "    return test_seasonal"
   ]
  },
  {
   "cell_type": "code",
   "execution_count": null,
   "metadata": {},
   "outputs": [],
   "source": [
    "def benchmarks(ts, fh, frequency):\n",
    "    ppy = frequency\n",
    "    st = False\n",
    "    if ppy > 1:\n",
    "        st = seasonality_test(ts, ppy)\n",
    "    if st:\n",
    "        dec = sm.tsa.seasonal_decompose(ts, model=multiplicative)\n",
    "        des_ts = ts / dec.seasonal\n",
    "        SIout = dec.seasonal[(-ppy+1):]\n",
    "    else:\n",
    "        des_ts = ts\n",
    "        SIout = np.ones(fh)\n",
    "\n",
    "    naive = np.repeat(ts[-1], fh)\n",
    "    naive2 = np.repeat(des_ts[-1], fh)*SIout\n",
    "\n",
    "    return naive, naive2"
   ]
  },
  {
   "cell_type": "code",
   "execution_count": null,
   "metadata": {},
   "outputs": [],
   "source": [
    "names = [\"naive\", \"naive2\"]\n",
    "scores = np.zeros((3, len(names)))\n",
    "\n",
    "for i in range(data_train.shape[0]):\n",
    "    forecasts = benchmarks(data_train[i], fh=6, frequency=1)\n",
    "    for i, f in enumerate(forecasts)\n",
    "    scores[i,]\n",
    "\n"
   ]
  },
  {
   "cell_type": "code",
   "execution_count": null,
   "metadata": {},
   "outputs": [],
   "source": [
    "\n",
    "Names_benchmarks <- c(\"Naive\", \"sNaive\", \"Naive2\", \"SES\", \"Holt\", \"Damped\", \"Theta\", \"Com\")\n",
    "Total_smape=Total_mase <- array(NA,dim = c(length(Names_benchmarks), fh, length(data_train)))\n",
    "#Methods, Horizon, time-series\n",
    "for (i in 1:length(data_train)){\n",
    "  \n",
    "  insample <- data_train[[i]]\n",
    "  outsample <- data_test[[i]]\n",
    "  forecasts <- Benchmarks(input=insample, fh=fh)\n",
    "  \n",
    "  #sMAPE\n",
    "  for (j in 1:length(Names_benchmarks)){\n",
    "    Total_smape[j,,i] <- smape_cal(outsample, forecasts[[j]]) #j the # of the benchmark\n",
    "  }\n",
    "  #MASE\n",
    "  for (j in 1:length(Names_benchmarks)){\n",
    "    Total_mase[j,,i] <- mase_cal(insample, outsample, forecasts[[j]]) #j the # of the benchmark\n",
    "  }\n",
    "  \n",
    "}\n",
    "\n",
    "print(\"########### sMAPE ###############\")\n",
    "for (i in 1:length(Names_benchmarks)){\n",
    "  print(paste(Names_benchmarks[i], round(mean(Total_smape[i,,]), 3)))\n",
    "}\n",
    "print(\"########### MASE ################\")\n",
    "for (i in 1:length(Names_benchmarks)){\n",
    "  print(paste(Names_benchmarks[i], round(mean(Total_mase[i,,]), 3)))\n",
    "}\n",
    "print(\"########### OWA ################\")\n",
    "for (i in 1:length(Names_benchmarks)){\n",
    "  print(paste(Names_benchmarks[i],\n",
    "              round(((mean(Total_mase[i,,])/mean(Total_mase[3,,]))+(mean(Total_smape[i,,])/mean(Total_smape[3,,])))/2, 3)))\n",
    "}\n",
    "\n"
   ]
  }
 ]
}