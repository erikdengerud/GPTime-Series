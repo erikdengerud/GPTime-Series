{
 "metadata": {
  "language_info": {
   "codemirror_mode": {
    "name": "ipython",
    "version": 3
   },
   "file_extension": ".py",
   "mimetype": "text/x-python",
   "name": "python",
   "nbconvert_exporter": "python",
   "pygments_lexer": "ipython3",
   "version": "3.6.9-final"
  },
  "orig_nbformat": 2,
  "kernelspec": {
   "name": "Python 3.6.9 64-bit ('venv')",
   "display_name": "Python 3.6.9 64-bit ('venv')",
   "metadata": {
    "interpreter": {
     "hash": "372b0b7ec2deba16ae067aa3df2758e57c96731335b7f57a0616055622e60b0e"
    }
   }
  }
 },
 "nbformat": 4,
 "nbformat_minor": 2,
 "cells": [
  {
   "cell_type": "code",
   "execution_count": 1,
   "metadata": {},
   "outputs": [],
   "source": [
    "import fred"
   ]
  },
  {
   "cell_type": "code",
   "execution_count": 2,
   "metadata": {},
   "outputs": [
    {
     "output_type": "execute_result",
     "data": {
      "text/plain": "<fred.core.Fred at 0x7ff9945b1320>"
     },
     "metadata": {},
     "execution_count": 2
    }
   ],
   "source": [
    "fred.key('01571df9f62cb8c1ff7dcb8471b164c8')"
   ]
  },
  {
   "cell_type": "code",
   "execution_count": 28,
   "metadata": {
    "tags": []
   },
   "outputs": [
    {
     "output_type": "stream",
     "name": "stdout",
     "text": "True\n"
    }
   ],
   "source": [
    "a = [1]\n",
    "if a:\n",
    "    print(True)\n",
    "else:\n",
    "    print(False)"
   ]
  },
  {
   "cell_type": "code",
   "execution_count": 20,
   "metadata": {},
   "outputs": [
    {
     "output_type": "execute_result",
     "data": {
      "text/plain": "{'categories': [{'id': 0, 'name': 'Categories', 'parent_id': 0}]}"
     },
     "metadata": {},
     "execution_count": 20
    }
   ],
   "source": [
    "fred.categories(0)"
   ]
  },
  {
   "cell_type": "code",
   "execution_count": 29,
   "metadata": {
    "tags": []
   },
   "outputs": [
    {
     "output_type": "stream",
     "name": "stdout",
     "text": "1\n33203\n[0, 32262, 33936, 32436, 33940, 33490, 32216, 97, 3, 32429, 6, 33441, 33492, 33202]\n[33203]\n"
    }
   ],
   "source": [
    "nodes_to_visit = [0, 1]\n",
    "bottom_nodes = []\n",
    "ts_ids = []\n",
    "while nodes_to_visit:\n",
    "    curr_node = nodes_to_visit.pop()\n",
    "    children = fred.children(curr_node)\n",
    "    print(curr_node)\n",
    "    if children[\"categories\"]:\n",
    "        for child in children[\"categories\"]:\n",
    "            nodes_to_visit.append(child[\"id\"])\n",
    "    else:\n",
    "        bottom_nodes.append(curr_node)\n",
    "        for ts in fred.category_series(curr_node):\n",
    "            ts_ids.append(ts[\"id\"])\n",
    "        break\n",
    "print(nodes_to_visit)\n",
    "print(bottom_nodes)\n",
    "    #print(children)"
   ]
  },
  {
   "cell_type": "code",
   "execution_count": 30,
   "metadata": {},
   "outputs": [
    {
     "output_type": "execute_result",
     "data": {
      "text/plain": "ort': 'M',\n   'units': 'Percent',\n   'units_short': '%',\n   'seasonal_adjustment': 'Not Seasonally Adjusted',\n   'seasonal_adjustment_short': 'NSA',\n   'last_updated': '2020-09-10 09:11:56-05',\n   'popularity': 1,\n   'group_popularity': 2,\n   'notes': \"Definition of inventories (as provided by the Census Bureau): The value, at cost, of merchandise on hand and available for sale at the end of the reference month. All goods owned by a firm, regardless of location, except goods outside the United States are included. Items not held for resale, such as fixtures, equipment, and supplies are excluded. Also excluded is the value of goods on a firm's premises but not owned by the firm. (http://www.census.gov/wholesale/definitions.html)\"},\n  {'id': 'T423MPM157NCEN',\n   'realtime_start': '2020-09-30',\n   'realtime_end': '2020-09-30',\n   'title': \"Merchant Wholesalers, Except Manufacturers' Sales Branches and Offices Sales: Durable Goods Inventories\",\n   'observation_start': '1992-02-01',\n   'observation_end': '2020-07-01',\n   'frequency': 'Monthly, End of Month',\n   'frequency_short': 'M',\n   'units': 'Percent',\n   'units_short': '%',\n   'seasonal_adjustment': 'Not Seasonally Adjusted',\n   'seasonal_adjustment_short': 'NSA',\n   'last_updated': '2020-09-10 09:11:56-05',\n   'popularity': 1,\n   'group_popularity': 6,\n   'notes': \"Definition of inventories (as provided by the Census Bureau): The value, at cost, of merchandise on hand and available for sale at the end of the reference month. All goods owned by a firm, regardless of location, except goods outside the United States are included. Items not held for resale, such as fixtures, equipment, and supplies are excluded. Also excluded is the value of goods on a firm's premises but not owned by the firm. (http://www.census.gov/wholesale/definitions.html)\"},\n  {'id': 'T4241MM157NCEN',\n   'realtime_start': '2020-09-30',\n   'realtime_end': '2020-09-30',\n   'title': \"Merchant Wholesalers, Except Manufacturers' Sales Branches and Offices Sales: Nondurable Goods: Paper and Paper Products Inventories\",\n   'observation_start': '1992-02-01',\n   'observation_end': '2020-07-01',\n   'frequency': 'Monthly, End of Month',\n   'frequency_short': 'M',\n   'units': 'Percent',\n   'units_short': '%',\n   'seasonal_adjustment': 'Not Seasonally Adjusted',\n   'seasonal_adjustment_short': 'NSA',\n   'last_updated': '2020-09-10 09:11:56-05',\n   'popularity': 1,\n   'group_popularity': 2,\n   'notes': \"Definition of inventories (as provided by the Census Bureau): The value, at cost, of merchandise on hand and available for sale at the end of the reference month. All goods owned by a firm, regardless of location, except goods outside the United States are included. Items not held for resale, such as fixtures, equipment, and supplies are excluded. Also excluded is the value of goods on a firm's premises but not owned by the firm. (http://www.census.gov/wholesale/definitions.html)\"},\n  {'id': 'T4242MM157NCEN',\n   'realtime_start': '2020-09-30',\n   'realtime_end': '2020-09-30',\n   'title': \"Merchant Wholesalers, Except Manufacturers' Sales Branches and Offices Sales: Nondurable Goods: Drugs and Druggists' Sundries Inventories\",\n   'observation_start': '1992-02-01',\n   'observation_end': '2020-07-01',\n   'frequency': 'Monthly, End of Month',\n   'frequency_short': 'M',\n   'units': 'Percent',\n   'units_short': '%',\n   'seasonal_adjustment': 'Not Seasonally Adjusted',\n   'seasonal_adjustment_short': 'NSA',\n   'last_updated': '2020-09-10 09:11:56-05',\n   'popularity': 1,\n   'group_popularity': 1,\n   'notes': \"Definition of inventories (as provided by the Census Bureau): The value, at cost, of merchandise on hand and available for sale at the end of the reference month. All goods owned by a firm, regardless of location, except goods outside the United States are included. Items not held for resale, such as fixtures, equipment, and supplies are excluded. Also excluded is the value of goods on a firm's premises but not owned by the firm. (http://www.census.gov/wholesale/definitions.html)\"},\n  {'id': 'T4243MM157NCEN',\n   'realtime_start': '2020-09-30',\n   'realtime_end': '2020-09-30',\n   'title': \"Merchant Wholesalers, Except Manufacturers' Sales Branches and Offices Sales: Nondurable Goods: Apparel, Piece Goods, and Notions Inventories\",\n   'observation_start': '1992-02-01',\n   'observation_end': '2020-07-01',\n   'frequency': 'Monthly, End of Month',\n   'frequency_short': 'M',\n   'units': 'Percent',\n   'units_short': '%',\n   'seasonal_adjustment': 'Not Seasonally Adjusted',\n   'seasonal_adjustment_short': 'NSA',\n   'last_updated': '2020-09-10 09:12:12-05',\n   'popularity': 1,\n   'group_popularity': 2,\n   'notes': \"Definition of inventories (as provided by the Census Bureau): The value, at cost, of merchandise on hand and available for sale at the end of the reference month. All goods owned by a firm, regardless of location, except goods outside the United States are included. Items not held for resale, such as fixtures, equipment, and supplies are excluded. Also excluded is the value of goods on a firm's premises but not owned by the firm. (http://www.census.gov/wholesale/definitions.html)\"},\n  {'id': 'T4244MM157NCEN',\n   'realtime_start': '2020-09-30',\n   'realtime_end': '2020-09-30',\n   'title': \"Merchant Wholesalers, Except Manufacturers' Sales Branches and Offices Sales: Nondurable Goods: Grocery and Related Products Inventories\",\n   'observation_start': '1992-02-01',\n   'observation_end': '2020-07-01',\n   'frequency': 'Monthly, End of Month',\n   'frequency_short': 'M',\n   'units': 'Percent',\n   'units_short': '%',\n   'seasonal_adjustment': 'Not Seasonally Adjusted',\n   'seasonal_adjustment_short': 'NSA',\n   'last_updated': '2020-09-10 09:11:57-05',\n   'popularity': 1,\n   'group_popularity': 3,\n   'notes': \"Definition of inventories (as provided by the Census Bureau): The value, at cost, of merchandise on hand and available for sale at the end of the reference month. All goods owned by a firm, regardless of location, except goods outside the United States are included. Items not held for resale, such as fixtures, equipment, and supplies are excluded. Also excluded is the value of goods on a firm's premises but not owned by the firm. (http://www.census.gov/wholesale/definitions.html)\"},\n  {'id': 'T4245MM157NCEN',\n   'realtime_start': '2020-09-30',\n   'realtime_end': '2020-09-30',\n   'title': \"Merchant Wholesalers, Except Manufacturers' Sales Branches and Offices Sales: Nondurable Goods: Farm Product Raw Materials Inventories\",\n   'observation_start': '1992-02-01',\n   'observation_end': '2020-07-01',\n   'frequency': 'Monthly, End of Month',\n   'frequency_short': 'M',\n   'units': 'Percent',\n   'units_short': '%',\n   'seasonal_adjustment': 'Not Seasonally Adjusted',\n   'seasonal_adjustment_short': 'NSA',\n   'last_updated': '2020-09-10 09:11:57-05',\n   'popularity': 1,\n   'group_popularity': 1,\n   'notes': \"Definition of inventories (as provided by the Census Bureau): The value, at cost, of merchandise on hand and available for sale at the end of the reference month. All goods owned by a firm, regardless of location, except goods outside the United States are included. Items not held for resale, such as fixtures, equipment, and supplies are excluded. Also excluded is the value of goods on a firm's premises but not owned by the firm. (http://www.census.gov/wholesale/definitions.html)\"},\n  {'id': 'T4246MM157NCEN',\n   'realtime_start': '2020-09-30',\n   'realtime_end': '2020-09-30',\n   'title': \"Merchant Wholesalers, Except Manufacturers' Sales Branches and Offices Sales: Nondurable Goods: Chemicals and Allied Products Inventories\",\n   'observation_start': '1992-02-01',\n   'observation_end': '2020-07-01',\n   'frequency': 'Monthly, End of Month',\n   'frequency_short': 'M',\n   'units': 'Percent',\n   'units_short': '%',\n   'seasonal_adjustment': 'Not Seasonally Adjusted',\n   'seasonal_adjustment_short': 'NSA',\n   'last_updated': '2020-09-10 09:11:59-05',\n   'popularity': 1,\n   'group_popularity': 1,\n   'notes': \"Definition of inventories (as provided by the Census Bureau): The value, at cost, of merchandise on hand and available for sale at the end of the reference month. All goods owned by a firm, regardless of location, except goods outside the United States are included. Items not held for resale, such as fixtures, equipment, and supplies are excluded. Also excluded is the value of goods on a firm's premises but not owned by the firm. (http://www.census.gov/wholesale/definitions.html)\"},\n  {'id': 'T4247MM157NCEN',\n   'realtime_start': '2020-09-30',\n   'realtime_end': '2020-09-30',\n   'title': \"Merchant Wholesalers, Except Manufacturers' Sales Branches and Offices Sales: Nondurable Goods: Petroleum and Petroleum Products Inventories\",\n   'observation_start': '1992-02-01',\n   'observation_end': '2020-07-01',\n   'frequency': 'Monthly, End of Month',\n   'frequency_short': 'M',\n   'units': 'Percent',\n   'units_short': '%',\n   'seasonal_adjustment': 'Not Seasonally Adjusted',\n   'seasonal_adjustment_short': 'NSA',\n   'last_updated': '2020-09-10 09:11:57-05',\n   'popularity': 1,\n   'group_popularity': 1,\n   'notes': \"Definition of inventories (as provided by the Census Bureau): The value, at cost, of merchandise on hand and available for sale at the end of the reference month. All goods owned by a firm, regardless of location, except goods outside the United States are included. Items not held for resale, such as fixtures, equipment, and supplies are excluded. Also excluded is the value of goods on a firm's premises but not owned by the firm. (http://www.census.gov/wholesale/definitions.html)\"},\n  {'id': 'T4248MM157NCEN',\n   'realtime_start': '2020-09-30',\n   'realtime_end': '2020-09-30',\n   'title': \"Merchant Wholesalers, Except Manufacturers' Sales Branches and Offices Sales: Nondurable Goods: Beer, Wine, and Distilled Alcoholic Beverages Inventories\",\n   'observation_start': '1992-02-01',\n   'observation_end': '2020-07-01',\n   'frequency': 'Monthly, End of Month',\n   'frequency_short': 'M',\n   'units': 'Percent',\n   'units_short': '%',\n   'seasonal_adjustment': 'Not Seasonally Adjusted',\n   'seasonal_adjustment_short': 'NSA',\n   'last_updated': '2020-09-10 09:11:57-05',\n   'popularity': 1,\n   'group_popularity': 4,\n   'notes': \"Definition of inventories (as provided by the Census Bureau): The value, at cost, of merchandise on hand and available for sale at the end of the reference month. All goods owned by a firm, regardless of location, except goods outside the United States are included. Items not held for resale, such as fixtures, equipment, and supplies are excluded. Also excluded is the value of goods on a firm's premises but not owned by the firm. (http://www.census.gov/wholesale/definitions.html)\"},\n  {'id': 'T4249MM157NCEN',\n   'realtime_start': '2020-09-30',\n   'realtime_end': '2020-09-30',\n   'title': \"Merchant Wholesalers, Except Manufacturers' Sales Branches and Offices Sales: Nondurable Goods: Miscellaneous Nondurable Goods Inventories\",\n   'observation_start': '1992-02-01',\n   'observation_end': '2020-07-01',\n   'frequency': 'Monthly, End of Month',\n   'frequency_short': 'M',\n   'units': 'Percent',\n   'units_short': '%',\n   'seasonal_adjustment': 'Not Seasonally Adjusted',\n   'seasonal_adjustment_short': 'NSA',\n   'last_updated': '2020-09-10 09:11:59-05',\n   'popularity': 1,\n   'group_popularity': 1,\n   'notes': \"Definition of inventories (as provided by the Census Bureau): The value, at cost, of merchandise on hand and available for sale at the end of the reference month. All goods owned by a firm, regardless of location, except goods outside the United States are included. Items not held for resale, such as fixtures, equipment, and supplies are excluded. Also excluded is the value of goods on a firm's premises but not owned by the firm. (http://www.census.gov/wholesale/definitions.html)\"},\n  {'id': 'T424MPM157NCEN',\n   'realtime_start': '2020-09-30',\n   'realtime_end': '2020-09-30',\n   'title': \"Merchant Wholesalers, Except Manufacturers' Sales Branches and Offices Sales: Nondurable Goods Inventories\",\n   'observation_start': '1992-02-01',\n   'observation_end': '2020-07-01',\n   'frequency': 'Monthly, End of Month',\n   'frequency_short': 'M',\n   'units': 'Percent',\n   'units_short': '%',\n   'seasonal_adjustment': 'Not Seasonally Adjusted',\n   'seasonal_adjustment_short': 'NSA',\n   'last_updated': '2020-09-10 09:11:58-05',\n   'popularity': 1,\n   'group_popularity': 1,\n   'notes': \"Definition of inventories (as provided by the Census Bureau): The value, at cost, of merchandise on hand and available for sale at the end of the reference month. All goods owned by a firm, regardless of location, except goods outside the United States are included. Items not held for resale, such as fixtures, equipment, and supplies are excluded. Also excluded is the value of goods on a firm's premises but not owned by the firm. (http://www.census.gov/wholesale/definitions.html)\"},\n  {'id': 'T42MPCM157NCEN',\n   'realtime_start': '2020-09-30',\n   'realtime_end': '2020-09-30',\n   'title': \"Total Merchant Wholesalers, Except Manufacturers' Sales Branches and Offices Inventories\",\n   'observation_start': '1992-02-01',\n   'observation_end': '2020-07-01',\n   'frequency': 'Monthly, End of Month',\n   'frequency_short': 'M',\n   'units': 'Percent',\n   'units_short': '%',\n   'seasonal_adjustment': 'Not Seasonally Adjusted',\n   'seasonal_adjustment_short': 'NSA',\n   'last_updated': '2020-09-10 09:11:58-05',\n   'popularity': 1,\n   'group_popularity': 14,\n   'notes': \"Definition of inventories (as provided by the Census Bureau): The value, at cost, of merchandise on hand and available for sale at the end of the reference month. All goods owned by a firm, regardless of location, except goods outside the United States are included. Items not held for resale, such as fixtures, equipment, and supplies are excluded. Also excluded is the value of goods on a firm's premises but not owned by the firm. (http://www.census.gov/wholesale/definitions.html)\"},\n  {'id': 'WHLSLRIMNSA',\n   'realtime_start': '2020-09-30',\n   'realtime_end': '2020-09-30',\n   'title': 'Merchant Wholesalers Inventories',\n   'observation_start': '1992-01-01',\n   'observation_end': '2020-07-01',\n   'frequency': 'Monthly',\n   'frequency_short': 'M',\n   'units': 'Millions of Dollars',\n   'units_short': 'Mil. of $',\n   'seasonal_adjustment': 'Not Seasonally Adjusted',\n   'seasonal_adjustment_short': 'NSA',\n   'last_updated': '2020-09-16 09:11:41-05',\n   'popularity': 5,\n   'group_popularity': 27},\n  {'id': 'WHLSLRIMSA',\n   'realtime_start': '2020-09-30',\n   'realtime_end': '2020-09-30',\n   'title': 'Merchant Wholesalers Inventories',\n   'observation_start': '1992-01-01',\n   'observation_end': '2020-07-01',\n   'frequency': 'Monthly',\n   'frequency_short': 'M',\n   'units': 'Millions of Dollars',\n   'units_short': 'Mil. of $',\n   'seasonal_adjustment': 'Seasonally Adjusted',\n   'seasonal_adjustment_short': 'SA',\n   'last_updated': '2020-09-16 09:11:22-05',\n   'popularity': 25,\n   'group_popularity': 27},\n  {'id': 'WHLSLRIRNSA',\n   'realtime_start': '2020-09-30',\n   'realtime_end': '2020-09-30',\n   'title': 'Merchant Wholesalers: Inventories to Sales Ratio',\n   'observation_start': '1992-01-01',\n   'observation_end': '2020-07-01',\n   'frequency': 'Monthly',\n   'frequency_short': 'M',\n   'units': 'Ratio',\n   'units_short': 'Ratio',\n   'seasonal_adjustment': 'Not Seasonally Adjusted',\n   'seasonal_adjustment_short': 'NSA',\n   'last_updated': '2020-09-16 09:11:47-05',\n   'popularity': 6,\n   'group_popularity': 32,\n   'notes': 'The inventories to sales ratios show the relationship of the end-of-month values of inventory to the monthly sales. These ratios can be looked at as indications of the number of months of inventory that are on hand in relation to the sales for a month. For example, a ratio of 2.5 would indicate that wholesalers have enough merchandise on hand to cover two and a half months of sales.'},\n  {'id': 'WHLSLRIRSA',\n   'realtime_start': '2020-09-30',\n   'realtime_end': '2020-09-30',\n   'title': 'Merchant Wholesalers: Inventories to Sales Ratio',\n   'observation_start': '1992-01-01',\n   'observation_end': '2020-07-01',\n   'frequency': 'Monthly',\n   'frequency_short': 'M',\n   'units': 'Ratio',\n   'units_short': 'Ratio',\n   'seasonal_adjustment': 'Seasonally Adjusted',\n   'seasonal_adjustment_short': 'SA',\n   'last_updated': '2020-09-16 09:11:20-05',\n   'popularity': 32,\n   'group_popularity': 32,\n   'notes': 'The inventories to sales ratios show the relationship of the end-of-month values of inventory to the monthly sales. These ratios can be looked at as indications of the number of months of inventory that are on hand in relation to the sales for a month. For example, a ratio of 2.5 would indicate that wholesalers have enough merchandise on hand to cover two and a half months of sales.'},\n  {'id': 'WHLSLRMPCIMNSA',\n   'realtime_start': '2020-09-30',\n   'realtime_end': '2020-09-30',\n   'title': 'Merchant Wholesalers Inventories',\n   'observation_start': '1992-02-01',\n   'observation_end': '2020-07-01',\n   'frequency': 'Monthly',\n   'frequency_short': 'M',\n   'units': 'Percent Change',\n   'units_short': '% Chg.',\n   'seasonal_adjustment': 'Not Seasonally Adjusted',\n   'seasonal_adjustment_short': 'NSA',\n   'last_updated': '2020-09-16 09:11:55-05',\n   'popularity': 1,\n   'group_popularity': 27},\n  {'id': 'WHLSLRMPCIMSA',\n   'realtime_start': '2020-09-30',\n   'realtime_end': '2020-09-30',\n   'title': 'Merchant Wholesalers Inventories',\n   'observation_start': '1992-02-01',\n   'observation_end': '2020-07-01',\n   'frequency': 'Monthly',\n   'frequency_short': 'M',\n   'units': 'Percent Change',\n   'units_short': '% Chg.',\n   'seasonal_adjustment': 'Seasonally Adjusted',\n   'seasonal_adjustment_short': 'SA',\n   'last_updated': '2020-09-16 09:11:47-05',\n   'popularity': 7,\n   'group_popularity': 27},\n  {'id': 'WHLSLRMPCSMNSA',\n   'realtime_start': '2020-09-30',\n   'realtime_end': '2020-09-30',\n   'title': 'Merchant Wholesalers Sales',\n   'observation_start': '1992-02-01',\n   'observation_end': '2020-07-01',\n   'frequency': 'Monthly',\n   'frequency_short': 'M',\n   'units': 'Percent Change',\n   'units_short': '% Chg.',\n   'seasonal_adjustment': 'Not Seasonally Adjusted',\n   'seasonal_adjustment_short': 'NSA',\n   'last_updated': '2020-09-16 09:11:54-05',\n   'popularity': 1,\n   'group_popularity': 20},\n  {'id': 'WHLSLRMPCSMSA',\n   'realtime_start': '2020-09-30',\n   'realtime_end': '2020-09-30',\n   'title': 'Merchant Wholesalers Sales',\n   'observation_start': '1992-02-01',\n   'observation_end': '2020-07-01',\n   'frequency': 'Monthly',\n   'frequency_short': 'M',\n   'units': 'Percent Change',\n   'units_short': '% Chg.',\n   'seasonal_adjustment': 'Seasonally Adjusted',\n   'seasonal_adjustment_short': 'SA',\n   'last_updated': '2020-09-16 09:11:40-05',\n   'popularity': 2,\n   'group_popularity': 20},\n  {'id': 'WHLSLRSMNSA',\n   'realtime_start': '2020-09-30',\n   'realtime_end': '2020-09-30',\n   'title': 'Merchant Wholesalers Sales',\n   'observation_start': '1992-01-01',\n   'observation_end': '2020-07-01',\n   'frequency': 'Monthly',\n   'frequency_short': 'M',\n   'units': 'Millions of Dollars',\n   'units_short': 'Mil. of $',\n   'seasonal_adjustment': 'Not Seasonally Adjusted',\n   'seasonal_adjustment_short': 'NSA',\n   'last_updated': '2020-09-16 09:11:47-05',\n   'popularity': 2,\n   'group_popularity': 20},\n  {'id': 'WHLSLRSMSA',\n   'realtime_start': '2020-09-30',\n   'realtime_end': '2020-09-30',\n   'title': 'Merchant Wholesalers Sales',\n   'observation_start': '1992-01-01',\n   'observation_end': '2020-07-01',\n   'frequency': 'Monthly',\n   'frequency_short': 'M',\n   'units': 'Millions of Dollars',\n   'units_short': 'Mil. of $',\n   'seasonal_adjustment': 'Seasonally Adjusted',\n   'seasonal_adjustment_short': 'SA',\n   'last_updated': '2020-09-16 09:11:21-05',\n   'popularity': 19,\n   'group_popularity': 20}]}"
     },
     "metadata": {},
     "execution_count": 30
    }
   ],
   "source": [
    "fred.category_series(33203)"
   ]
  },
  {
   "cell_type": "code",
   "execution_count": null,
   "metadata": {},
   "outputs": [],
   "source": [
    "class Node(object):\n",
    "    \"\"\" Node in graph \"\"\"\n",
    "    def __init__(self, id):\n",
    "        self.id = id\n",
    "        self.children = fred.children(id)"
   ]
  },
  {
   "cell_type": "code",
   "execution_count": null,
   "metadata": {},
   "outputs": [],
   "source": [
    "def dfs(visited, graph, node):\n",
    "    if node not in visited:\n",
    "        print(node)\n",
    "        visited.add(node)\n",
    "        for children "
   ]
  },
  {
   "cell_type": "code",
   "execution_count": 17,
   "metadata": {},
   "outputs": [
    {
     "output_type": "execute_result",
     "data": {
      "text/plain": "{'categories': [{'id': 32262,\n   'name': 'Business Cycle Expansions & Contractions',\n   'parent_id': 1},\n  {'id': 33936, 'name': 'Business Surveys', 'parent_id': 1},\n  {'id': 32436, 'name': 'Construction', 'parent_id': 1},\n  {'id': 33940, 'name': 'Emissions', 'parent_id': 1},\n  {'id': 33490, 'name': 'Finance Companies', 'parent_id': 1},\n  {'id': 32216, 'name': 'Health Insurance', 'parent_id': 1},\n  {'id': 97, 'name': 'Housing', 'parent_id': 1},\n  {'id': 3,\n   'name': 'Industrial Production & Capacity Utilization',\n   'parent_id': 1},\n  {'id': 32429, 'name': 'Manufacturing', 'parent_id': 1},\n  {'id': 6, 'name': 'Retail Trade', 'parent_id': 1},\n  {'id': 33441, 'name': 'Services', 'parent_id': 1},\n  {'id': 33492, 'name': 'Technology', 'parent_id': 1},\n  {'id': 33202, 'name': 'Transportation', 'parent_id': 1},\n  {'id': 33203, 'name': 'Wholesale Trade', 'parent_id': 1}]}"
     },
     "metadata": {},
     "execution_count": 17
    }
   ],
   "source": [
    "fred.children(1)"
   ]
  },
  {
   "cell_type": "code",
   "execution_count": null,
   "metadata": {},
   "outputs": [],
   "source": [
    "for i in range(1, 32):\n"
   ]
  },
  {
   "cell_type": "code",
   "execution_count": 6,
   "metadata": {},
   "outputs": [
    {
     "output_type": "execute_result",
     "data": {
      "text/plain": "{'categories': [{'id': 1,\n   'name': 'Production & Business Activity',\n   'parent_id': 0}]}"
     },
     "metadata": {},
     "execution_count": 6
    }
   ],
   "source": [
    "fred.categories(1) # 1 -> 31"
   ]
  },
  {
   "cell_type": "code",
   "execution_count": 7,
   "metadata": {},
   "outputs": [
    {
     "output_type": "execute_result",
     "data": {
      "text/plain": "{'categories': [{'id': 32262,\n   'name': 'Business Cycle Expansions & Contractions',\n   'parent_id': 1},\n  {'id': 33936, 'name': 'Business Surveys', 'parent_id': 1},\n  {'id': 32436, 'name': 'Construction', 'parent_id': 1},\n  {'id': 33940, 'name': 'Emissions', 'parent_id': 1},\n  {'id': 33490, 'name': 'Finance Companies', 'parent_id': 1},\n  {'id': 32216, 'name': 'Health Insurance', 'parent_id': 1},\n  {'id': 97, 'name': 'Housing', 'parent_id': 1},\n  {'id': 3,\n   'name': 'Industrial Production & Capacity Utilization',\n   'parent_id': 1},\n  {'id': 32429, 'name': 'Manufacturing', 'parent_id': 1},\n  {'id': 6, 'name': 'Retail Trade', 'parent_id': 1},\n  {'id': 33441, 'name': 'Services', 'parent_id': 1},\n  {'id': 33492, 'name': 'Technology', 'parent_id': 1},\n  {'id': 33202, 'name': 'Transportation', 'parent_id': 1},\n  {'id': 33203, 'name': 'Wholesale Trade', 'parent_id': 1}]}"
     },
     "metadata": {},
     "execution_count": 7
    }
   ],
   "source": [
    "fred.children()"
   ]
  },
  {
   "cell_type": "code",
   "execution_count": 12,
   "metadata": {
    "tags": []
   },
   "outputs": [
    {
     "output_type": "stream",
     "name": "stdout",
     "text": "32262 {'categories': []}\n33936 {'categories': []}\n32436 {'categories': []}\n33940 {'categories': []}\n33490 {'categories': []}\n32216 {'categories': []}\n97 {'categories': [{'id': 32300, 'name': 'Housing Units Authorized by Building Permits', 'parent_id': 97}, {'id': 32301, 'name': 'Housing Units Authorized, But Not Yet Started', 'parent_id': 97}, {'id': 32302, 'name': 'Housing Starts', 'parent_id': 97}, {'id': 32303, 'name': 'Housing Units Under Construction', 'parent_id': 97}, {'id': 32304, 'name': 'Housing Units Completed', 'parent_id': 97}, {'id': 32426, 'name': 'New Residential Sales', 'parent_id': 97}, {'id': 33949, 'name': 'Manufactured Housing', 'parent_id': 97}]}\n3 {'categories': [{'id': 33938, 'name': 'Automotive Production Seasonal Factor', 'parent_id': 3}]}\n32429 {'categories': [{'id': 32432, 'name': 'Inventories', 'parent_id': 32429}, {'id': 32431, 'name': 'New Orders', 'parent_id': 32429}, {'id': 32433, 'name': 'Inventory to Shipments', 'parent_id': 32429}, {'id': 32435, 'name': 'Unfilled Orders', 'parent_id': 32429}, {'id': 32434, 'name': 'Unfilled Orders to Shipments', 'parent_id': 32429}, {'id': 32430, 'name': 'Shipments', 'parent_id': 32429}]}\n6 {'categories': []}\n33441 {'categories': []}\n33492 {'categories': []}\n33202 {'categories': [{'id': 32993, 'name': 'Motor Vehicles', 'parent_id': 33202}]}\n33203 {'categories': []}\n"
    }
   ],
   "source": [
    "children = fred.children(1)\n",
    "for c in children[\"categories\"]:\n",
    "    print(c[\"id\"], fred.children(c[\"id\"]))"
   ]
  },
  {
   "cell_type": "code",
   "execution_count": 15,
   "metadata": {},
   "outputs": [
    {
     "output_type": "execute_result",
     "data": {
      "text/plain": "{'categories': []}"
     },
     "metadata": {},
     "execution_count": 15
    }
   ],
   "source": [
    "fred.children(32993)"
   ]
  },
  {
   "cell_type": "code",
   "execution_count": 21,
   "metadata": {},
   "outputs": [],
   "source": [
    "fred.category_series(32993)\n",
    "x=1"
   ]
  },
  {
   "cell_type": "code",
   "execution_count": null,
   "metadata": {},
   "outputs": [],
   "source": [
    "def find_children(id)"
   ]
  },
  {
   "cell_type": "code",
   "execution_count": 22,
   "metadata": {
    "tags": []
   },
   "outputs": [],
   "source": [
    "all_ids = []\n",
    "for parent in range(1,32):\n",
    "    #print(i)\n",
    "    #find_children(parent)\n",
    "    pass"
   ]
  },
  {
   "cell_type": "code",
   "execution_count": 19,
   "metadata": {
    "tags": []
   },
   "outputs": [
    {
     "output_type": "stream",
     "name": "stdout",
     "text": "ATLSBUBEI\nATLSBUBUI\nATLSBUEGEI\nATLSBUEGEP\nATLSBUEGUI\nATLSBUEGUP\nATLSBUIREI\nATLSBUIRUI\nATLSBUSGEI\nATLSBUSGUI\nATLSBUSRGEP\nATLSBUSRGUP\n"
    }
   ],
   "source": [
    "for s in fred.category_series(33936)[\"seriess\"]:\n",
    "    print(s[\"id\"])"
   ]
  },
  {
   "cell_type": "code",
   "execution_count": 9,
   "metadata": {},
   "outputs": [
    {
     "output_type": "execute_result",
     "data": {
      "text/plain": "{'realtime_start': '2020-09-25',\n 'realtime_end': '2020-09-25',\n 'observation_start': '1600-01-01',\n 'observation_end': '9999-12-31',\n 'units': 'lin',\n 'output_type': 1,\n 'file_type': 'json',\n 'order_by': 'observation_date',\n 'sort_order': 'asc',\n 'count': 67,\n 'offset': 0,\n 'limit': 100000,\n 'observations': [{'realtime_start': '2020-09-25',\n   'realtime_end': '2020-09-25',\n   'date': '2015-01-01',\n   'value': '88.33562'},\n  {'realtime_start': '2020-09-25',\n   'realtime_end': '2020-09-25',\n   'date': '2015-02-01',\n   'value': '89.52779'},\n  {'realtime_start': '2020-09-25',\n   'realtime_end': '2020-09-25',\n   'date': '2015-03-01',\n   'value': '93.91851'},\n  {'realtime_start': '2020-09-25',\n   'realtime_end': '2020-09-25',\n   'date': '2015-04-01',\n   'value': '91.43681'},\n  {'realtime_start': '2020-09-25',\n   'realtime_end': '2020-09-25',\n   'date': '2015-05-01',\n   'value': '92.69312'},\n  {'realtime_start': '2020-09-25',\n   'realtime_end': '2020-09-25',\n   'date': '2015-06-01',\n   'value': '92.05122'},\n  {'realtime_start': '2020-09-25',\n   'realtime_end': '2020-09-25',\n   'date': '2015-07-01',\n   'value': '89.2875'},\n  {'realtime_start': '2020-09-25',\n   'realtime_end': '2020-09-25',\n   'date': '2015-08-01',\n   'value': '97.53385'},\n  {'realtime_start': '2020-09-25',\n   'realtime_end': '2020-09-25',\n   'date': '2015-09-01',\n   'value': '99.45322'},\n  {'realtime_start': '2020-09-25',\n   'realtime_end': '2020-09-25',\n   'date': '2015-10-01',\n   'value': '97.05824'},\n  {'realtime_start': '2020-09-25',\n   'realtime_end': '2020-09-25',\n   'date': '2015-11-01',\n   'value': '97.81676'},\n  {'realtime_start': '2020-09-25',\n   'realtime_end': '2020-09-25',\n   'date': '2015-12-01',\n   'value': '95.83467'},\n  {'realtime_start': '2020-09-25',\n   'realtime_end': '2020-09-25',\n   'date': '2016-01-01',\n   'value': '96.92968'},\n  {'realtime_start': '2020-09-25',\n   'realtime_end': '2020-09-25',\n   'date': '2016-02-01',\n   'value': '94.83401'},\n  {'realtime_start': '2020-09-25',\n   'realtime_end': '2020-09-25',\n   'date': '2016-03-01',\n   'value': '95.93616'},\n  {'realtime_start': '2020-09-25',\n   'realtime_end': '2020-09-25',\n   'date': '2016-04-01',\n   'value': '98.02985'},\n  {'realtime_start': '2020-09-25',\n   'realtime_end': '2020-09-25',\n   'date': '2016-05-01',\n   'value': '89.17377'},\n  {'realtime_start': '2020-09-25',\n   'realtime_end': '2020-09-25',\n   'date': '2016-06-01',\n   'value': '88.31049'},\n  {'realtime_start': '2020-09-25',\n   'realtime_end': '2020-09-25',\n   'date': '2016-07-01',\n   'value': '88.90655'},\n  {'realtime_start': '2020-09-25',\n   'realtime_end': '2020-09-25',\n   'date': '2016-08-01',\n   'value': '87.27869'},\n  {'realtime_start': '2020-09-25',\n   'realtime_end': '2020-09-25',\n   'date': '2016-09-01',\n   'value': '90.17211'},\n  {'realtime_start': '2020-09-25',\n   'realtime_end': '2020-09-25',\n   'date': '2016-10-01',\n   'value': '92.21151'},\n  {'realtime_start': '2020-09-25',\n   'realtime_end': '2020-09-25',\n   'date': '2016-11-01',\n   'value': '95.13334'},\n  {'realtime_start': '2020-09-25',\n   'realtime_end': '2020-09-25',\n   'date': '2016-12-01',\n   'value': '95.1319'},\n  {'realtime_start': '2020-09-25',\n   'realtime_end': '2020-09-25',\n   'date': '2017-01-01',\n   'value': '92.7454'},\n  {'realtime_start': '2020-09-25',\n   'realtime_end': '2020-09-25',\n   'date': '2017-02-01',\n   'value': '102.2772'},\n  {'realtime_start': '2020-09-25',\n   'realtime_end': '2020-09-25',\n   'date': '2017-03-01',\n   'value': '103.5058'},\n  {'realtime_start': '2020-09-25',\n   'realtime_end': '2020-09-25',\n   'date': '2017-04-01',\n   'value': '107.1968'},\n  {'realtime_start': '2020-09-25',\n   'realtime_end': '2020-09-25',\n   'date': '2017-05-01',\n   'value': '101.6792'},\n  {'realtime_start': '2020-09-25',\n   'realtime_end': '2020-09-25',\n   'date': '2017-06-01',\n   'value': '98.18374'},\n  {'realtime_start': '2020-09-25',\n   'realtime_end': '2020-09-25',\n   'date': '2017-07-01',\n   'value': '89.59905'},\n  {'realtime_start': '2020-09-25',\n   'realtime_end': '2020-09-25',\n   'date': '2017-08-01',\n   'value': '95.43449'},\n  {'realtime_start': '2020-09-25',\n   'realtime_end': '2020-09-25',\n   'date': '2017-09-01',\n   'value': '93.03184'},\n  {'realtime_start': '2020-09-25',\n   'realtime_end': '2020-09-25',\n   'date': '2017-10-01',\n   'value': '98.49754'},\n  {'realtime_start': '2020-09-25',\n   'realtime_end': '2020-09-25',\n   'date': '2017-11-01',\n   'value': '94.16138'},\n  {'realtime_start': '2020-09-25',\n   'realtime_end': '2020-09-25',\n   'date': '2017-12-01',\n   'value': '107.2039'},\n  {'realtime_start': '2020-09-25',\n   'realtime_end': '2020-09-25',\n   'date': '2018-01-01',\n   'value': '107.882'},\n  {'realtime_start': '2020-09-25',\n   'realtime_end': '2020-09-25',\n   'date': '2018-02-01',\n   'value': '110.2291'},\n  {'realtime_start': '2020-09-25',\n   'realtime_end': '2020-09-25',\n   'date': '2018-03-01',\n   'value': '109.2534'},\n  {'realtime_start': '2020-09-25',\n   'realtime_end': '2020-09-25',\n   'date': '2018-04-01',\n   'value': '115.5923'},\n  {'realtime_start': '2020-09-25',\n   'realtime_end': '2020-09-25',\n   'date': '2018-05-01',\n   'value': '114.632'},\n  {'realtime_start': '2020-09-25',\n   'realtime_end': '2020-09-25',\n   'date': '2018-06-01',\n   'value': '113.5369'},\n  {'realtime_start': '2020-09-25',\n   'realtime_end': '2020-09-25',\n   'date': '2018-07-01',\n   'value': '115.1182'},\n  {'realtime_start': '2020-09-25',\n   'realtime_end': '2020-09-25',\n   'date': '2018-08-01',\n   'value': '117.0967'},\n  {'realtime_start': '2020-09-25',\n   'realtime_end': '2020-09-25',\n   'date': '2018-09-01',\n   'value': '117.7053'},\n  {'realtime_start': '2020-09-25',\n   'realtime_end': '2020-09-25',\n   'date': '2018-10-01',\n   'value': '120.5285'},\n  {'realtime_start': '2020-09-25',\n   'realtime_end': '2020-09-25',\n   'date': '2018-11-01',\n   'value': '121.642'},\n  {'realtime_start': '2020-09-25',\n   'realtime_end': '2020-09-25',\n   'date': '2018-12-01',\n   'value': '116.2718'},\n  {'realtime_start': '2020-09-25',\n   'realtime_end': '2020-09-25',\n   'date': '2019-01-01',\n   'value': '104.424'},\n  {'realtime_start': '2020-09-25',\n   'realtime_end': '2020-09-25',\n   'date': '2019-02-01',\n   'value': '96.30399'},\n  {'realtime_start': '2020-09-25',\n   'realtime_end': '2020-09-25',\n   'date': '2019-03-01',\n   'value': '95.99884'},\n  {'realtime_start': '2020-09-25',\n   'realtime_end': '2020-09-25',\n   'date': '2019-04-01',\n   'value': '101.5169'},\n  {'realtime_start': '2020-09-25',\n   'realtime_end': '2020-09-25',\n   'date': '2019-05-01',\n   'value': '104.8812'},\n  {'realtime_start': '2020-09-25',\n   'realtime_end': '2020-09-25',\n   'date': '2019-06-01',\n   'value': '104.2395'},\n  {'realtime_start': '2020-09-25',\n   'realtime_end': '2020-09-25',\n   'date': '2019-07-01',\n   'value': '94.88969'},\n  {'realtime_start': '2020-09-25',\n   'realtime_end': '2020-09-25',\n   'date': '2019-08-01',\n   'value': '92.38857'},\n  {'realtime_start': '2020-09-25',\n   'realtime_end': '2020-09-25',\n   'date': '2019-09-01',\n   'value': '87.7662'},\n  {'realtime_start': '2020-09-25',\n   'realtime_end': '2020-09-25',\n   'date': '2019-10-01',\n   'value': '88.61639'},\n  {'realtime_start': '2020-09-25',\n   'realtime_end': '2020-09-25',\n   'date': '2019-11-01',\n   'value': '90.90861'},\n  {'realtime_start': '2020-09-25',\n   'realtime_end': '2020-09-25',\n   'date': '2019-12-01',\n   'value': '93.02451'},\n  {'realtime_start': '2020-09-25',\n   'realtime_end': '2020-09-25',\n   'date': '2020-01-01',\n   'value': '103.0721'},\n  {'realtime_start': '2020-09-25',\n   'realtime_end': '2020-09-25',\n   'date': '2020-02-01',\n   'value': '103.8947'},\n  {'realtime_start': '2020-09-25',\n   'realtime_end': '2020-09-25',\n   'date': '2020-03-01',\n   'value': '83.71452'},\n  {'realtime_start': '2020-09-25',\n   'realtime_end': '2020-09-25',\n   'date': '2020-04-01',\n   'value': '47.50996'},\n  {'realtime_start': '2020-09-25',\n   'realtime_end': '2020-09-25',\n   'date': '2020-05-01',\n   'value': '25.52114'},\n  {'realtime_start': '2020-09-25',\n   'realtime_end': '2020-09-25',\n   'date': '2020-06-01',\n   'value': '34.52319'},\n  {'realtime_start': '2020-09-25',\n   'realtime_end': '2020-09-25',\n   'date': '2020-07-01',\n   'value': '56.97071'}]}"
     },
     "metadata": {},
     "execution_count": 9
    }
   ],
   "source": [
    "fred.observations(\"ATLSBUBEI\")"
   ]
  },
  {
   "cell_type": "code",
   "execution_count": 8,
   "metadata": {},
   "outputs": [
    {
     "output_type": "execute_result",
     "data": {
      "text/plain": "['88.33562',\n '89.52779',\n '93.91851',\n '91.43681',\n '92.69312',\n '92.05122',\n '89.2875',\n '97.53385',\n '99.45322',\n '97.05824',\n '97.81676',\n '95.83467',\n '96.92968',\n '94.83401',\n '95.93616',\n '98.02985',\n '89.17377',\n '88.31049',\n '88.90655',\n '87.27869',\n '90.17211',\n '92.21151',\n '95.13334',\n '95.1319',\n '92.7454',\n '102.2772',\n '103.5058',\n '107.1968',\n '101.6792',\n '98.18374',\n '89.59905',\n '95.43449',\n '93.03184',\n '98.49754',\n '94.16138',\n '107.2039',\n '107.882',\n '110.2291',\n '109.2534',\n '115.5923',\n '114.632',\n '113.5369',\n '115.1182',\n '117.0967',\n '117.7053',\n '120.5285',\n '121.642',\n '116.2718',\n '104.424',\n '96.30399',\n '95.99884',\n '101.5169',\n '104.8812',\n '104.2395',\n '94.88969',\n '92.38857',\n '87.7662',\n '88.61639',\n '90.90861',\n '93.02451',\n '103.0721',\n '103.8947',\n '83.71452',\n '47.50996',\n '25.52114',\n '34.52319',\n '56.97071']"
     },
     "metadata": {},
     "execution_count": 8
    }
   ],
   "source": [
    "[el[\"value\"] for el in fred.observations(\"ATLSBUBEI\")[\"observations\"]]"
   ]
  },
  {
   "cell_type": "code",
   "execution_count": 17,
   "metadata": {
    "tags": []
   },
   "outputs": [
    {
     "output_type": "stream",
     "name": "stdout",
     "text": "ATLSBUBEI\nATLSBUBUI\nATLSBUEGEI\nATLSBUEGEP\nATLSBUEGUI\nATLSBUEGUP\nATLSBUIREI\nATLSBUIRUI\nATLSBUSGEI\nATLSBUSGUI\nATLSBUSRGEP\nATLSBUSRGUP\n"
    }
   ],
   "source": [
    "for s in fred.category_series(33936)[\"seriess\"]:\n",
    "    print(s[\"id\"])"
   ]
  },
  {
   "cell_type": "code",
   "execution_count": null,
   "metadata": {},
   "outputs": [],
   "source": []
  },
  {
   "cell_type": "code",
   "execution_count": 30,
   "metadata": {
    "tags": []
   },
   "outputs": [
    {
     "output_type": "stream",
     "name": "stdout",
     "text": "260 ms ± 11.4 ms per loop (mean ± std. dev. of 7 runs, 1 loop each)\n"
    }
   ],
   "source": [
    "%%timeit\n",
    "values = []\n",
    "for obs in fred.observations(\"ATLSBUBEI\")[\"observations\"]:\n",
    "    values.append(obs[\"value\"])"
   ]
  },
  {
   "cell_type": "code",
   "execution_count": 33,
   "metadata": {},
   "outputs": [
    {
     "output_type": "execute_result",
     "data": {
      "text/plain": "55.68333333333333"
     },
     "metadata": {},
     "execution_count": 33
    }
   ],
   "source": [
    "260*0.001*771000 / 3600"
   ]
  },
  {
   "cell_type": "code",
   "execution_count": 23,
   "metadata": {},
   "outputs": [
    {
     "output_type": "execute_result",
     "data": {
      "text/plain": "{'categories': [{'id': 1,\n   'name': 'Production & Business Activity',\n   'parent_id': 0}]}"
     },
     "metadata": {},
     "execution_count": 23
    }
   ],
   "source": [
    "fred.categories(1)"
   ]
  },
  {
   "cell_type": "code",
   "execution_count": 24,
   "metadata": {},
   "outputs": [
    {
     "output_type": "execute_result",
     "data": {
      "text/plain": "{'realtime_start': '2020-09-23',\n 'realtime_end': '2020-09-23',\n 'order_by': 'series_id',\n 'sort_order': 'asc',\n 'count': 0,\n 'offset': 0,\n 'limit': 1000,\n 'seriess': []}"
     },
     "metadata": {},
     "execution_count": 24
    }
   ],
   "source": [
    "fred.category(series=True)"
   ]
  },
  {
   "cell_type": "code",
   "execution_count": 26,
   "metadata": {},
   "outputs": [
    {
     "output_type": "execute_result",
     "data": {
      "text/plain": "{'realtime_start': '2020-09-24',\n 'realtime_end': '2020-09-24',\n 'order_by': 'series_id',\n 'sort_order': 'asc',\n 'count': 12,\n 'offset': 0,\n 'limit': 1000,\n 'seriess': [{'id': 'ATLSBUBEI',\n   'realtime_start': '2020-09-24',\n   'realtime_end': '2020-09-24',\n   'title': 'Business Expectations Index (DISCONTINUED)',\n   'observation_start': '2015-01-01',\n   'observation_end': '2020-07-01',\n   'frequency': 'Monthly',\n   'frequency_short': 'M',\n   'units': 'Index 2015-2018=100',\n   'units_short': 'Index 2015-2018=100',\n   'seasonal_adjustment': 'Not Seasonally Adjusted',\n   'seasonal_adjustment_short': 'NSA',\n   'last_updated': '2020-07-29 10:01:03-05',\n   'popularity': 25,\n   'group_popularity': 25,\n   'notes': \"This series was discontinued by the source following revisions to the methodology and panel design for the Survey of Business Uncertainty. For more details, see the revised methodology (https://www.frbatlanta.org/-/media/documents/research/surveys/business-uncertainty/survey-of-business-uncertainty-methodology.pdf).\\n\\nThis index reflects firms' expectations about the growth of their own sales, employment, and capital expenditures over the next 12 months. The index can respond to news about the overall economy, changes in business sentiment, policy developments, stock market moves, interest rate changes, and changes in the outlook of firms in the sample. The expectations index captures the expected direction and magnitude of each change for sample firms. Each index is standardized to have mean and variance of 100 during the period from January 2015 to December 2018.\\n\\nFor more details about the index or the survey, visit the Survey of Business Uncertainty (https://www.frbatlanta.org/research/surveys/business-uncertainty.aspx).\"},\n  {'id': 'ATLSBUBUI',\n   'realtime_start': '2020-09-24',\n   'realtime_end': '2020-09-24',\n   'title': 'Business Uncertainty Index (DISCONTINUED)',\n   'observation_start': '2015-01-01',\n   'observation_end': '2020-07-01',\n   'frequency': 'Monthly',\n   'frequency_short': 'M',\n   'units': 'Index 2015-2018=100',\n   'units_short': 'Index 2015-2018=100',\n   'seasonal_adjustment': 'Not Seasonally Adjusted',\n   'seasonal_adjustment_short': 'NSA',\n   'last_updated': '2020-07-29 10:01:04-05',\n   'popularity': 14,\n   'group_popularity': 14,\n   'notes': \"This series was discontinued by the source following revisions to the methodology and panel design for the Survey of Business Uncertainty. For more details, see the revised methodology (https://www.frbatlanta.org/-/media/documents/research/surveys/business-uncertainty/survey-of-business-uncertainty-methodology.pdf).\\n\\nThis index reflects firms' uncertainty about the growth of their own sales, employment, and capital expenditures over the next 12 months. The index can respond to news about the overall economy, changes in business sentiment, policy developments, stock market moves, interest rate changes, and changes in the outlook of firms in the sample. The uncertainty index captures uncertainty about the outlook for sample firms. Each index is standardized to have mean and variance of 100 during the period from January 2015 to December 2018.\\n\\nFor more details about the index or the survey, visit the Survey of Business Uncertainty (https://www.frbatlanta.org/research/surveys/business-uncertainty.aspx).\"},\n  {'id': 'ATLSBUEGEI',\n   'realtime_start': '2020-09-24',\n   'realtime_end': '2020-09-24',\n   'title': 'Business Expectations: Employment Growth Index (DISCONTINUED)',\n   'observation_start': '2015-01-01',\n   'observation_end': '2020-07-01',\n   'frequency': 'Monthly',\n   'frequency_short': 'M',\n   'units': 'Index',\n   'units_short': 'Index',\n   'seasonal_adjustment': 'Not Seasonally Adjusted',\n   'seasonal_adjustment_short': 'NSA',\n   'last_updated': '2020-07-29 10:01:04-05',\n   'popularity': 12,\n   'group_popularity': 12,\n   'notes': \"This series was discontinued by the source following revisions to the methodology and panel design for the Survey of Business Uncertainty. For more details, see the revised methodology (https://www.frbatlanta.org/-/media/documents/research/surveys/business-uncertainty/survey-of-business-uncertainty-methodology.pdf).\\n\\nThis index reflects firms' mean subjective expectations about the growth of their own employment over the next 12 months. The index can respond to news about the overall economy, changes in business sentiment, policy developments, stock market moves, interest rate changes, and changes in the outlook of firms in the sample. The expectations index captures the expected direction and magnitude of each change for sample firms.\\n\\nFor more details about the index or the survey, visit the Survey of Business Uncertainty (https://www.frbatlanta.org/research/surveys/business-uncertainty.aspx).\"},\n  {'id': 'ATLSBUEGEP',\n   'realtime_start': '2020-09-24',\n   'realtime_end': '2020-09-24',\n   'title': 'Business Expectations: Employment Growth',\n   'observation_start': '2016-12-01',\n   'observation_end': '2020-08-01',\n   'frequency': 'Monthly',\n   'frequency_short': 'M',\n   'units': 'Percent',\n   'units_short': '%',\n   'seasonal_adjustment': 'Not Seasonally Adjusted',\n   'seasonal_adjustment_short': 'NSA',\n   'last_updated': '2020-09-09 11:37:50-05',\n   'popularity': 4,\n   'group_popularity': 4,\n   'notes': \"This index reflects firms' expectations about the growth of their own employment levels over the next 12 months.\\n\\nFor more details about the methodology or the survey, visit the Survey of Business Uncertainty (https://www.frbatlanta.org/research/surveys/business-uncertainty.aspx).\"},\n  {'id': 'ATLSBUEGUI',\n   'realtime_start': '2020-09-24',\n   'realtime_end': '2020-09-24',\n   'title': 'Business Uncertainty: Employment Growth Index (DISCONTINUED)',\n   'observation_start': '2015-01-01',\n   'observation_end': '2020-07-01',\n   'frequency': 'Monthly',\n   'frequency_short': 'M',\n   'units': 'Index',\n   'units_short': 'Index',\n   'seasonal_adjustment': 'Not Seasonally Adjusted',\n   'seasonal_adjustment_short': 'NSA',\n   'last_updated': '2020-07-29 10:01:06-05',\n   'popularity': 6,\n   'group_popularity': 5,\n   'notes': \"This series was discontinued by the source following revisions to the methodology and panel design for the Survey of Business Uncertainty. For more details, see the revised methodology (https://www.frbatlanta.org/-/media/documents/research/surveys/business-uncertainty/survey-of-business-uncertainty-methodology.pdf).\\n\\nThis index reflects firms' uncertainty about the growth of their own employment over the next 12 months. The index can respond to news about the overall economy, changes in business sentiment, policy developments, stock market moves, interest rate changes, and changes in the outlook of firms in the sample. The uncertainty index captures uncertainty about the outlook for sample firms.\\n\\nFor more details about the index or the survey, visit the Survey of Business Uncertainty (https://www.frbatlanta.org/research/surveys/business-uncertainty.aspx).\"},\n  {'id': 'ATLSBUEGUP',\n   'realtime_start': '2020-09-24',\n   'realtime_end': '2020-09-24',\n   'title': 'Business Uncertainty: Employment Growth',\n   'observation_start': '2016-12-01',\n   'observation_end': '2020-08-01',\n   'frequency': 'Monthly',\n   'frequency_short': 'M',\n   'units': 'Percent',\n   'units_short': '%',\n   'seasonal_adjustment': 'Not Seasonally Adjusted',\n   'seasonal_adjustment_short': 'NSA',\n   'last_updated': '2020-09-09 11:37:51-05',\n   'popularity': 7,\n   'group_popularity': 7,\n   'notes': \"This index reflects firms' uncertainty about the growth of their own employment levels over the next 12 months.\\n\\nFor more details about the methodology or the survey, visit the Survey of Business Uncertainty (https://www.frbatlanta.org/research/surveys/business-uncertainty.aspx).\"},\n  {'id': 'ATLSBUIREI',\n   'realtime_start': '2020-09-24',\n   'realtime_end': '2020-09-24',\n   'title': 'Business Expectations: Capital Investment Rate Index (DISCONTINUED)',\n   'observation_start': '2015-01-01',\n   'observation_end': '2020-07-01',\n   'frequency': 'Monthly',\n   'frequency_short': 'M',\n   'units': 'Index',\n   'units_short': 'Index',\n   'seasonal_adjustment': 'Not Seasonally Adjusted',\n   'seasonal_adjustment_short': 'NSA',\n   'last_updated': '2020-07-29 10:01:01-05',\n   'popularity': 32,\n   'group_popularity': 32,\n   'notes': \"This series was discontinued by the source following revisions to the methodology and panel design for the Survey of Business Uncertainty. For more details, see the revised methodology (https://www.frbatlanta.org/-/media/documents/research/surveys/business-uncertainty/survey-of-business-uncertainty-methodology.pdf).\\n\\nThis index reflects firms' mean subjective expectations about the growth of their own capital expenditures over the next 12 months. The index can respond to news about the overall economy, changes in business sentiment, policy developments, stock market moves, interest rate changes, and changes in the outlook of firms in the sample. The expectations index captures the expected direction and magnitude of each change for sample firms.\\n\\nFor more details about the index or the survey, visit the Survey of Business Uncertainty (https://www.frbatlanta.org/research/surveys/business-uncertainty.aspx).\"},\n  {'id': 'ATLSBUIRUI',\n   'realtime_start': '2020-09-24',\n   'realtime_end': '2020-09-24',\n   'title': 'Business Uncertainty: Capital Investment Rate Index (DISCONTINUED)',\n   'observation_start': '2015-01-01',\n   'observation_end': '2020-07-01',\n   'frequency': 'Monthly',\n   'frequency_short': 'M',\n   'units': 'Index',\n   'units_short': 'Index',\n   'seasonal_adjustment': 'Not Seasonally Adjusted',\n   'seasonal_adjustment_short': 'NSA',\n   'last_updated': '2020-07-29 10:01:07-05',\n   'popularity': 9,\n   'group_popularity': 8,\n   'notes': \"This series was discontinued by the source following revisions to the methodology and panel design for the Survey of Business Uncertainty. For more details, see the revised methodology (https://www.frbatlanta.org/-/media/documents/research/surveys/business-uncertainty/survey-of-business-uncertainty-methodology.pdf).\\n\\nThis index reflects firms' uncertainty about the growth of their own capital expenditures over the next 12 months. The index can respond to news about the overall economy, changes in business sentiment, policy developments, stock market moves, interest rate changes, and changes in the outlook of firms in the sample. The uncertainty index captures uncertainty about the outlook for sample firms.\\n\\nFor more details about the index or the survey, visit the Survey of Business Uncertainty (https://www.frbatlanta.org/research/surveys/business-uncertainty.aspx).\"},\n  {'id': 'ATLSBUSGEI',\n   'realtime_start': '2020-09-24',\n   'realtime_end': '2020-09-24',\n   'title': 'Business Expectations: Sales Growth Index (DISCONTINUED)',\n   'observation_start': '2015-01-01',\n   'observation_end': '2020-07-01',\n   'frequency': 'Monthly',\n   'frequency_short': 'M',\n   'units': 'Index',\n   'units_short': 'Index',\n   'seasonal_adjustment': 'Not Seasonally Adjusted',\n   'seasonal_adjustment_short': 'NSA',\n   'last_updated': '2020-07-29 10:01:05-05',\n   'popularity': 9,\n   'group_popularity': 9,\n   'notes': \"This series was discontinued by the source following revisions to the methodology and panel design for the Survey of Business Uncertainty. For more details, see the revised methodology (https://www.frbatlanta.org/-/media/documents/research/surveys/business-uncertainty/survey-of-business-uncertainty-methodology.pdf).\\n\\nThis index reflects firms' mean subjective expectations about the growth of their own sales over the next 12 months. The index can respond to news about the overall economy, changes in business sentiment, policy developments, stock market moves, interest rate changes, and changes in the outlook of firms in the sample. The expectations index captures the expected direction and magnitude of each change for sample firms.\\n\\nFor more details about the index or the survey, visit the Survey of Business Uncertainty (https://www.frbatlanta.org/research/surveys/business-uncertainty.aspx).\"},\n  {'id': 'ATLSBUSGUI',\n   'realtime_start': '2020-09-24',\n   'realtime_end': '2020-09-24',\n   'title': 'Business Uncertainty: Sales Growth Index (DISCONTINUED)',\n   'observation_start': '2015-01-01',\n   'observation_end': '2020-07-01',\n   'frequency': 'Monthly',\n   'frequency_short': 'M',\n   'units': 'Index',\n   'units_short': 'Index',\n   'seasonal_adjustment': 'Not Seasonally Adjusted',\n   'seasonal_adjustment_short': 'NSA',\n   'last_updated': '2020-07-29 10:01:07-05',\n   'popularity': 5,\n   'group_popularity': 5,\n   'notes': \"This series was discontinued by the source following revisions to the methodology and panel design for the Survey of Business Uncertainty. For more details, see the revised methodology (https://www.frbatlanta.org/-/media/documents/research/surveys/business-uncertainty/survey-of-business-uncertainty-methodology.pdf).\\n\\nThis index reflects firms' uncertainty about the growth of their own sales over the next 12 months. The index can respond to news about the overall economy, changes in business sentiment, policy developments, stock market moves, interest rate changes, and changes in the outlook of firms in the sample. The uncertainty index captures uncertainty about the outlook for sample firms.\\n\\nFor more details about the index or the survey, visit the Survey of Business Uncertainty (https://www.frbatlanta.org/research/surveys/business-uncertainty.aspx).\"},\n  {'id': 'ATLSBUSRGEP',\n   'realtime_start': '2020-09-24',\n   'realtime_end': '2020-09-24',\n   'title': 'Business Expectations: Sales Revenue Growth',\n   'observation_start': '2016-12-01',\n   'observation_end': '2020-08-01',\n   'frequency': 'Monthly',\n   'frequency_short': 'M',\n   'units': 'Percent',\n   'units_short': '%',\n   'seasonal_adjustment': 'Not Seasonally Adjusted',\n   'seasonal_adjustment_short': 'NSA',\n   'last_updated': '2020-09-09 11:37:51-05',\n   'popularity': 12,\n   'group_popularity': 12,\n   'notes': \"This index reflects firms' expectations about the growth of their own sales revenue over the next 12 months.\\n\\nFor more details about the methodology or the survey, visit the Survey of Business Uncertainty (https://www.frbatlanta.org/research/surveys/business-uncertainty.aspx).\"},\n  {'id': 'ATLSBUSRGUP',\n   'realtime_start': '2020-09-24',\n   'realtime_end': '2020-09-24',\n   'title': 'Business Uncertainty: Sales Revenue Growth',\n   'observation_start': '2016-12-01',\n   'observation_end': '2020-08-01',\n   'frequency': 'Monthly',\n   'frequency_short': 'M',\n   'units': 'Percent',\n   'units_short': '%',\n   'seasonal_adjustment': 'Not Seasonally Adjusted',\n   'seasonal_adjustment_short': 'NSA',\n   'last_updated': '2020-09-09 11:37:52-05',\n   'popularity': 8,\n   'group_popularity': 8,\n   'notes': \"This index reflects firms' uncertainty about the growth of their own sales revenue over the next 12 months.\\n\\nFor more details about the methodology or the survey, visit the Survey of Business Uncertainty (https://www.frbatlanta.org/research/surveys/business-uncertainty.aspx).\"}]}"
     },
     "metadata": {},
     "execution_count": 26
    }
   ],
   "source": [
    "fred.category_series(33936)"
   ]
  },
  {
   "cell_type": "code",
   "execution_count": 25,
   "metadata": {
    "tags": []
   },
   "outputs": [
    {
     "output_type": "stream",
     "name": "stdout",
     "text": "realtime_start\nrealtime_end\norder_by\nsort_order\ncount\noffset\nlimit\nseriess\n"
    }
   ],
   "source": [
    "for s in fred.category_series(33936):\n",
    "    print(s)"
   ]
  },
  {
   "cell_type": "code",
   "execution_count": 31,
   "metadata": {},
   "outputs": [
    {
     "output_type": "execute_result",
     "data": {
      "text/plain": "8"
     },
     "metadata": {},
     "execution_count": 31
    }
   ],
   "source": [
    "len(fred.releases())"
   ]
  },
  {
   "cell_type": "code",
   "execution_count": 34,
   "metadata": {},
   "outputs": [
    {
     "output_type": "execute_result",
     "data": {
      "text/plain": "8"
     },
     "metadata": {},
     "execution_count": 34
    }
   ],
   "source": [
    "len(fred.dates())"
   ]
  },
  {
   "cell_type": "code",
   "execution_count": 35,
   "metadata": {},
   "outputs": [
    {
     "output_type": "execute_result",
     "data": {
      "text/plain": "{'realtime_start': '2020-09-23',\n 'realtime_end': '2020-09-23',\n 'seriess': [{'id': 'GNPCA',\n   'realtime_start': '2020-09-23',\n   'realtime_end': '2020-09-23',\n   'title': 'Real Gross National Product',\n   'observation_start': '1929-01-01',\n   'observation_end': '2019-01-01',\n   'frequency': 'Annual',\n   'frequency_short': 'A',\n   'units': 'Billions of Chained 2012 Dollars',\n   'units_short': 'Bil. of Chn. 2012 $',\n   'seasonal_adjustment': 'Not Seasonally Adjusted',\n   'seasonal_adjustment_short': 'NSA',\n   'last_updated': '2020-07-30 07:57:33-05',\n   'popularity': 17,\n   'notes': 'BEA Account Code: A001RX\\n\\n'}]}"
     },
     "metadata": {},
     "execution_count": 35
    }
   ],
   "source": [
    "fred.series('GNPCA')"
   ]
  },
  {
   "cell_type": "code",
   "execution_count": 36,
   "metadata": {},
   "outputs": [
    {
     "output_type": "execute_result",
     "data": {
      "text/plain": "{'realtime_start': '2020-09-23',\n 'realtime_end': '2020-09-23',\n 'releases': [{'id': 53,\n   'realtime_start': '2020-09-23',\n   'realtime_end': '2020-09-23',\n   'name': 'Gross Domestic Product',\n   'press_release': True,\n   'link': 'https://www.bea.gov/data/gdp/gross-domestic-product'}]}"
     },
     "metadata": {},
     "execution_count": 36
    }
   ],
   "source": [
    "fred.series('GNPCA', release=True)"
   ]
  },
  {
   "cell_type": "code",
   "execution_count": 59,
   "metadata": {},
   "outputs": [
    {
     "output_type": "execute_result",
     "data": {
      "text/plain": "13"
     },
     "metadata": {},
     "execution_count": 59
    }
   ],
   "source": [
    "len(fred.observations('GNPCA'))"
   ]
  },
  {
   "cell_type": "code",
   "execution_count": 39,
   "metadata": {},
   "outputs": [
    {
     "output_type": "execute_result",
     "data": {
      "text/plain": "{'realtime_start': '2020-09-23',\n 'realtime_end': '2020-09-23',\n 'order_by': 'search_rank',\n 'sort_order': 'desc',\n 'count': 0,\n 'offset': 0,\n 'limit': 1000,\n 'seriess': []}"
     },
     "metadata": {},
     "execution_count": 39
    }
   ],
   "source": [
    "fred.search('search term')"
   ]
  },
  {
   "cell_type": "code",
   "execution_count": 41,
   "metadata": {},
   "outputs": [
    {
     "output_type": "execute_result",
     "data": {
      "text/plain": "10"
     },
     "metadata": {},
     "execution_count": 41
    }
   ],
   "source": [
    "len(fred.updates())"
   ]
  },
  {
   "cell_type": "code",
   "execution_count": 43,
   "metadata": {},
   "outputs": [
    {
     "output_type": "execute_result",
     "data": {
      "text/plain": "8"
     },
     "metadata": {},
     "execution_count": 43
    }
   ],
   "source": [
    "len(fred.vintage('AAA'))"
   ]
  },
  {
   "cell_type": "code",
   "execution_count": 46,
   "metadata": {},
   "outputs": [
    {
     "output_type": "execute_result",
     "data": {
      "text/plain": "8"
     },
     "metadata": {},
     "execution_count": 46
    }
   ],
   "source": [
    "len(fred.sources())"
   ]
  },
  {
   "cell_type": "code",
   "execution_count": 47,
   "metadata": {},
   "outputs": [
    {
     "output_type": "execute_result",
     "data": {
      "text/plain": "{'realtime_start': '2020-09-23',\n 'realtime_end': '2020-09-23',\n 'sources': [{'id': 23,\n   'realtime_start': '2020-09-23',\n   'realtime_end': '2020-09-23',\n   'name': 'U.S. Department of the Treasury. Fiscal Service',\n   'link': 'http://www.fiscal.treasury.gov/'}]}"
     },
     "metadata": {},
     "execution_count": 47
    }
   ],
   "source": [
    "fred.source(23)"
   ]
  },
  {
   "cell_type": "code",
   "execution_count": null,
   "metadata": {},
   "outputs": [],
   "source": [
    "\n",
    "\n",
    ">>> fred.vintage('AAA')\n",
    "\n",
    "\n",
    "# Query economic data sources.\n",
    ">>> fred.sources()\n",
    "\n",
    ">>> fred.source(23)\n"
   ]
  }
 ]
}