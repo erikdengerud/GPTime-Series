{
 "metadata": {
  "language_info": {
   "codemirror_mode": {
    "name": "ipython",
    "version": 3
   },
   "file_extension": ".py",
   "mimetype": "text/x-python",
   "name": "python",
   "nbconvert_exporter": "python",
   "pygments_lexer": "ipython3",
   "version": "3.6.9-final"
  },
  "orig_nbformat": 2,
  "kernelspec": {
   "name": "Python 3.6.9 64-bit ('venv')",
   "display_name": "Python 3.6.9 64-bit ('venv')",
   "metadata": {
    "interpreter": {
     "hash": "372b0b7ec2deba16ae067aa3df2758e57c96731335b7f57a0616055622e60b0e"
    }
   }
  }
 },
 "nbformat": 4,
 "nbformat_minor": 2,
 "cells": [
  {
   "cell_type": "code",
   "execution_count": 1,
   "metadata": {},
   "outputs": [],
   "source": [
    "import fred"
   ]
  },
  {
   "cell_type": "code",
   "execution_count": 2,
   "metadata": {},
   "outputs": [
    {
     "output_type": "execute_result",
     "data": {
      "text/plain": "<fred.core.Fred at 0x7ff9945b1320>"
     },
     "metadata": {},
     "execution_count": 2
    }
   ],
   "source": [
    "fred.key('01571df9f62cb8c1ff7dcb8471b164c8')"
   ]
  },
  {
   "cell_type": "code",
   "execution_count": 28,
   "metadata": {
    "tags": []
   },
   "outputs": [
    {
     "output_type": "stream",
     "name": "stdout",
     "text": "True\n"
    }
   ],
   "source": [
    "a = [1]\n",
    "if a:\n",
    "    print(True)\n",
    "else:\n",
    "    print(False)"
   ]
  },
  {
   "cell_type": "code",
   "execution_count": 20,
   "metadata": {},
   "outputs": [
    {
     "output_type": "execute_result",
     "data": {
      "text/plain": "{'categories': [{'id': 0, 'name': 'Categories', 'parent_id': 0}]}"
     },
     "metadata": {},
     "execution_count": 20
    }
   ],
   "source": [
    "fred.categories(0)"
   ]
  },
  {
   "cell_type": "code",
   "execution_count": 42,
   "metadata": {},
   "outputs": [
    {
     "output_type": "execute_result",
     "data": {
      "text/plain": "(343, 236, 1, 14)"
     },
     "metadata": {},
     "execution_count": 42
    }
   ],
   "source": [
    "len(vals), len(ts_ids), len(bottom_nodes), len(nodes_to_visit)"
   ]
  },
  {
   "cell_type": "code",
   "execution_count": 50,
   "metadata": {},
   "outputs": [
    {
     "output_type": "execute_result",
     "data": {
      "text/plain": "'test     10'"
     },
     "metadata": {},
     "execution_count": 50
    }
   ],
   "source": [
    "f\"test {10:>6}\""
   ]
  },
  {
   "cell_type": "code",
   "execution_count": 59,
   "metadata": {
    "tags": []
   },
   "outputs": [
    {
     "output_type": "stream",
     "name": "stdout",
     "text": "Visited    10 nodes and currently have    128 time series ids saved\nSleeping for a minute.  32 requests last minute\nVisited    20 nodes and currently have   3919 time series ids saved\nVisited    30 nodes and currently have   7119 time series ids saved\nSleeping for a minute.  31 requests last minute\nVisited    40 nodes and currently have  10729 time series ids saved\nVisited    50 nodes and currently have  12068 time series ids saved\nSleeping for a minute.  31 requests last minute\nVisited    60 nodes and currently have  14381 time series ids saved\nSleeping for a minute.  31 requests last minute\nVisited    70 nodes and currently have  15920 time series ids saved\nVisited    80 nodes and currently have  15930 time series ids saved\nSleeping for a minute.  31 requests last minute\nVisited    90 nodes and currently have  15930 time series ids saved\nVisited   100 nodes and currently have  15930 time series ids saved\nSleeping for a minute.  32 requests last minute\nVisited   110 nodes and currently have  15930 time series ids saved\nVisited   120 nodes and currently have  15930 time series ids saved\nSleeping for a minute.  31 requests last minute\nVisited   130 nodes and currently have  16744 time series ids saved\nSleeping for a minute.  31 requests last minute\n"
    },
    {
     "output_type": "error",
     "ename": "KeyboardInterrupt",
     "evalue": "",
     "traceback": [
      "\u001b[0;31m---------------------------------------------------------------------------\u001b[0m",
      "\u001b[0;31mKeyboardInterrupt\u001b[0m                         Traceback (most recent call last)",
      "\u001b[0;32m<ipython-input-59-7f294d362f89>\u001b[0m in \u001b[0;36m<module>\u001b[0;34m\u001b[0m\n\u001b[1;32m     32\u001b[0m         \u001b[0;32mif\u001b[0m \u001b[0mnum_requests\u001b[0m \u001b[0;34m>\u001b[0m \u001b[0;36m30\u001b[0m\u001b[0;34m:\u001b[0m\u001b[0;34m\u001b[0m\u001b[0;34m\u001b[0m\u001b[0m\n\u001b[1;32m     33\u001b[0m             \u001b[0mprint\u001b[0m\u001b[0;34m(\u001b[0m\u001b[0;34mf\"Sleeping for a minute. {num_requests:>3} requests last minute\"\u001b[0m\u001b[0;34m)\u001b[0m\u001b[0;34m\u001b[0m\u001b[0;34m\u001b[0m\u001b[0m\n\u001b[0;32m---> 34\u001b[0;31m             \u001b[0mtime\u001b[0m\u001b[0;34m.\u001b[0m\u001b[0msleep\u001b[0m\u001b[0;34m(\u001b[0m\u001b[0;36m60\u001b[0m\u001b[0;34m)\u001b[0m\u001b[0;34m\u001b[0m\u001b[0;34m\u001b[0m\u001b[0m\n\u001b[0m\u001b[1;32m     35\u001b[0m             \u001b[0mnum_requests\u001b[0m\u001b[0;34m=\u001b[0m\u001b[0;36m0\u001b[0m\u001b[0;34m\u001b[0m\u001b[0;34m\u001b[0m\u001b[0m\n\u001b[1;32m     36\u001b[0m     \u001b[0;32mexcept\u001b[0m \u001b[0mException\u001b[0m \u001b[0;32mas\u001b[0m \u001b[0me\u001b[0m\u001b[0;34m:\u001b[0m\u001b[0;34m\u001b[0m\u001b[0;34m\u001b[0m\u001b[0m\n",
      "\u001b[0;31mKeyboardInterrupt\u001b[0m: "
     ]
    }
   ],
   "source": [
    "import time\n",
    "def crawl_fred(api_key:str, nodes_to_visit:List[int]=[0], sleep_time:int=60):\n",
    "    bottom_nodes = []\n",
    "    ts_ids = []\n",
    "    visited_nodes = 0\n",
    "    num_requests = 0\n",
    "    while nodes_to_visit:\n",
    "        curr_node = nodes_to_visit.pop()\n",
    "        children = fred.children(curr_node)\n",
    "        num_requests += 1\n",
    "        try:\n",
    "            if children[\"categories\"]:\n",
    "                for child in children[\"categories\"]:\n",
    "                    nodes_to_visit.append(child[\"id\"])\n",
    "            else:\n",
    "                try:\n",
    "                    bottom_nodes.append(curr_node)\n",
    "                    seriess = fred.category_series(curr_node)[\"seriess\"]\n",
    "                    num_requests += 1\n",
    "                    for ts in seriess:\n",
    "                        ts_ids.append(ts[\"id\"])\n",
    "                except Exception as e:\n",
    "                    print(e)\n",
    "                    print(f\"Current node {curr_node}\")\n",
    "                    print(f\"{num_requests:>3} requests last minute\")\n",
    "                    print(fred.category_series(curr_node))\n",
    "                    print(f\"Visited {visited_nodes:>5} and currently have {len(ts_ids):>6} time series ids saved\")\n",
    "            visited_nodes += 1\n",
    "            if visited_nodes % 10 == 0:\n",
    "                print(f\"Visited {visited_nodes:>5} nodes and currently have {len(ts_ids):>6} time series ids saved\")\n",
    "            if num_requests > 30:\n",
    "                print(f\"Sleeping for a minute. {num_requests:>3} requests last minute\")\n",
    "                time.sleep(60)\n",
    "                num_requests=0\n",
    "        except Exception as e:\n",
    "            print(e)\n",
    "            print(f\"Current node {curr_node}\")\n",
    "            print(f\"{num_requests:>3} requests last minute\")\n",
    "            print(children)\n",
    "\n",
    "\n",
    "    print(nodes_to_visit)\n",
    "    print(len(bottom_nodes))\n",
    "    print(len(ts_ids))"
   ]
  },
  {
   "cell_type": "code",
   "execution_count": null,
   "metadata": {},
   "outputs": [],
   "source": [
    "class Node(object):\n",
    "    \"\"\" Node in graph \"\"\"\n",
    "    def __init__(self, id):\n",
    "        self.id = id\n",
    "        self.children = fred.children(id)"
   ]
  },
  {
   "cell_type": "code",
   "execution_count": null,
   "metadata": {},
   "outputs": [],
   "source": [
    "def dfs(visited, graph, node):\n",
    "    if node not in visited:\n",
    "        print(node)\n",
    "        visited.add(node)\n",
    "        for children "
   ]
  },
  {
   "cell_type": "code",
   "execution_count": 17,
   "metadata": {},
   "outputs": [
    {
     "output_type": "execute_result",
     "data": {
      "text/plain": "{'categories': [{'id': 32262,\n   'name': 'Business Cycle Expansions & Contractions',\n   'parent_id': 1},\n  {'id': 33936, 'name': 'Business Surveys', 'parent_id': 1},\n  {'id': 32436, 'name': 'Construction', 'parent_id': 1},\n  {'id': 33940, 'name': 'Emissions', 'parent_id': 1},\n  {'id': 33490, 'name': 'Finance Companies', 'parent_id': 1},\n  {'id': 32216, 'name': 'Health Insurance', 'parent_id': 1},\n  {'id': 97, 'name': 'Housing', 'parent_id': 1},\n  {'id': 3,\n   'name': 'Industrial Production & Capacity Utilization',\n   'parent_id': 1},\n  {'id': 32429, 'name': 'Manufacturing', 'parent_id': 1},\n  {'id': 6, 'name': 'Retail Trade', 'parent_id': 1},\n  {'id': 33441, 'name': 'Services', 'parent_id': 1},\n  {'id': 33492, 'name': 'Technology', 'parent_id': 1},\n  {'id': 33202, 'name': 'Transportation', 'parent_id': 1},\n  {'id': 33203, 'name': 'Wholesale Trade', 'parent_id': 1}]}"
     },
     "metadata": {},
     "execution_count": 17
    }
   ],
   "source": [
    "fred.children(1)"
   ]
  },
  {
   "cell_type": "code",
   "execution_count": null,
   "metadata": {},
   "outputs": [],
   "source": [
    "for i in range(1, 32):\n"
   ]
  },
  {
   "cell_type": "code",
   "execution_count": 72,
   "metadata": {
    "tags": []
   },
   "outputs": [
    {
     "output_type": "stream",
     "name": "stdout",
     "text": "realtime_start\n"
    }
   ],
   "source": [
    "for s in fred.category_series(1): # 1 -> 31\n",
    "    print(s)\n",
    "    break"
   ]
  },
  {
   "cell_type": "code",
   "execution_count": 74,
   "metadata": {},
   "outputs": [],
   "source": [
    "f = fred.category_series(1)"
   ]
  },
  {
   "cell_type": "code",
   "execution_count": 84,
   "metadata": {},
   "outputs": [
    {
     "output_type": "execute_result",
     "data": {
      "text/plain": "{'categories': [{'id': 1,\n   'name': 'Production & Business Activity',\n   'parent_id': 0}]}"
     },
     "metadata": {},
     "execution_count": 84
    }
   ],
   "source": [
    "fred.categories(1)"
   ]
  },
  {
   "cell_type": "code",
   "execution_count": 103,
   "metadata": {},
   "outputs": [],
   "source": [
    "s = []\n",
    "for x in s:\n",
    "    print(x)"
   ]
  },
  {
   "cell_type": "code",
   "execution_count": 102,
   "metadata": {},
   "outputs": [
    {
     "output_type": "execute_result",
     "data": {
      "text/plain": "{'categories': [{'id': 32991,\n   'name': 'Money, Banking, & Finance',\n   'parent_id': 0},\n  {'id': 10,\n   'name': 'Population, Employment, & Labor Markets',\n   'parent_id': 0},\n  {'id': 32992, 'name': 'National Accounts', 'parent_id': 0},\n  {'id': 1, 'name': 'Production & Business Activity', 'parent_id': 0},\n  {'id': 32455, 'name': 'Prices', 'parent_id': 0},\n  {'id': 32263, 'name': 'International Data', 'parent_id': 0},\n  {'id': 3008, 'name': 'U.S. Regional Data', 'parent_id': 0},\n  {'id': 33060, 'name': 'Academic Data', 'parent_id': 0}]}"
     },
     "metadata": {},
     "execution_count": 102
    }
   ],
   "source": [
    "fred.children(0)"
   ]
  },
  {
   "cell_type": "code",
   "execution_count": 106,
   "metadata": {},
   "outputs": [
    {
     "output_type": "execute_result",
     "data": {
      "text/plain": "{'categories': [{'id': 33060, 'name': 'Academic Data', 'parent_id': 0}]}"
     },
     "metadata": {},
     "execution_count": 106
    }
   ],
   "source": [
    "fred.categories(33060)"
   ]
  },
  {
   "cell_type": "code",
   "execution_count": 119,
   "metadata": {},
   "outputs": [
    {
     "output_type": "execute_result",
     "data": {
      "text/plain": "{'categories': []}"
     },
     "metadata": {},
     "execution_count": 119
    }
   ],
   "source": [
    "fred.children(33835)"
   ]
  },
  {
   "cell_type": "code",
   "execution_count": 115,
   "metadata": {},
   "outputs": [
    {
     "output_type": "execute_result",
     "data": {
      "text/plain": "{'categories': [{'id': 33833,\n   'name': 'Banking and Monetary Statistics, 1914-1941',\n   'parent_id': 33060,\n   'notes': \"This data is from the Board of Governors' Banking and Monetary Statistics 1914-1941 publication.\"},\n  {'id': 33951,\n   'name': 'Daily Federal Funds Rate, 1928-54',\n   'parent_id': 33060},\n  {'id': 33825,\n   'name': 'Data on the nominal term structure model from Kim and Wright',\n   'parent_id': 33060},\n  {'id': 33891, 'name': 'Historical Federal Reserve Data', 'parent_id': 33060},\n  {'id': 33061, 'name': 'NBER Macrohistory Database', 'parent_id': 33060},\n  {'id': 33100, 'name': 'Penn World Table 7.1', 'parent_id': 33060},\n  {'id': 33402, 'name': 'Penn World Table 9.0', 'parent_id': 33060},\n  {'id': 33120, 'name': 'Recession Probabilities', 'parent_id': 33060},\n  {'id': 33123,\n   'name': 'Weekly U.S. and State Bond Prices, 1855-1865',\n   'parent_id': 33060},\n  {'id': 33201, 'name': 'Economic Policy Uncertainty', 'parent_id': 33060},\n  {'id': 33442, 'name': 'Sticky Wages and Comovement', 'parent_id': 33060},\n  {'id': 33839,\n   'name': 'A Millennium of Macroeconomic Data for the UK',\n   'parent_id': 33060},\n  {'id': 33934,\n   'name': 'New England Textile Industry, 1815-1860',\n   'parent_id': 33060}]}"
     },
     "metadata": {},
     "execution_count": 115
    }
   ],
   "source": [
    "fred.children(33060)"
   ]
  },
  {
   "cell_type": "code",
   "execution_count": 105,
   "metadata": {},
   "outputs": [
    {
     "output_type": "execute_result",
     "data": {
      "text/plain": "{'realtime_start': '2020-10-01',\n 'realtime_end': '2020-10-01',\n 'order_by': 'series_id',\n 'sort_order': 'asc',\n 'count': 1,\n 'offset': 0,\n 'limit': 1000,\n 'seriess': [{'id': 'LODINIM066N',\n   'realtime_start': '2020-10-01',\n   'realtime_end': '2020-10-01',\n   'title': 'University of Louisville and Oklahoma State University: LoDI National Index',\n   'observation_start': '2008-05-01',\n   'observation_end': '2020-09-01',\n   'frequency': 'Monthly',\n   'frequency_short': 'M',\n   'units': 'Index',\n   'units_short': 'Index',\n   'seasonal_adjustment': 'Not Seasonally Adjusted',\n   'seasonal_adjustment_short': 'NSA',\n   'last_updated': '2020-09-22 15:06:02-05',\n   'popularity': 11,\n   'group_popularity': 11,\n   'notes': 'The index value ranges between 1 and 100. A value higher than 50 indicates healthy economic activity.\\n\\nThe LoDI Index uses linear regression analysis to combine cargo volume data from rail, barge, air, and truck transit, along with various economic factors. The resulting indicator is designed to predict upcoming changes in the level of logistics and distribution activity in the US and is represented by a value between 1 and 100. An index at or above 50 represents a healthy level of activity in the industry\\n\\nThe Greater Louisville and National LoDI Indices were developed by researchers at the University of Louisville. Please contact Dr. Heragu (sunderesh.heragu@okstate.edu), now IE&M Department Head at Oklahoma State University, or Dr. DePuy (depuy@louisville.edu) for additional information.'}]}"
     },
     "metadata": {},
     "execution_count": 105
    }
   ],
   "source": [
    "fred.category_series(33060)"
   ]
  },
  {
   "cell_type": "code",
   "execution_count": 85,
   "metadata": {},
   "outputs": [
    {
     "output_type": "execute_result",
     "data": {
      "text/plain": "{'categories': [{'id': 32262,\n   'name': 'Business Cycle Expansions & Contractions',\n   'parent_id': 1},\n  {'id': 33936, 'name': 'Business Surveys', 'parent_id': 1},\n  {'id': 32436, 'name': 'Construction', 'parent_id': 1},\n  {'id': 33940, 'name': 'Emissions', 'parent_id': 1},\n  {'id': 33490, 'name': 'Finance Companies', 'parent_id': 1},\n  {'id': 32216, 'name': 'Health Insurance', 'parent_id': 1},\n  {'id': 97, 'name': 'Housing', 'parent_id': 1},\n  {'id': 3,\n   'name': 'Industrial Production & Capacity Utilization',\n   'parent_id': 1},\n  {'id': 32429, 'name': 'Manufacturing', 'parent_id': 1},\n  {'id': 6, 'name': 'Retail Trade', 'parent_id': 1},\n  {'id': 33441, 'name': 'Services', 'parent_id': 1},\n  {'id': 33492, 'name': 'Technology', 'parent_id': 1},\n  {'id': 33202, 'name': 'Transportation', 'parent_id': 1},\n  {'id': 33203, 'name': 'Wholesale Trade', 'parent_id': 1}]}"
     },
     "metadata": {},
     "execution_count": 85
    }
   ],
   "source": [
    "fred.children(1)"
   ]
  },
  {
   "cell_type": "code",
   "execution_count": 82,
   "metadata": {},
   "outputs": [
    {
     "output_type": "execute_result",
     "data": {
      "text/plain": "dict_keys(['realtime_start', 'realtime_end', 'order_by', 'sort_order', 'count', 'offset', 'limit', 'seriess'])"
     },
     "metadata": {},
     "execution_count": 82
    }
   ],
   "source": [
    "f.keys()"
   ]
  },
  {
   "cell_type": "code",
   "execution_count": 7,
   "metadata": {},
   "outputs": [
    {
     "output_type": "execute_result",
     "data": {
      "text/plain": "{'categories': [{'id': 32262,\n   'name': 'Business Cycle Expansions & Contractions',\n   'parent_id': 1},\n  {'id': 33936, 'name': 'Business Surveys', 'parent_id': 1},\n  {'id': 32436, 'name': 'Construction', 'parent_id': 1},\n  {'id': 33940, 'name': 'Emissions', 'parent_id': 1},\n  {'id': 33490, 'name': 'Finance Companies', 'parent_id': 1},\n  {'id': 32216, 'name': 'Health Insurance', 'parent_id': 1},\n  {'id': 97, 'name': 'Housing', 'parent_id': 1},\n  {'id': 3,\n   'name': 'Industrial Production & Capacity Utilization',\n   'parent_id': 1},\n  {'id': 32429, 'name': 'Manufacturing', 'parent_id': 1},\n  {'id': 6, 'name': 'Retail Trade', 'parent_id': 1},\n  {'id': 33441, 'name': 'Services', 'parent_id': 1},\n  {'id': 33492, 'name': 'Technology', 'parent_id': 1},\n  {'id': 33202, 'name': 'Transportation', 'parent_id': 1},\n  {'id': 33203, 'name': 'Wholesale Trade', 'parent_id': 1}]}"
     },
     "metadata": {},
     "execution_count": 7
    }
   ],
   "source": [
    "fred.children()"
   ]
  },
  {
   "cell_type": "code",
   "execution_count": 12,
   "metadata": {
    "tags": []
   },
   "outputs": [
    {
     "output_type": "stream",
     "name": "stdout",
     "text": "32262 {'categories': []}\n33936 {'categories': []}\n32436 {'categories': []}\n33940 {'categories': []}\n33490 {'categories': []}\n32216 {'categories': []}\n97 {'categories': [{'id': 32300, 'name': 'Housing Units Authorized by Building Permits', 'parent_id': 97}, {'id': 32301, 'name': 'Housing Units Authorized, But Not Yet Started', 'parent_id': 97}, {'id': 32302, 'name': 'Housing Starts', 'parent_id': 97}, {'id': 32303, 'name': 'Housing Units Under Construction', 'parent_id': 97}, {'id': 32304, 'name': 'Housing Units Completed', 'parent_id': 97}, {'id': 32426, 'name': 'New Residential Sales', 'parent_id': 97}, {'id': 33949, 'name': 'Manufactured Housing', 'parent_id': 97}]}\n3 {'categories': [{'id': 33938, 'name': 'Automotive Production Seasonal Factor', 'parent_id': 3}]}\n32429 {'categories': [{'id': 32432, 'name': 'Inventories', 'parent_id': 32429}, {'id': 32431, 'name': 'New Orders', 'parent_id': 32429}, {'id': 32433, 'name': 'Inventory to Shipments', 'parent_id': 32429}, {'id': 32435, 'name': 'Unfilled Orders', 'parent_id': 32429}, {'id': 32434, 'name': 'Unfilled Orders to Shipments', 'parent_id': 32429}, {'id': 32430, 'name': 'Shipments', 'parent_id': 32429}]}\n6 {'categories': []}\n33441 {'categories': []}\n33492 {'categories': []}\n33202 {'categories': [{'id': 32993, 'name': 'Motor Vehicles', 'parent_id': 33202}]}\n33203 {'categories': []}\n"
    }
   ],
   "source": [
    "children = fred.children(1)\n",
    "for c in children[\"categories\"]:\n",
    "    print(c[\"id\"], fred.children(c[\"id\"]))"
   ]
  },
  {
   "cell_type": "code",
   "execution_count": 15,
   "metadata": {},
   "outputs": [
    {
     "output_type": "execute_result",
     "data": {
      "text/plain": "{'categories': []}"
     },
     "metadata": {},
     "execution_count": 15
    }
   ],
   "source": [
    "fred.children(32993)"
   ]
  },
  {
   "cell_type": "code",
   "execution_count": 21,
   "metadata": {},
   "outputs": [],
   "source": [
    "fred.category_series(32993)\n",
    "x=1"
   ]
  },
  {
   "cell_type": "code",
   "execution_count": null,
   "metadata": {},
   "outputs": [],
   "source": [
    "def find_children(id)"
   ]
  },
  {
   "cell_type": "code",
   "execution_count": 22,
   "metadata": {
    "tags": []
   },
   "outputs": [],
   "source": [
    "all_ids = []\n",
    "for parent in range(1,32):\n",
    "    #print(i)\n",
    "    #find_children(parent)\n",
    "    pass"
   ]
  },
  {
   "cell_type": "code",
   "execution_count": 66,
   "metadata": {},
   "outputs": [
    {
     "output_type": "execute_result",
     "data": {
      "text/plain": "{'categories': [{'id': 33936, 'name': 'Business Surveys', 'parent_id': 1}]}"
     },
     "metadata": {},
     "execution_count": 66
    }
   ],
   "source": [
    "fred.categories(33936)"
   ]
  },
  {
   "cell_type": "code",
   "execution_count": 61,
   "metadata": {
    "tags": []
   },
   "outputs": [
    {
     "output_type": "stream",
     "name": "stdout",
     "text": "{'id': 'ATLSBUBEI', 'realtime_start': '2020-10-01', 'realtime_end': '2020-10-01', 'title': 'Business Expectations Index (DISCONTINUED)', 'observation_start': '2015-01-01', 'observation_end': '2020-07-01', 'frequency': 'Monthly', 'frequency_short': 'M', 'units': 'Index 2015-2018=100', 'units_short': 'Index 2015-2018=100', 'seasonal_adjustment': 'Not Seasonally Adjusted', 'seasonal_adjustment_short': 'NSA', 'last_updated': '2020-07-29 10:01:03-05', 'popularity': 25, 'group_popularity': 25, 'notes': \"This series was discontinued by the source following revisions to the methodology and panel design for the Survey of Business Uncertainty. For more details, see the revised methodology (https://www.frbatlanta.org/-/media/documents/research/surveys/business-uncertainty/survey-of-business-uncertainty-methodology.pdf).\\n\\nThis index reflects firms' expectations about the growth of their own sales, employment, and capital expenditures over the next 12 months. The index can respond to news about the overall economy, changes in business sentiment, policy developments, stock market moves, interest rate changes, and changes in the outlook of firms in the sample. The expectations index captures the expected direction and magnitude of each change for sample firms. Each index is standardized to have mean and variance of 100 during the period from January 2015 to December 2018.\\n\\nFor more details about the index or the survey, visit the Survey of Business Uncertainty (https://www.frbatlanta.org/research/surveys/business-uncertainty.aspx).\"}\n"
    }
   ],
   "source": [
    "for s in fred.category_series(33936)[\"seriess\"]:\n",
    "    print(s)\n",
    "    break"
   ]
  },
  {
   "cell_type": "code",
   "execution_count": 60,
   "metadata": {},
   "outputs": [
    {
     "output_type": "execute_result",
     "data": {
      "text/plain": "{'realtime_start': '2020-09-30',\n 'realtime_end': '2020-09-30',\n 'observation_start': '1600-01-01',\n 'observation_end': '9999-12-31',\n 'units': 'lin',\n 'output_type': 1,\n 'file_type': 'json',\n 'order_by': 'observation_date',\n 'sort_order': 'asc',\n 'count': 28,\n 'offset': 0,\n 'limit': 100000,\n 'observations': [{'realtime_start': '2020-09-30',\n   'realtime_end': '2020-09-30',\n   'date': '1990-01-01',\n   'value': '211676.28125'},\n  {'realtime_start': '2020-09-30',\n   'realtime_end': '2020-09-30',\n   'date': '1991-01-01',\n   'value': '178517.515625'},\n  {'realtime_start': '2020-09-30',\n   'realtime_end': '2020-09-30',\n   'date': '1992-01-01',\n   'value': '178504.46875'},\n  {'realtime_start': '2020-09-30',\n   'realtime_end': '2020-09-30',\n   'date': '1993-01-01',\n   'value': '179946.6875'},\n  {'realtime_start': '2020-09-30',\n   'realtime_end': '2020-09-30',\n   'date': '1994-01-01',\n   'value': '189880.21875'},\n  {'realtime_start': '2020-09-30',\n   'realtime_end': '2020-09-30',\n   'date': '1995-01-01',\n   'value': '197016.609375'},\n  {'realtime_start': '2020-09-30',\n   'realtime_end': '2020-09-30',\n   'date': '1996-01-01',\n   'value': '203348.828125'},\n  {'realtime_start': '2020-09-30',\n   'realtime_end': '2020-09-30',\n   'date': '1997-01-01',\n   'value': '198462.71875'},\n  {'realtime_start': '2020-09-30',\n   'realtime_end': '2020-09-30',\n   'date': '1998-01-01',\n   'value': '193558.859375'},\n  {'realtime_start': '2020-09-30',\n   'realtime_end': '2020-09-30',\n   'date': '1999-01-01',\n   'value': '193513.90625'},\n  {'realtime_start': '2020-09-30',\n   'realtime_end': '2020-09-30',\n   'date': '2000-01-01',\n   'value': '200515.28125'},\n  {'realtime_start': '2020-09-30',\n   'realtime_end': '2020-09-30',\n   'date': '2001-01-01',\n   'value': '210487.109375'},\n  {'realtime_start': '2020-09-30',\n   'realtime_end': '2020-09-30',\n   'date': '2002-01-01',\n   'value': '208092.78125'},\n  {'realtime_start': '2020-09-30',\n   'realtime_end': '2020-09-30',\n   'date': '2003-01-01',\n   'value': '217294.125'},\n  {'realtime_start': '2020-09-30',\n   'realtime_end': '2020-09-30',\n   'date': '2004-01-01',\n   'value': '224306.46875'},\n  {'realtime_start': '2020-09-30',\n   'realtime_end': '2020-09-30',\n   'date': '2005-01-01',\n   'value': '239209.328125'},\n  {'realtime_start': '2020-09-30',\n   'realtime_end': '2020-09-30',\n   'date': '2006-01-01',\n   'value': '250826.09375'},\n  {'realtime_start': '2020-09-30',\n   'realtime_end': '2020-09-30',\n   'date': '2007-01-01',\n   'value': '273317.9375'},\n  {'realtime_start': '2020-09-30',\n   'realtime_end': '2020-09-30',\n   'date': '2008-01-01',\n   'value': '280152.9375'},\n  {'realtime_start': '2020-09-30',\n   'realtime_end': '2020-09-30',\n   'date': '2009-01-01',\n   'value': '277931.03125'},\n  {'realtime_start': '2020-09-30',\n   'realtime_end': '2020-09-30',\n   'date': '2010-01-01',\n   'value': '279220.875'},\n  {'realtime_start': '2020-09-30',\n   'realtime_end': '2020-09-30',\n   'date': '2011-01-01',\n   'value': '284696.03125'},\n  {'realtime_start': '2020-09-30',\n   'realtime_end': '2020-09-30',\n   'date': '2012-01-01',\n   'value': '283140.8125'},\n  {'realtime_start': '2020-09-30',\n   'realtime_end': '2020-09-30',\n   'date': '2013-01-01',\n   'value': '286528.71875'},\n  {'realtime_start': '2020-09-30',\n   'realtime_end': '2020-09-30',\n   'date': '2014-01-01',\n   'value': '299557.65625'},\n  {'realtime_start': '2020-09-30',\n   'realtime_end': '2020-09-30',\n   'date': '2015-01-01',\n   'value': '317373.71875'},\n  {'realtime_start': '2020-09-30',\n   'realtime_end': '2020-09-30',\n   'date': '2016-01-01',\n   'value': '327763.03125'},\n  {'realtime_start': '2020-09-30',\n   'realtime_end': '2020-09-30',\n   'date': '2017-01-01',\n   'value': '349250.03125'}]}"
     },
     "metadata": {},
     "execution_count": 60
    }
   ],
   "source": [
    "fred.observations(\"CGDPOSCZA666NRUG\")"
   ]
  },
  {
   "cell_type": "code",
   "execution_count": 8,
   "metadata": {},
   "outputs": [
    {
     "output_type": "execute_result",
     "data": {
      "text/plain": "['88.33562',\n '89.52779',\n '93.91851',\n '91.43681',\n '92.69312',\n '92.05122',\n '89.2875',\n '97.53385',\n '99.45322',\n '97.05824',\n '97.81676',\n '95.83467',\n '96.92968',\n '94.83401',\n '95.93616',\n '98.02985',\n '89.17377',\n '88.31049',\n '88.90655',\n '87.27869',\n '90.17211',\n '92.21151',\n '95.13334',\n '95.1319',\n '92.7454',\n '102.2772',\n '103.5058',\n '107.1968',\n '101.6792',\n '98.18374',\n '89.59905',\n '95.43449',\n '93.03184',\n '98.49754',\n '94.16138',\n '107.2039',\n '107.882',\n '110.2291',\n '109.2534',\n '115.5923',\n '114.632',\n '113.5369',\n '115.1182',\n '117.0967',\n '117.7053',\n '120.5285',\n '121.642',\n '116.2718',\n '104.424',\n '96.30399',\n '95.99884',\n '101.5169',\n '104.8812',\n '104.2395',\n '94.88969',\n '92.38857',\n '87.7662',\n '88.61639',\n '90.90861',\n '93.02451',\n '103.0721',\n '103.8947',\n '83.71452',\n '47.50996',\n '25.52114',\n '34.52319',\n '56.97071']"
     },
     "metadata": {},
     "execution_count": 8
    }
   ],
   "source": [
    "[el[\"value\"] for el in fred.observations(\"ATLSBUBEI\")[\"observations\"]]"
   ]
  },
  {
   "cell_type": "code",
   "execution_count": 17,
   "metadata": {
    "tags": []
   },
   "outputs": [
    {
     "output_type": "stream",
     "name": "stdout",
     "text": "ATLSBUBEI\nATLSBUBUI\nATLSBUEGEI\nATLSBUEGEP\nATLSBUEGUI\nATLSBUEGUP\nATLSBUIREI\nATLSBUIRUI\nATLSBUSGEI\nATLSBUSGUI\nATLSBUSRGEP\nATLSBUSRGUP\n"
    }
   ],
   "source": [
    "for s in fred.category_series(33936)[\"seriess\"]:\n",
    "    print(s[\"id\"])"
   ]
  },
  {
   "cell_type": "code",
   "execution_count": null,
   "metadata": {},
   "outputs": [],
   "source": []
  },
  {
   "cell_type": "code",
   "execution_count": 30,
   "metadata": {
    "tags": []
   },
   "outputs": [
    {
     "output_type": "stream",
     "name": "stdout",
     "text": "260 ms ± 11.4 ms per loop (mean ± std. dev. of 7 runs, 1 loop each)\n"
    }
   ],
   "source": [
    "%%timeit\n",
    "values = []\n",
    "for obs in fred.observations(\"ATLSBUBEI\")[\"observations\"]:\n",
    "    values.append(obs[\"value\"])"
   ]
  },
  {
   "cell_type": "code",
   "execution_count": 33,
   "metadata": {},
   "outputs": [
    {
     "output_type": "execute_result",
     "data": {
      "text/plain": "55.68333333333333"
     },
     "metadata": {},
     "execution_count": 33
    }
   ],
   "source": [
    "260*0.001*771000 / 3600"
   ]
  },
  {
   "cell_type": "code",
   "execution_count": 23,
   "metadata": {},
   "outputs": [
    {
     "output_type": "execute_result",
     "data": {
      "text/plain": "{'categories': [{'id': 1,\n   'name': 'Production & Business Activity',\n   'parent_id': 0}]}"
     },
     "metadata": {},
     "execution_count": 23
    }
   ],
   "source": [
    "fred.categories(1)"
   ]
  },
  {
   "cell_type": "code",
   "execution_count": 24,
   "metadata": {},
   "outputs": [
    {
     "output_type": "execute_result",
     "data": {
      "text/plain": "{'realtime_start': '2020-09-23',\n 'realtime_end': '2020-09-23',\n 'order_by': 'series_id',\n 'sort_order': 'asc',\n 'count': 0,\n 'offset': 0,\n 'limit': 1000,\n 'seriess': []}"
     },
     "metadata": {},
     "execution_count": 24
    }
   ],
   "source": [
    "fred.category(series=True)"
   ]
  },
  {
   "cell_type": "code",
   "execution_count": 26,
   "metadata": {},
   "outputs": [
    {
     "output_type": "execute_result",
     "data": {
      "text/plain": "{'realtime_start': '2020-09-24',\n 'realtime_end': '2020-09-24',\n 'order_by': 'series_id',\n 'sort_order': 'asc',\n 'count': 12,\n 'offset': 0,\n 'limit': 1000,\n 'seriess': [{'id': 'ATLSBUBEI',\n   'realtime_start': '2020-09-24',\n   'realtime_end': '2020-09-24',\n   'title': 'Business Expectations Index (DISCONTINUED)',\n   'observation_start': '2015-01-01',\n   'observation_end': '2020-07-01',\n   'frequency': 'Monthly',\n   'frequency_short': 'M',\n   'units': 'Index 2015-2018=100',\n   'units_short': 'Index 2015-2018=100',\n   'seasonal_adjustment': 'Not Seasonally Adjusted',\n   'seasonal_adjustment_short': 'NSA',\n   'last_updated': '2020-07-29 10:01:03-05',\n   'popularity': 25,\n   'group_popularity': 25,\n   'notes': \"This series was discontinued by the source following revisions to the methodology and panel design for the Survey of Business Uncertainty. For more details, see the revised methodology (https://www.frbatlanta.org/-/media/documents/research/surveys/business-uncertainty/survey-of-business-uncertainty-methodology.pdf).\\n\\nThis index reflects firms' expectations about the growth of their own sales, employment, and capital expenditures over the next 12 months. The index can respond to news about the overall economy, changes in business sentiment, policy developments, stock market moves, interest rate changes, and changes in the outlook of firms in the sample. The expectations index captures the expected direction and magnitude of each change for sample firms. Each index is standardized to have mean and variance of 100 during the period from January 2015 to December 2018.\\n\\nFor more details about the index or the survey, visit the Survey of Business Uncertainty (https://www.frbatlanta.org/research/surveys/business-uncertainty.aspx).\"},\n  {'id': 'ATLSBUBUI',\n   'realtime_start': '2020-09-24',\n   'realtime_end': '2020-09-24',\n   'title': 'Business Uncertainty Index (DISCONTINUED)',\n   'observation_start': '2015-01-01',\n   'observation_end': '2020-07-01',\n   'frequency': 'Monthly',\n   'frequency_short': 'M',\n   'units': 'Index 2015-2018=100',\n   'units_short': 'Index 2015-2018=100',\n   'seasonal_adjustment': 'Not Seasonally Adjusted',\n   'seasonal_adjustment_short': 'NSA',\n   'last_updated': '2020-07-29 10:01:04-05',\n   'popularity': 14,\n   'group_popularity': 14,\n   'notes': \"This series was discontinued by the source following revisions to the methodology and panel design for the Survey of Business Uncertainty. For more details, see the revised methodology (https://www.frbatlanta.org/-/media/documents/research/surveys/business-uncertainty/survey-of-business-uncertainty-methodology.pdf).\\n\\nThis index reflects firms' uncertainty about the growth of their own sales, employment, and capital expenditures over the next 12 months. The index can respond to news about the overall economy, changes in business sentiment, policy developments, stock market moves, interest rate changes, and changes in the outlook of firms in the sample. The uncertainty index captures uncertainty about the outlook for sample firms. Each index is standardized to have mean and variance of 100 during the period from January 2015 to December 2018.\\n\\nFor more details about the index or the survey, visit the Survey of Business Uncertainty (https://www.frbatlanta.org/research/surveys/business-uncertainty.aspx).\"},\n  {'id': 'ATLSBUEGEI',\n   'realtime_start': '2020-09-24',\n   'realtime_end': '2020-09-24',\n   'title': 'Business Expectations: Employment Growth Index (DISCONTINUED)',\n   'observation_start': '2015-01-01',\n   'observation_end': '2020-07-01',\n   'frequency': 'Monthly',\n   'frequency_short': 'M',\n   'units': 'Index',\n   'units_short': 'Index',\n   'seasonal_adjustment': 'Not Seasonally Adjusted',\n   'seasonal_adjustment_short': 'NSA',\n   'last_updated': '2020-07-29 10:01:04-05',\n   'popularity': 12,\n   'group_popularity': 12,\n   'notes': \"This series was discontinued by the source following revisions to the methodology and panel design for the Survey of Business Uncertainty. For more details, see the revised methodology (https://www.frbatlanta.org/-/media/documents/research/surveys/business-uncertainty/survey-of-business-uncertainty-methodology.pdf).\\n\\nThis index reflects firms' mean subjective expectations about the growth of their own employment over the next 12 months. The index can respond to news about the overall economy, changes in business sentiment, policy developments, stock market moves, interest rate changes, and changes in the outlook of firms in the sample. The expectations index captures the expected direction and magnitude of each change for sample firms.\\n\\nFor more details about the index or the survey, visit the Survey of Business Uncertainty (https://www.frbatlanta.org/research/surveys/business-uncertainty.aspx).\"},\n  {'id': 'ATLSBUEGEP',\n   'realtime_start': '2020-09-24',\n   'realtime_end': '2020-09-24',\n   'title': 'Business Expectations: Employment Growth',\n   'observation_start': '2016-12-01',\n   'observation_end': '2020-08-01',\n   'frequency': 'Monthly',\n   'frequency_short': 'M',\n   'units': 'Percent',\n   'units_short': '%',\n   'seasonal_adjustment': 'Not Seasonally Adjusted',\n   'seasonal_adjustment_short': 'NSA',\n   'last_updated': '2020-09-09 11:37:50-05',\n   'popularity': 4,\n   'group_popularity': 4,\n   'notes': \"This index reflects firms' expectations about the growth of their own employment levels over the next 12 months.\\n\\nFor more details about the methodology or the survey, visit the Survey of Business Uncertainty (https://www.frbatlanta.org/research/surveys/business-uncertainty.aspx).\"},\n  {'id': 'ATLSBUEGUI',\n   'realtime_start': '2020-09-24',\n   'realtime_end': '2020-09-24',\n   'title': 'Business Uncertainty: Employment Growth Index (DISCONTINUED)',\n   'observation_start': '2015-01-01',\n   'observation_end': '2020-07-01',\n   'frequency': 'Monthly',\n   'frequency_short': 'M',\n   'units': 'Index',\n   'units_short': 'Index',\n   'seasonal_adjustment': 'Not Seasonally Adjusted',\n   'seasonal_adjustment_short': 'NSA',\n   'last_updated': '2020-07-29 10:01:06-05',\n   'popularity': 6,\n   'group_popularity': 5,\n   'notes': \"This series was discontinued by the source following revisions to the methodology and panel design for the Survey of Business Uncertainty. For more details, see the revised methodology (https://www.frbatlanta.org/-/media/documents/research/surveys/business-uncertainty/survey-of-business-uncertainty-methodology.pdf).\\n\\nThis index reflects firms' uncertainty about the growth of their own employment over the next 12 months. The index can respond to news about the overall economy, changes in business sentiment, policy developments, stock market moves, interest rate changes, and changes in the outlook of firms in the sample. The uncertainty index captures uncertainty about the outlook for sample firms.\\n\\nFor more details about the index or the survey, visit the Survey of Business Uncertainty (https://www.frbatlanta.org/research/surveys/business-uncertainty.aspx).\"},\n  {'id': 'ATLSBUEGUP',\n   'realtime_start': '2020-09-24',\n   'realtime_end': '2020-09-24',\n   'title': 'Business Uncertainty: Employment Growth',\n   'observation_start': '2016-12-01',\n   'observation_end': '2020-08-01',\n   'frequency': 'Monthly',\n   'frequency_short': 'M',\n   'units': 'Percent',\n   'units_short': '%',\n   'seasonal_adjustment': 'Not Seasonally Adjusted',\n   'seasonal_adjustment_short': 'NSA',\n   'last_updated': '2020-09-09 11:37:51-05',\n   'popularity': 7,\n   'group_popularity': 7,\n   'notes': \"This index reflects firms' uncertainty about the growth of their own employment levels over the next 12 months.\\n\\nFor more details about the methodology or the survey, visit the Survey of Business Uncertainty (https://www.frbatlanta.org/research/surveys/business-uncertainty.aspx).\"},\n  {'id': 'ATLSBUIREI',\n   'realtime_start': '2020-09-24',\n   'realtime_end': '2020-09-24',\n   'title': 'Business Expectations: Capital Investment Rate Index (DISCONTINUED)',\n   'observation_start': '2015-01-01',\n   'observation_end': '2020-07-01',\n   'frequency': 'Monthly',\n   'frequency_short': 'M',\n   'units': 'Index',\n   'units_short': 'Index',\n   'seasonal_adjustment': 'Not Seasonally Adjusted',\n   'seasonal_adjustment_short': 'NSA',\n   'last_updated': '2020-07-29 10:01:01-05',\n   'popularity': 32,\n   'group_popularity': 32,\n   'notes': \"This series was discontinued by the source following revisions to the methodology and panel design for the Survey of Business Uncertainty. For more details, see the revised methodology (https://www.frbatlanta.org/-/media/documents/research/surveys/business-uncertainty/survey-of-business-uncertainty-methodology.pdf).\\n\\nThis index reflects firms' mean subjective expectations about the growth of their own capital expenditures over the next 12 months. The index can respond to news about the overall economy, changes in business sentiment, policy developments, stock market moves, interest rate changes, and changes in the outlook of firms in the sample. The expectations index captures the expected direction and magnitude of each change for sample firms.\\n\\nFor more details about the index or the survey, visit the Survey of Business Uncertainty (https://www.frbatlanta.org/research/surveys/business-uncertainty.aspx).\"},\n  {'id': 'ATLSBUIRUI',\n   'realtime_start': '2020-09-24',\n   'realtime_end': '2020-09-24',\n   'title': 'Business Uncertainty: Capital Investment Rate Index (DISCONTINUED)',\n   'observation_start': '2015-01-01',\n   'observation_end': '2020-07-01',\n   'frequency': 'Monthly',\n   'frequency_short': 'M',\n   'units': 'Index',\n   'units_short': 'Index',\n   'seasonal_adjustment': 'Not Seasonally Adjusted',\n   'seasonal_adjustment_short': 'NSA',\n   'last_updated': '2020-07-29 10:01:07-05',\n   'popularity': 9,\n   'group_popularity': 8,\n   'notes': \"This series was discontinued by the source following revisions to the methodology and panel design for the Survey of Business Uncertainty. For more details, see the revised methodology (https://www.frbatlanta.org/-/media/documents/research/surveys/business-uncertainty/survey-of-business-uncertainty-methodology.pdf).\\n\\nThis index reflects firms' uncertainty about the growth of their own capital expenditures over the next 12 months. The index can respond to news about the overall economy, changes in business sentiment, policy developments, stock market moves, interest rate changes, and changes in the outlook of firms in the sample. The uncertainty index captures uncertainty about the outlook for sample firms.\\n\\nFor more details about the index or the survey, visit the Survey of Business Uncertainty (https://www.frbatlanta.org/research/surveys/business-uncertainty.aspx).\"},\n  {'id': 'ATLSBUSGEI',\n   'realtime_start': '2020-09-24',\n   'realtime_end': '2020-09-24',\n   'title': 'Business Expectations: Sales Growth Index (DISCONTINUED)',\n   'observation_start': '2015-01-01',\n   'observation_end': '2020-07-01',\n   'frequency': 'Monthly',\n   'frequency_short': 'M',\n   'units': 'Index',\n   'units_short': 'Index',\n   'seasonal_adjustment': 'Not Seasonally Adjusted',\n   'seasonal_adjustment_short': 'NSA',\n   'last_updated': '2020-07-29 10:01:05-05',\n   'popularity': 9,\n   'group_popularity': 9,\n   'notes': \"This series was discontinued by the source following revisions to the methodology and panel design for the Survey of Business Uncertainty. For more details, see the revised methodology (https://www.frbatlanta.org/-/media/documents/research/surveys/business-uncertainty/survey-of-business-uncertainty-methodology.pdf).\\n\\nThis index reflects firms' mean subjective expectations about the growth of their own sales over the next 12 months. The index can respond to news about the overall economy, changes in business sentiment, policy developments, stock market moves, interest rate changes, and changes in the outlook of firms in the sample. The expectations index captures the expected direction and magnitude of each change for sample firms.\\n\\nFor more details about the index or the survey, visit the Survey of Business Uncertainty (https://www.frbatlanta.org/research/surveys/business-uncertainty.aspx).\"},\n  {'id': 'ATLSBUSGUI',\n   'realtime_start': '2020-09-24',\n   'realtime_end': '2020-09-24',\n   'title': 'Business Uncertainty: Sales Growth Index (DISCONTINUED)',\n   'observation_start': '2015-01-01',\n   'observation_end': '2020-07-01',\n   'frequency': 'Monthly',\n   'frequency_short': 'M',\n   'units': 'Index',\n   'units_short': 'Index',\n   'seasonal_adjustment': 'Not Seasonally Adjusted',\n   'seasonal_adjustment_short': 'NSA',\n   'last_updated': '2020-07-29 10:01:07-05',\n   'popularity': 5,\n   'group_popularity': 5,\n   'notes': \"This series was discontinued by the source following revisions to the methodology and panel design for the Survey of Business Uncertainty. For more details, see the revised methodology (https://www.frbatlanta.org/-/media/documents/research/surveys/business-uncertainty/survey-of-business-uncertainty-methodology.pdf).\\n\\nThis index reflects firms' uncertainty about the growth of their own sales over the next 12 months. The index can respond to news about the overall economy, changes in business sentiment, policy developments, stock market moves, interest rate changes, and changes in the outlook of firms in the sample. The uncertainty index captures uncertainty about the outlook for sample firms.\\n\\nFor more details about the index or the survey, visit the Survey of Business Uncertainty (https://www.frbatlanta.org/research/surveys/business-uncertainty.aspx).\"},\n  {'id': 'ATLSBUSRGEP',\n   'realtime_start': '2020-09-24',\n   'realtime_end': '2020-09-24',\n   'title': 'Business Expectations: Sales Revenue Growth',\n   'observation_start': '2016-12-01',\n   'observation_end': '2020-08-01',\n   'frequency': 'Monthly',\n   'frequency_short': 'M',\n   'units': 'Percent',\n   'units_short': '%',\n   'seasonal_adjustment': 'Not Seasonally Adjusted',\n   'seasonal_adjustment_short': 'NSA',\n   'last_updated': '2020-09-09 11:37:51-05',\n   'popularity': 12,\n   'group_popularity': 12,\n   'notes': \"This index reflects firms' expectations about the growth of their own sales revenue over the next 12 months.\\n\\nFor more details about the methodology or the survey, visit the Survey of Business Uncertainty (https://www.frbatlanta.org/research/surveys/business-uncertainty.aspx).\"},\n  {'id': 'ATLSBUSRGUP',\n   'realtime_start': '2020-09-24',\n   'realtime_end': '2020-09-24',\n   'title': 'Business Uncertainty: Sales Revenue Growth',\n   'observation_start': '2016-12-01',\n   'observation_end': '2020-08-01',\n   'frequency': 'Monthly',\n   'frequency_short': 'M',\n   'units': 'Percent',\n   'units_short': '%',\n   'seasonal_adjustment': 'Not Seasonally Adjusted',\n   'seasonal_adjustment_short': 'NSA',\n   'last_updated': '2020-09-09 11:37:52-05',\n   'popularity': 8,\n   'group_popularity': 8,\n   'notes': \"This index reflects firms' uncertainty about the growth of their own sales revenue over the next 12 months.\\n\\nFor more details about the methodology or the survey, visit the Survey of Business Uncertainty (https://www.frbatlanta.org/research/surveys/business-uncertainty.aspx).\"}]}"
     },
     "metadata": {},
     "execution_count": 26
    }
   ],
   "source": [
    "fred.category_series(33936)"
   ]
  },
  {
   "cell_type": "code",
   "execution_count": 25,
   "metadata": {
    "tags": []
   },
   "outputs": [
    {
     "output_type": "stream",
     "name": "stdout",
     "text": "realtime_start\nrealtime_end\norder_by\nsort_order\ncount\noffset\nlimit\nseriess\n"
    }
   ],
   "source": [
    "for s in fred.category_series(33936):\n",
    "    print(s)"
   ]
  },
  {
   "cell_type": "code",
   "execution_count": 31,
   "metadata": {},
   "outputs": [
    {
     "output_type": "execute_result",
     "data": {
      "text/plain": "8"
     },
     "metadata": {},
     "execution_count": 31
    }
   ],
   "source": [
    "len(fred.releases())"
   ]
  },
  {
   "cell_type": "code",
   "execution_count": 34,
   "metadata": {},
   "outputs": [
    {
     "output_type": "execute_result",
     "data": {
      "text/plain": "8"
     },
     "metadata": {},
     "execution_count": 34
    }
   ],
   "source": [
    "len(fred.dates())"
   ]
  },
  {
   "cell_type": "code",
   "execution_count": 35,
   "metadata": {},
   "outputs": [
    {
     "output_type": "execute_result",
     "data": {
      "text/plain": "{'realtime_start': '2020-09-23',\n 'realtime_end': '2020-09-23',\n 'seriess': [{'id': 'GNPCA',\n   'realtime_start': '2020-09-23',\n   'realtime_end': '2020-09-23',\n   'title': 'Real Gross National Product',\n   'observation_start': '1929-01-01',\n   'observation_end': '2019-01-01',\n   'frequency': 'Annual',\n   'frequency_short': 'A',\n   'units': 'Billions of Chained 2012 Dollars',\n   'units_short': 'Bil. of Chn. 2012 $',\n   'seasonal_adjustment': 'Not Seasonally Adjusted',\n   'seasonal_adjustment_short': 'NSA',\n   'last_updated': '2020-07-30 07:57:33-05',\n   'popularity': 17,\n   'notes': 'BEA Account Code: A001RX\\n\\n'}]}"
     },
     "metadata": {},
     "execution_count": 35
    }
   ],
   "source": [
    "fred.series('GNPCA')"
   ]
  },
  {
   "cell_type": "code",
   "execution_count": 36,
   "metadata": {},
   "outputs": [
    {
     "output_type": "execute_result",
     "data": {
      "text/plain": "{'realtime_start': '2020-09-23',\n 'realtime_end': '2020-09-23',\n 'releases': [{'id': 53,\n   'realtime_start': '2020-09-23',\n   'realtime_end': '2020-09-23',\n   'name': 'Gross Domestic Product',\n   'press_release': True,\n   'link': 'https://www.bea.gov/data/gdp/gross-domestic-product'}]}"
     },
     "metadata": {},
     "execution_count": 36
    }
   ],
   "source": [
    "fred.series('GNPCA', release=True)"
   ]
  },
  {
   "cell_type": "code",
   "execution_count": 59,
   "metadata": {},
   "outputs": [
    {
     "output_type": "execute_result",
     "data": {
      "text/plain": "13"
     },
     "metadata": {},
     "execution_count": 59
    }
   ],
   "source": [
    "len(fred.observations('GNPCA'))"
   ]
  },
  {
   "cell_type": "code",
   "execution_count": 39,
   "metadata": {},
   "outputs": [
    {
     "output_type": "execute_result",
     "data": {
      "text/plain": "{'realtime_start': '2020-09-23',\n 'realtime_end': '2020-09-23',\n 'order_by': 'search_rank',\n 'sort_order': 'desc',\n 'count': 0,\n 'offset': 0,\n 'limit': 1000,\n 'seriess': []}"
     },
     "metadata": {},
     "execution_count": 39
    }
   ],
   "source": [
    "fred.search('search term')"
   ]
  },
  {
   "cell_type": "code",
   "execution_count": 41,
   "metadata": {},
   "outputs": [
    {
     "output_type": "execute_result",
     "data": {
      "text/plain": "10"
     },
     "metadata": {},
     "execution_count": 41
    }
   ],
   "source": [
    "len(fred.updates())"
   ]
  },
  {
   "cell_type": "code",
   "execution_count": 43,
   "metadata": {},
   "outputs": [
    {
     "output_type": "execute_result",
     "data": {
      "text/plain": "8"
     },
     "metadata": {},
     "execution_count": 43
    }
   ],
   "source": [
    "len(fred.vintage('AAA'))"
   ]
  },
  {
   "cell_type": "code",
   "execution_count": 46,
   "metadata": {},
   "outputs": [
    {
     "output_type": "execute_result",
     "data": {
      "text/plain": "8"
     },
     "metadata": {},
     "execution_count": 46
    }
   ],
   "source": [
    "len(fred.sources())"
   ]
  },
  {
   "cell_type": "code",
   "execution_count": 47,
   "metadata": {},
   "outputs": [
    {
     "output_type": "execute_result",
     "data": {
      "text/plain": "{'realtime_start': '2020-09-23',\n 'realtime_end': '2020-09-23',\n 'sources': [{'id': 23,\n   'realtime_start': '2020-09-23',\n   'realtime_end': '2020-09-23',\n   'name': 'U.S. Department of the Treasury. Fiscal Service',\n   'link': 'http://www.fiscal.treasury.gov/'}]}"
     },
     "metadata": {},
     "execution_count": 47
    }
   ],
   "source": [
    "fred.source(23)"
   ]
  },
  {
   "cell_type": "code",
   "execution_count": null,
   "metadata": {},
   "outputs": [],
   "source": [
    "\n",
    "\n",
    ">>> fred.vintage('AAA')\n",
    "\n",
    "\n",
    "# Query economic data sources.\n",
    ">>> fred.sources()\n",
    "\n",
    ">>> fred.source(23)\n"
   ]
  }
 ]
}