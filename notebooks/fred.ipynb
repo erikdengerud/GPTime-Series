{
 "metadata": {
  "language_info": {
   "codemirror_mode": {
    "name": "ipython",
    "version": 3
   },
   "file_extension": ".py",
   "mimetype": "text/x-python",
   "name": "python",
   "nbconvert_exporter": "python",
   "pygments_lexer": "ipython3",
   "version": "3.6.9-final"
  },
  "orig_nbformat": 2,
  "kernelspec": {
   "name": "Python 3.6.9 64-bit ('venv')",
   "display_name": "Python 3.6.9 64-bit ('venv')",
   "metadata": {
    "interpreter": {
     "hash": "372b0b7ec2deba16ae067aa3df2758e57c96731335b7f57a0616055622e60b0e"
    }
   }
  }
 },
 "nbformat": 4,
 "nbformat_minor": 2,
 "cells": [
  {
   "cell_type": "code",
   "execution_count": 1,
   "metadata": {},
   "outputs": [],
   "source": [
    "import pandas_datareader as pdr"
   ]
  },
  {
   "cell_type": "code",
   "execution_count": 2,
   "metadata": {},
   "outputs": [
    {
     "output_type": "execute_result",
     "data": {
      "text/plain": "            GS10\nDATE            \n2015-10-01  2.07\n2015-11-01  2.26\n2015-12-01  2.24\n2016-01-01  2.09\n2016-02-01  1.78\n2016-03-01  1.89\n2016-04-01  1.81\n2016-05-01  1.81\n2016-06-01  1.64\n2016-07-01  1.50\n2016-08-01  1.56\n2016-09-01  1.63\n2016-10-01  1.76\n2016-11-01  2.14\n2016-12-01  2.49\n2017-01-01  2.43\n2017-02-01  2.42\n2017-03-01  2.48\n2017-04-01  2.30\n2017-05-01  2.30\n2017-06-01  2.19\n2017-07-01  2.32\n2017-08-01  2.21\n2017-09-01  2.20\n2017-10-01  2.36\n2017-11-01  2.35\n2017-12-01  2.40\n2018-01-01  2.58\n2018-02-01  2.86\n2018-03-01  2.84\n2018-04-01  2.87\n2018-05-01  2.98\n2018-06-01  2.91\n2018-07-01  2.89\n2018-08-01  2.89\n2018-09-01  3.00\n2018-10-01  3.15\n2018-11-01  3.12\n2018-12-01  2.83\n2019-01-01  2.71\n2019-02-01  2.68\n2019-03-01  2.57\n2019-04-01  2.53\n2019-05-01  2.40\n2019-06-01  2.07\n2019-07-01  2.06\n2019-08-01  1.63\n2019-09-01  1.70\n2019-10-01  1.71\n2019-11-01  1.81\n2019-12-01  1.86\n2020-01-01  1.76\n2020-02-01  1.50\n2020-03-01  0.87\n2020-04-01  0.66\n2020-05-01  0.67\n2020-06-01  0.73\n2020-07-01  0.62\n2020-08-01  0.65",
      "text/html": "<div>\n<style scoped>\n    .dataframe tbody tr th:only-of-type {\n        vertical-align: middle;\n    }\n\n    .dataframe tbody tr th {\n        vertical-align: top;\n    }\n\n    .dataframe thead th {\n        text-align: right;\n    }\n</style>\n<table border=\"1\" class=\"dataframe\">\n  <thead>\n    <tr style=\"text-align: right;\">\n      <th></th>\n      <th>GS10</th>\n    </tr>\n    <tr>\n      <th>DATE</th>\n      <th></th>\n    </tr>\n  </thead>\n  <tbody>\n    <tr>\n      <th>2015-10-01</th>\n      <td>2.07</td>\n    </tr>\n    <tr>\n      <th>2015-11-01</th>\n      <td>2.26</td>\n    </tr>\n    <tr>\n      <th>2015-12-01</th>\n      <td>2.24</td>\n    </tr>\n    <tr>\n      <th>2016-01-01</th>\n      <td>2.09</td>\n    </tr>\n    <tr>\n      <th>2016-02-01</th>\n      <td>1.78</td>\n    </tr>\n    <tr>\n      <th>2016-03-01</th>\n      <td>1.89</td>\n    </tr>\n    <tr>\n      <th>2016-04-01</th>\n      <td>1.81</td>\n    </tr>\n    <tr>\n      <th>2016-05-01</th>\n      <td>1.81</td>\n    </tr>\n    <tr>\n      <th>2016-06-01</th>\n      <td>1.64</td>\n    </tr>\n    <tr>\n      <th>2016-07-01</th>\n      <td>1.50</td>\n    </tr>\n    <tr>\n      <th>2016-08-01</th>\n      <td>1.56</td>\n    </tr>\n    <tr>\n      <th>2016-09-01</th>\n      <td>1.63</td>\n    </tr>\n    <tr>\n      <th>2016-10-01</th>\n      <td>1.76</td>\n    </tr>\n    <tr>\n      <th>2016-11-01</th>\n      <td>2.14</td>\n    </tr>\n    <tr>\n      <th>2016-12-01</th>\n      <td>2.49</td>\n    </tr>\n    <tr>\n      <th>2017-01-01</th>\n      <td>2.43</td>\n    </tr>\n    <tr>\n      <th>2017-02-01</th>\n      <td>2.42</td>\n    </tr>\n    <tr>\n      <th>2017-03-01</th>\n      <td>2.48</td>\n    </tr>\n    <tr>\n      <th>2017-04-01</th>\n      <td>2.30</td>\n    </tr>\n    <tr>\n      <th>2017-05-01</th>\n      <td>2.30</td>\n    </tr>\n    <tr>\n      <th>2017-06-01</th>\n      <td>2.19</td>\n    </tr>\n    <tr>\n      <th>2017-07-01</th>\n      <td>2.32</td>\n    </tr>\n    <tr>\n      <th>2017-08-01</th>\n      <td>2.21</td>\n    </tr>\n    <tr>\n      <th>2017-09-01</th>\n      <td>2.20</td>\n    </tr>\n    <tr>\n      <th>2017-10-01</th>\n      <td>2.36</td>\n    </tr>\n    <tr>\n      <th>2017-11-01</th>\n      <td>2.35</td>\n    </tr>\n    <tr>\n      <th>2017-12-01</th>\n      <td>2.40</td>\n    </tr>\n    <tr>\n      <th>2018-01-01</th>\n      <td>2.58</td>\n    </tr>\n    <tr>\n      <th>2018-02-01</th>\n      <td>2.86</td>\n    </tr>\n    <tr>\n      <th>2018-03-01</th>\n      <td>2.84</td>\n    </tr>\n    <tr>\n      <th>2018-04-01</th>\n      <td>2.87</td>\n    </tr>\n    <tr>\n      <th>2018-05-01</th>\n      <td>2.98</td>\n    </tr>\n    <tr>\n      <th>2018-06-01</th>\n      <td>2.91</td>\n    </tr>\n    <tr>\n      <th>2018-07-01</th>\n      <td>2.89</td>\n    </tr>\n    <tr>\n      <th>2018-08-01</th>\n      <td>2.89</td>\n    </tr>\n    <tr>\n      <th>2018-09-01</th>\n      <td>3.00</td>\n    </tr>\n    <tr>\n      <th>2018-10-01</th>\n      <td>3.15</td>\n    </tr>\n    <tr>\n      <th>2018-11-01</th>\n      <td>3.12</td>\n    </tr>\n    <tr>\n      <th>2018-12-01</th>\n      <td>2.83</td>\n    </tr>\n    <tr>\n      <th>2019-01-01</th>\n      <td>2.71</td>\n    </tr>\n    <tr>\n      <th>2019-02-01</th>\n      <td>2.68</td>\n    </tr>\n    <tr>\n      <th>2019-03-01</th>\n      <td>2.57</td>\n    </tr>\n    <tr>\n      <th>2019-04-01</th>\n      <td>2.53</td>\n    </tr>\n    <tr>\n      <th>2019-05-01</th>\n      <td>2.40</td>\n    </tr>\n    <tr>\n      <th>2019-06-01</th>\n      <td>2.07</td>\n    </tr>\n    <tr>\n      <th>2019-07-01</th>\n      <td>2.06</td>\n    </tr>\n    <tr>\n      <th>2019-08-01</th>\n      <td>1.63</td>\n    </tr>\n    <tr>\n      <th>2019-09-01</th>\n      <td>1.70</td>\n    </tr>\n    <tr>\n      <th>2019-10-01</th>\n      <td>1.71</td>\n    </tr>\n    <tr>\n      <th>2019-11-01</th>\n      <td>1.81</td>\n    </tr>\n    <tr>\n      <th>2019-12-01</th>\n      <td>1.86</td>\n    </tr>\n    <tr>\n      <th>2020-01-01</th>\n      <td>1.76</td>\n    </tr>\n    <tr>\n      <th>2020-02-01</th>\n      <td>1.50</td>\n    </tr>\n    <tr>\n      <th>2020-03-01</th>\n      <td>0.87</td>\n    </tr>\n    <tr>\n      <th>2020-04-01</th>\n      <td>0.66</td>\n    </tr>\n    <tr>\n      <th>2020-05-01</th>\n      <td>0.67</td>\n    </tr>\n    <tr>\n      <th>2020-06-01</th>\n      <td>0.73</td>\n    </tr>\n    <tr>\n      <th>2020-07-01</th>\n      <td>0.62</td>\n    </tr>\n    <tr>\n      <th>2020-08-01</th>\n      <td>0.65</td>\n    </tr>\n  </tbody>\n</table>\n</div>"
     },
     "metadata": {},
     "execution_count": 2
    }
   ],
   "source": [
    "pdr.get_data_fred('GS10')"
   ]
  },
  {
   "cell_type": "code",
   "execution_count": 1,
   "metadata": {},
   "outputs": [],
   "source": [
    "import fred"
   ]
  },
  {
   "cell_type": "code",
   "execution_count": 2,
   "metadata": {},
   "outputs": [
    {
     "output_type": "execute_result",
     "data": {
      "text/plain": "<fred.core.Fred at 0x7fe8f0299a20>"
     },
     "metadata": {},
     "execution_count": 2
    }
   ],
   "source": [
    "fred.key('01571df9f62cb8c1ff7dcb8471b164c8')"
   ]
  },
  {
   "cell_type": "code",
   "execution_count": 5,
   "metadata": {},
   "outputs": [
    {
     "output_type": "execute_result",
     "data": {
      "text/plain": "{'categories': [{'id': 0, 'name': 'Categories', 'parent_id': 0}]}"
     },
     "metadata": {},
     "execution_count": 5
    }
   ],
   "source": [
    "fred.category()"
   ]
  },
  {
   "cell_type": "code",
   "execution_count": 6,
   "metadata": {},
   "outputs": [
    {
     "output_type": "execute_result",
     "data": {
      "text/plain": "{'categories': [{'id': 1,\n   'name': 'Production & Business Activity',\n   'parent_id': 0}]}"
     },
     "metadata": {},
     "execution_count": 6
    }
   ],
   "source": [
    "fred.categories(1) # 1 -> 31"
   ]
  },
  {
   "cell_type": "code",
   "execution_count": 7,
   "metadata": {},
   "outputs": [
    {
     "output_type": "execute_result",
     "data": {
      "text/plain": "{'categories': [{'id': 32262,\n   'name': 'Business Cycle Expansions & Contractions',\n   'parent_id': 1},\n  {'id': 33936, 'name': 'Business Surveys', 'parent_id': 1},\n  {'id': 32436, 'name': 'Construction', 'parent_id': 1},\n  {'id': 33940, 'name': 'Emissions', 'parent_id': 1},\n  {'id': 33490, 'name': 'Finance Companies', 'parent_id': 1},\n  {'id': 32216, 'name': 'Health Insurance', 'parent_id': 1},\n  {'id': 97, 'name': 'Housing', 'parent_id': 1},\n  {'id': 3,\n   'name': 'Industrial Production & Capacity Utilization',\n   'parent_id': 1},\n  {'id': 32429, 'name': 'Manufacturing', 'parent_id': 1},\n  {'id': 6, 'name': 'Retail Trade', 'parent_id': 1},\n  {'id': 33441, 'name': 'Services', 'parent_id': 1},\n  {'id': 33492, 'name': 'Technology', 'parent_id': 1},\n  {'id': 33202, 'name': 'Transportation', 'parent_id': 1},\n  {'id': 33203, 'name': 'Wholesale Trade', 'parent_id': 1}]}"
     },
     "metadata": {},
     "execution_count": 7
    }
   ],
   "source": [
    "fred.children(1)"
   ]
  },
  {
   "cell_type": "code",
   "execution_count": 12,
   "metadata": {
    "tags": []
   },
   "outputs": [
    {
     "output_type": "stream",
     "name": "stdout",
     "text": "32262 {'categories': []}\n33936 {'categories': []}\n32436 {'categories': []}\n33940 {'categories': []}\n33490 {'categories': []}\n32216 {'categories': []}\n97 {'categories': [{'id': 32300, 'name': 'Housing Units Authorized by Building Permits', 'parent_id': 97}, {'id': 32301, 'name': 'Housing Units Authorized, But Not Yet Started', 'parent_id': 97}, {'id': 32302, 'name': 'Housing Starts', 'parent_id': 97}, {'id': 32303, 'name': 'Housing Units Under Construction', 'parent_id': 97}, {'id': 32304, 'name': 'Housing Units Completed', 'parent_id': 97}, {'id': 32426, 'name': 'New Residential Sales', 'parent_id': 97}, {'id': 33949, 'name': 'Manufactured Housing', 'parent_id': 97}]}\n3 {'categories': [{'id': 33938, 'name': 'Automotive Production Seasonal Factor', 'parent_id': 3}]}\n32429 {'categories': [{'id': 32432, 'name': 'Inventories', 'parent_id': 32429}, {'id': 32431, 'name': 'New Orders', 'parent_id': 32429}, {'id': 32433, 'name': 'Inventory to Shipments', 'parent_id': 32429}, {'id': 32435, 'name': 'Unfilled Orders', 'parent_id': 32429}, {'id': 32434, 'name': 'Unfilled Orders to Shipments', 'parent_id': 32429}, {'id': 32430, 'name': 'Shipments', 'parent_id': 32429}]}\n6 {'categories': []}\n33441 {'categories': []}\n33492 {'categories': []}\n33202 {'categories': [{'id': 32993, 'name': 'Motor Vehicles', 'parent_id': 33202}]}\n33203 {'categories': []}\n"
    }
   ],
   "source": [
    "children = fred.children(1)\n",
    "for c in children[\"categories\"]:\n",
    "    print(c[\"id\"], fred.children(c[\"id\"]))"
   ]
  },
  {
   "cell_type": "code",
   "execution_count": 15,
   "metadata": {},
   "outputs": [
    {
     "output_type": "execute_result",
     "data": {
      "text/plain": "{'categories': []}"
     },
     "metadata": {},
     "execution_count": 15
    }
   ],
   "source": [
    "fred.children(32993)"
   ]
  },
  {
   "cell_type": "code",
   "execution_count": 21,
   "metadata": {},
   "outputs": [],
   "source": [
    "fred.category_series(32993)\n",
    "x=1"
   ]
  },
  {
   "cell_type": "code",
   "execution_count": null,
   "metadata": {},
   "outputs": [],
   "source": [
    "def find_children(id)"
   ]
  },
  {
   "cell_type": "code",
   "execution_count": 22,
   "metadata": {
    "tags": []
   },
   "outputs": [],
   "source": [
    "all_ids = []\n",
    "for parent in range(1,32):\n",
    "    #print(i)\n",
    "    #find_children(parent)\n",
    "    pass"
   ]
  },
  {
   "cell_type": "code",
   "execution_count": 5,
   "metadata": {
    "tags": []
   },
   "outputs": [
    {
     "output_type": "stream",
     "name": "stdout",
     "text": "{'id': 'ATLSBUBEI', 'realtime_start': '2020-09-25', 'realtime_end': '2020-09-25', 'title': 'Business Expectations Index (DISCONTINUED)', 'observation_start': '2015-01-01', 'observation_end': '2020-07-01', 'frequency': 'Monthly', 'frequency_short': 'M', 'units': 'Index 2015-2018=100', 'units_short': 'Index 2015-2018=100', 'seasonal_adjustment': 'Not Seasonally Adjusted', 'seasonal_adjustment_short': 'NSA', 'last_updated': '2020-07-29 10:01:03-05', 'popularity': 24, 'group_popularity': 24, 'notes': \"This series was discontinued by the source following revisions to the methodology and panel design for the Survey of Business Uncertainty. For more details, see the revised methodology (https://www.frbatlanta.org/-/media/documents/research/surveys/business-uncertainty/survey-of-business-uncertainty-methodology.pdf).\\n\\nThis index reflects firms' expectations about the growth of their own sales, employment, and capital expenditures over the next 12 months. The index can respond to news about the overall economy, changes in business sentiment, policy developments, stock market moves, interest rate changes, and changes in the outlook of firms in the sample. The expectations index captures the expected direction and magnitude of each change for sample firms. Each index is standardized to have mean and variance of 100 during the period from January 2015 to December 2018.\\n\\nFor more details about the index or the survey, visit the Survey of Business Uncertainty (https://www.frbatlanta.org/research/surveys/business-uncertainty.aspx).\"}\n"
    }
   ],
   "source": [
    "for s in fred.category_series(33936)[\"seriess\"]:\n",
    "    print(s)\n",
    "    break"
   ]
  },
  {
   "cell_type": "code",
   "execution_count": 9,
   "metadata": {},
   "outputs": [
    {
     "output_type": "execute_result",
     "data": {
      "text/plain": "{'realtime_start': '2020-09-25',\n 'realtime_end': '2020-09-25',\n 'observation_start': '1600-01-01',\n 'observation_end': '9999-12-31',\n 'units': 'lin',\n 'output_type': 1,\n 'file_type': 'json',\n 'order_by': 'observation_date',\n 'sort_order': 'asc',\n 'count': 67,\n 'offset': 0,\n 'limit': 100000,\n 'observations': [{'realtime_start': '2020-09-25',\n   'realtime_end': '2020-09-25',\n   'date': '2015-01-01',\n   'value': '88.33562'},\n  {'realtime_start': '2020-09-25',\n   'realtime_end': '2020-09-25',\n   'date': '2015-02-01',\n   'value': '89.52779'},\n  {'realtime_start': '2020-09-25',\n   'realtime_end': '2020-09-25',\n   'date': '2015-03-01',\n   'value': '93.91851'},\n  {'realtime_start': '2020-09-25',\n   'realtime_end': '2020-09-25',\n   'date': '2015-04-01',\n   'value': '91.43681'},\n  {'realtime_start': '2020-09-25',\n   'realtime_end': '2020-09-25',\n   'date': '2015-05-01',\n   'value': '92.69312'},\n  {'realtime_start': '2020-09-25',\n   'realtime_end': '2020-09-25',\n   'date': '2015-06-01',\n   'value': '92.05122'},\n  {'realtime_start': '2020-09-25',\n   'realtime_end': '2020-09-25',\n   'date': '2015-07-01',\n   'value': '89.2875'},\n  {'realtime_start': '2020-09-25',\n   'realtime_end': '2020-09-25',\n   'date': '2015-08-01',\n   'value': '97.53385'},\n  {'realtime_start': '2020-09-25',\n   'realtime_end': '2020-09-25',\n   'date': '2015-09-01',\n   'value': '99.45322'},\n  {'realtime_start': '2020-09-25',\n   'realtime_end': '2020-09-25',\n   'date': '2015-10-01',\n   'value': '97.05824'},\n  {'realtime_start': '2020-09-25',\n   'realtime_end': '2020-09-25',\n   'date': '2015-11-01',\n   'value': '97.81676'},\n  {'realtime_start': '2020-09-25',\n   'realtime_end': '2020-09-25',\n   'date': '2015-12-01',\n   'value': '95.83467'},\n  {'realtime_start': '2020-09-25',\n   'realtime_end': '2020-09-25',\n   'date': '2016-01-01',\n   'value': '96.92968'},\n  {'realtime_start': '2020-09-25',\n   'realtime_end': '2020-09-25',\n   'date': '2016-02-01',\n   'value': '94.83401'},\n  {'realtime_start': '2020-09-25',\n   'realtime_end': '2020-09-25',\n   'date': '2016-03-01',\n   'value': '95.93616'},\n  {'realtime_start': '2020-09-25',\n   'realtime_end': '2020-09-25',\n   'date': '2016-04-01',\n   'value': '98.02985'},\n  {'realtime_start': '2020-09-25',\n   'realtime_end': '2020-09-25',\n   'date': '2016-05-01',\n   'value': '89.17377'},\n  {'realtime_start': '2020-09-25',\n   'realtime_end': '2020-09-25',\n   'date': '2016-06-01',\n   'value': '88.31049'},\n  {'realtime_start': '2020-09-25',\n   'realtime_end': '2020-09-25',\n   'date': '2016-07-01',\n   'value': '88.90655'},\n  {'realtime_start': '2020-09-25',\n   'realtime_end': '2020-09-25',\n   'date': '2016-08-01',\n   'value': '87.27869'},\n  {'realtime_start': '2020-09-25',\n   'realtime_end': '2020-09-25',\n   'date': '2016-09-01',\n   'value': '90.17211'},\n  {'realtime_start': '2020-09-25',\n   'realtime_end': '2020-09-25',\n   'date': '2016-10-01',\n   'value': '92.21151'},\n  {'realtime_start': '2020-09-25',\n   'realtime_end': '2020-09-25',\n   'date': '2016-11-01',\n   'value': '95.13334'},\n  {'realtime_start': '2020-09-25',\n   'realtime_end': '2020-09-25',\n   'date': '2016-12-01',\n   'value': '95.1319'},\n  {'realtime_start': '2020-09-25',\n   'realtime_end': '2020-09-25',\n   'date': '2017-01-01',\n   'value': '92.7454'},\n  {'realtime_start': '2020-09-25',\n   'realtime_end': '2020-09-25',\n   'date': '2017-02-01',\n   'value': '102.2772'},\n  {'realtime_start': '2020-09-25',\n   'realtime_end': '2020-09-25',\n   'date': '2017-03-01',\n   'value': '103.5058'},\n  {'realtime_start': '2020-09-25',\n   'realtime_end': '2020-09-25',\n   'date': '2017-04-01',\n   'value': '107.1968'},\n  {'realtime_start': '2020-09-25',\n   'realtime_end': '2020-09-25',\n   'date': '2017-05-01',\n   'value': '101.6792'},\n  {'realtime_start': '2020-09-25',\n   'realtime_end': '2020-09-25',\n   'date': '2017-06-01',\n   'value': '98.18374'},\n  {'realtime_start': '2020-09-25',\n   'realtime_end': '2020-09-25',\n   'date': '2017-07-01',\n   'value': '89.59905'},\n  {'realtime_start': '2020-09-25',\n   'realtime_end': '2020-09-25',\n   'date': '2017-08-01',\n   'value': '95.43449'},\n  {'realtime_start': '2020-09-25',\n   'realtime_end': '2020-09-25',\n   'date': '2017-09-01',\n   'value': '93.03184'},\n  {'realtime_start': '2020-09-25',\n   'realtime_end': '2020-09-25',\n   'date': '2017-10-01',\n   'value': '98.49754'},\n  {'realtime_start': '2020-09-25',\n   'realtime_end': '2020-09-25',\n   'date': '2017-11-01',\n   'value': '94.16138'},\n  {'realtime_start': '2020-09-25',\n   'realtime_end': '2020-09-25',\n   'date': '2017-12-01',\n   'value': '107.2039'},\n  {'realtime_start': '2020-09-25',\n   'realtime_end': '2020-09-25',\n   'date': '2018-01-01',\n   'value': '107.882'},\n  {'realtime_start': '2020-09-25',\n   'realtime_end': '2020-09-25',\n   'date': '2018-02-01',\n   'value': '110.2291'},\n  {'realtime_start': '2020-09-25',\n   'realtime_end': '2020-09-25',\n   'date': '2018-03-01',\n   'value': '109.2534'},\n  {'realtime_start': '2020-09-25',\n   'realtime_end': '2020-09-25',\n   'date': '2018-04-01',\n   'value': '115.5923'},\n  {'realtime_start': '2020-09-25',\n   'realtime_end': '2020-09-25',\n   'date': '2018-05-01',\n   'value': '114.632'},\n  {'realtime_start': '2020-09-25',\n   'realtime_end': '2020-09-25',\n   'date': '2018-06-01',\n   'value': '113.5369'},\n  {'realtime_start': '2020-09-25',\n   'realtime_end': '2020-09-25',\n   'date': '2018-07-01',\n   'value': '115.1182'},\n  {'realtime_start': '2020-09-25',\n   'realtime_end': '2020-09-25',\n   'date': '2018-08-01',\n   'value': '117.0967'},\n  {'realtime_start': '2020-09-25',\n   'realtime_end': '2020-09-25',\n   'date': '2018-09-01',\n   'value': '117.7053'},\n  {'realtime_start': '2020-09-25',\n   'realtime_end': '2020-09-25',\n   'date': '2018-10-01',\n   'value': '120.5285'},\n  {'realtime_start': '2020-09-25',\n   'realtime_end': '2020-09-25',\n   'date': '2018-11-01',\n   'value': '121.642'},\n  {'realtime_start': '2020-09-25',\n   'realtime_end': '2020-09-25',\n   'date': '2018-12-01',\n   'value': '116.2718'},\n  {'realtime_start': '2020-09-25',\n   'realtime_end': '2020-09-25',\n   'date': '2019-01-01',\n   'value': '104.424'},\n  {'realtime_start': '2020-09-25',\n   'realtime_end': '2020-09-25',\n   'date': '2019-02-01',\n   'value': '96.30399'},\n  {'realtime_start': '2020-09-25',\n   'realtime_end': '2020-09-25',\n   'date': '2019-03-01',\n   'value': '95.99884'},\n  {'realtime_start': '2020-09-25',\n   'realtime_end': '2020-09-25',\n   'date': '2019-04-01',\n   'value': '101.5169'},\n  {'realtime_start': '2020-09-25',\n   'realtime_end': '2020-09-25',\n   'date': '2019-05-01',\n   'value': '104.8812'},\n  {'realtime_start': '2020-09-25',\n   'realtime_end': '2020-09-25',\n   'date': '2019-06-01',\n   'value': '104.2395'},\n  {'realtime_start': '2020-09-25',\n   'realtime_end': '2020-09-25',\n   'date': '2019-07-01',\n   'value': '94.88969'},\n  {'realtime_start': '2020-09-25',\n   'realtime_end': '2020-09-25',\n   'date': '2019-08-01',\n   'value': '92.38857'},\n  {'realtime_start': '2020-09-25',\n   'realtime_end': '2020-09-25',\n   'date': '2019-09-01',\n   'value': '87.7662'},\n  {'realtime_start': '2020-09-25',\n   'realtime_end': '2020-09-25',\n   'date': '2019-10-01',\n   'value': '88.61639'},\n  {'realtime_start': '2020-09-25',\n   'realtime_end': '2020-09-25',\n   'date': '2019-11-01',\n   'value': '90.90861'},\n  {'realtime_start': '2020-09-25',\n   'realtime_end': '2020-09-25',\n   'date': '2019-12-01',\n   'value': '93.02451'},\n  {'realtime_start': '2020-09-25',\n   'realtime_end': '2020-09-25',\n   'date': '2020-01-01',\n   'value': '103.0721'},\n  {'realtime_start': '2020-09-25',\n   'realtime_end': '2020-09-25',\n   'date': '2020-02-01',\n   'value': '103.8947'},\n  {'realtime_start': '2020-09-25',\n   'realtime_end': '2020-09-25',\n   'date': '2020-03-01',\n   'value': '83.71452'},\n  {'realtime_start': '2020-09-25',\n   'realtime_end': '2020-09-25',\n   'date': '2020-04-01',\n   'value': '47.50996'},\n  {'realtime_start': '2020-09-25',\n   'realtime_end': '2020-09-25',\n   'date': '2020-05-01',\n   'value': '25.52114'},\n  {'realtime_start': '2020-09-25',\n   'realtime_end': '2020-09-25',\n   'date': '2020-06-01',\n   'value': '34.52319'},\n  {'realtime_start': '2020-09-25',\n   'realtime_end': '2020-09-25',\n   'date': '2020-07-01',\n   'value': '56.97071'}]}"
     },
     "metadata": {},
     "execution_count": 9
    }
   ],
   "source": [
    "fred.observations(\"ATLSBUBEI\")"
   ]
  },
  {
   "cell_type": "code",
   "execution_count": 8,
   "metadata": {},
   "outputs": [
    {
     "output_type": "execute_result",
     "data": {
      "text/plain": "['88.33562',\n '89.52779',\n '93.91851',\n '91.43681',\n '92.69312',\n '92.05122',\n '89.2875',\n '97.53385',\n '99.45322',\n '97.05824',\n '97.81676',\n '95.83467',\n '96.92968',\n '94.83401',\n '95.93616',\n '98.02985',\n '89.17377',\n '88.31049',\n '88.90655',\n '87.27869',\n '90.17211',\n '92.21151',\n '95.13334',\n '95.1319',\n '92.7454',\n '102.2772',\n '103.5058',\n '107.1968',\n '101.6792',\n '98.18374',\n '89.59905',\n '95.43449',\n '93.03184',\n '98.49754',\n '94.16138',\n '107.2039',\n '107.882',\n '110.2291',\n '109.2534',\n '115.5923',\n '114.632',\n '113.5369',\n '115.1182',\n '117.0967',\n '117.7053',\n '120.5285',\n '121.642',\n '116.2718',\n '104.424',\n '96.30399',\n '95.99884',\n '101.5169',\n '104.8812',\n '104.2395',\n '94.88969',\n '92.38857',\n '87.7662',\n '88.61639',\n '90.90861',\n '93.02451',\n '103.0721',\n '103.8947',\n '83.71452',\n '47.50996',\n '25.52114',\n '34.52319',\n '56.97071']"
     },
     "metadata": {},
     "execution_count": 8
    }
   ],
   "source": [
    "[el[\"value\"] for el in fred.observations(\"ATLSBUBEI\")[\"observations\"]]"
   ]
  },
  {
   "cell_type": "code",
   "execution_count": 17,
   "metadata": {
    "tags": []
   },
   "outputs": [
    {
     "output_type": "stream",
     "name": "stdout",
     "text": "ATLSBUBEI\nATLSBUBUI\nATLSBUEGEI\nATLSBUEGEP\nATLSBUEGUI\nATLSBUEGUP\nATLSBUIREI\nATLSBUIRUI\nATLSBUSGEI\nATLSBUSGUI\nATLSBUSRGEP\nATLSBUSRGUP\n"
    }
   ],
   "source": [
    "for s in fred.category_series(33936)[\"seriess\"]:\n",
    "    print(s[\"id\"])"
   ]
  },
  {
   "cell_type": "code",
   "execution_count": null,
   "metadata": {},
   "outputs": [],
   "source": []
  },
  {
   "cell_type": "code",
   "execution_count": 30,
   "metadata": {
    "tags": []
   },
   "outputs": [
    {
     "output_type": "stream",
     "name": "stdout",
     "text": "260 ms ± 11.4 ms per loop (mean ± std. dev. of 7 runs, 1 loop each)\n"
    }
   ],
   "source": [
    "%%timeit\n",
    "values = []\n",
    "for obs in fred.observations(\"ATLSBUBEI\")[\"observations\"]:\n",
    "    values.append(obs[\"value\"])"
   ]
  },
  {
   "cell_type": "code",
   "execution_count": 33,
   "metadata": {},
   "outputs": [
    {
     "output_type": "execute_result",
     "data": {
      "text/plain": "55.68333333333333"
     },
     "metadata": {},
     "execution_count": 33
    }
   ],
   "source": [
    "260*0.001*771000 / 3600"
   ]
  },
  {
   "cell_type": "code",
   "execution_count": 23,
   "metadata": {},
   "outputs": [
    {
     "output_type": "execute_result",
     "data": {
      "text/plain": "{'categories': [{'id': 1,\n   'name': 'Production & Business Activity',\n   'parent_id': 0}]}"
     },
     "metadata": {},
     "execution_count": 23
    }
   ],
   "source": [
    "fred.categories(1)"
   ]
  },
  {
   "cell_type": "code",
   "execution_count": 24,
   "metadata": {},
   "outputs": [
    {
     "output_type": "execute_result",
     "data": {
      "text/plain": "{'realtime_start': '2020-09-23',\n 'realtime_end': '2020-09-23',\n 'order_by': 'series_id',\n 'sort_order': 'asc',\n 'count': 0,\n 'offset': 0,\n 'limit': 1000,\n 'seriess': []}"
     },
     "metadata": {},
     "execution_count": 24
    }
   ],
   "source": [
    "fred.category(series=True)"
   ]
  },
  {
   "cell_type": "code",
   "execution_count": 26,
   "metadata": {},
   "outputs": [
    {
     "output_type": "execute_result",
     "data": {
      "text/plain": "{'realtime_start': '2020-09-24',\n 'realtime_end': '2020-09-24',\n 'order_by': 'series_id',\n 'sort_order': 'asc',\n 'count': 12,\n 'offset': 0,\n 'limit': 1000,\n 'seriess': [{'id': 'ATLSBUBEI',\n   'realtime_start': '2020-09-24',\n   'realtime_end': '2020-09-24',\n   'title': 'Business Expectations Index (DISCONTINUED)',\n   'observation_start': '2015-01-01',\n   'observation_end': '2020-07-01',\n   'frequency': 'Monthly',\n   'frequency_short': 'M',\n   'units': 'Index 2015-2018=100',\n   'units_short': 'Index 2015-2018=100',\n   'seasonal_adjustment': 'Not Seasonally Adjusted',\n   'seasonal_adjustment_short': 'NSA',\n   'last_updated': '2020-07-29 10:01:03-05',\n   'popularity': 25,\n   'group_popularity': 25,\n   'notes': \"This series was discontinued by the source following revisions to the methodology and panel design for the Survey of Business Uncertainty. For more details, see the revised methodology (https://www.frbatlanta.org/-/media/documents/research/surveys/business-uncertainty/survey-of-business-uncertainty-methodology.pdf).\\n\\nThis index reflects firms' expectations about the growth of their own sales, employment, and capital expenditures over the next 12 months. The index can respond to news about the overall economy, changes in business sentiment, policy developments, stock market moves, interest rate changes, and changes in the outlook of firms in the sample. The expectations index captures the expected direction and magnitude of each change for sample firms. Each index is standardized to have mean and variance of 100 during the period from January 2015 to December 2018.\\n\\nFor more details about the index or the survey, visit the Survey of Business Uncertainty (https://www.frbatlanta.org/research/surveys/business-uncertainty.aspx).\"},\n  {'id': 'ATLSBUBUI',\n   'realtime_start': '2020-09-24',\n   'realtime_end': '2020-09-24',\n   'title': 'Business Uncertainty Index (DISCONTINUED)',\n   'observation_start': '2015-01-01',\n   'observation_end': '2020-07-01',\n   'frequency': 'Monthly',\n   'frequency_short': 'M',\n   'units': 'Index 2015-2018=100',\n   'units_short': 'Index 2015-2018=100',\n   'seasonal_adjustment': 'Not Seasonally Adjusted',\n   'seasonal_adjustment_short': 'NSA',\n   'last_updated': '2020-07-29 10:01:04-05',\n   'popularity': 14,\n   'group_popularity': 14,\n   'notes': \"This series was discontinued by the source following revisions to the methodology and panel design for the Survey of Business Uncertainty. For more details, see the revised methodology (https://www.frbatlanta.org/-/media/documents/research/surveys/business-uncertainty/survey-of-business-uncertainty-methodology.pdf).\\n\\nThis index reflects firms' uncertainty about the growth of their own sales, employment, and capital expenditures over the next 12 months. The index can respond to news about the overall economy, changes in business sentiment, policy developments, stock market moves, interest rate changes, and changes in the outlook of firms in the sample. The uncertainty index captures uncertainty about the outlook for sample firms. Each index is standardized to have mean and variance of 100 during the period from January 2015 to December 2018.\\n\\nFor more details about the index or the survey, visit the Survey of Business Uncertainty (https://www.frbatlanta.org/research/surveys/business-uncertainty.aspx).\"},\n  {'id': 'ATLSBUEGEI',\n   'realtime_start': '2020-09-24',\n   'realtime_end': '2020-09-24',\n   'title': 'Business Expectations: Employment Growth Index (DISCONTINUED)',\n   'observation_start': '2015-01-01',\n   'observation_end': '2020-07-01',\n   'frequency': 'Monthly',\n   'frequency_short': 'M',\n   'units': 'Index',\n   'units_short': 'Index',\n   'seasonal_adjustment': 'Not Seasonally Adjusted',\n   'seasonal_adjustment_short': 'NSA',\n   'last_updated': '2020-07-29 10:01:04-05',\n   'popularity': 12,\n   'group_popularity': 12,\n   'notes': \"This series was discontinued by the source following revisions to the methodology and panel design for the Survey of Business Uncertainty. For more details, see the revised methodology (https://www.frbatlanta.org/-/media/documents/research/surveys/business-uncertainty/survey-of-business-uncertainty-methodology.pdf).\\n\\nThis index reflects firms' mean subjective expectations about the growth of their own employment over the next 12 months. The index can respond to news about the overall economy, changes in business sentiment, policy developments, stock market moves, interest rate changes, and changes in the outlook of firms in the sample. The expectations index captures the expected direction and magnitude of each change for sample firms.\\n\\nFor more details about the index or the survey, visit the Survey of Business Uncertainty (https://www.frbatlanta.org/research/surveys/business-uncertainty.aspx).\"},\n  {'id': 'ATLSBUEGEP',\n   'realtime_start': '2020-09-24',\n   'realtime_end': '2020-09-24',\n   'title': 'Business Expectations: Employment Growth',\n   'observation_start': '2016-12-01',\n   'observation_end': '2020-08-01',\n   'frequency': 'Monthly',\n   'frequency_short': 'M',\n   'units': 'Percent',\n   'units_short': '%',\n   'seasonal_adjustment': 'Not Seasonally Adjusted',\n   'seasonal_adjustment_short': 'NSA',\n   'last_updated': '2020-09-09 11:37:50-05',\n   'popularity': 4,\n   'group_popularity': 4,\n   'notes': \"This index reflects firms' expectations about the growth of their own employment levels over the next 12 months.\\n\\nFor more details about the methodology or the survey, visit the Survey of Business Uncertainty (https://www.frbatlanta.org/research/surveys/business-uncertainty.aspx).\"},\n  {'id': 'ATLSBUEGUI',\n   'realtime_start': '2020-09-24',\n   'realtime_end': '2020-09-24',\n   'title': 'Business Uncertainty: Employment Growth Index (DISCONTINUED)',\n   'observation_start': '2015-01-01',\n   'observation_end': '2020-07-01',\n   'frequency': 'Monthly',\n   'frequency_short': 'M',\n   'units': 'Index',\n   'units_short': 'Index',\n   'seasonal_adjustment': 'Not Seasonally Adjusted',\n   'seasonal_adjustment_short': 'NSA',\n   'last_updated': '2020-07-29 10:01:06-05',\n   'popularity': 6,\n   'group_popularity': 5,\n   'notes': \"This series was discontinued by the source following revisions to the methodology and panel design for the Survey of Business Uncertainty. For more details, see the revised methodology (https://www.frbatlanta.org/-/media/documents/research/surveys/business-uncertainty/survey-of-business-uncertainty-methodology.pdf).\\n\\nThis index reflects firms' uncertainty about the growth of their own employment over the next 12 months. The index can respond to news about the overall economy, changes in business sentiment, policy developments, stock market moves, interest rate changes, and changes in the outlook of firms in the sample. The uncertainty index captures uncertainty about the outlook for sample firms.\\n\\nFor more details about the index or the survey, visit the Survey of Business Uncertainty (https://www.frbatlanta.org/research/surveys/business-uncertainty.aspx).\"},\n  {'id': 'ATLSBUEGUP',\n   'realtime_start': '2020-09-24',\n   'realtime_end': '2020-09-24',\n   'title': 'Business Uncertainty: Employment Growth',\n   'observation_start': '2016-12-01',\n   'observation_end': '2020-08-01',\n   'frequency': 'Monthly',\n   'frequency_short': 'M',\n   'units': 'Percent',\n   'units_short': '%',\n   'seasonal_adjustment': 'Not Seasonally Adjusted',\n   'seasonal_adjustment_short': 'NSA',\n   'last_updated': '2020-09-09 11:37:51-05',\n   'popularity': 7,\n   'group_popularity': 7,\n   'notes': \"This index reflects firms' uncertainty about the growth of their own employment levels over the next 12 months.\\n\\nFor more details about the methodology or the survey, visit the Survey of Business Uncertainty (https://www.frbatlanta.org/research/surveys/business-uncertainty.aspx).\"},\n  {'id': 'ATLSBUIREI',\n   'realtime_start': '2020-09-24',\n   'realtime_end': '2020-09-24',\n   'title': 'Business Expectations: Capital Investment Rate Index (DISCONTINUED)',\n   'observation_start': '2015-01-01',\n   'observation_end': '2020-07-01',\n   'frequency': 'Monthly',\n   'frequency_short': 'M',\n   'units': 'Index',\n   'units_short': 'Index',\n   'seasonal_adjustment': 'Not Seasonally Adjusted',\n   'seasonal_adjustment_short': 'NSA',\n   'last_updated': '2020-07-29 10:01:01-05',\n   'popularity': 32,\n   'group_popularity': 32,\n   'notes': \"This series was discontinued by the source following revisions to the methodology and panel design for the Survey of Business Uncertainty. For more details, see the revised methodology (https://www.frbatlanta.org/-/media/documents/research/surveys/business-uncertainty/survey-of-business-uncertainty-methodology.pdf).\\n\\nThis index reflects firms' mean subjective expectations about the growth of their own capital expenditures over the next 12 months. The index can respond to news about the overall economy, changes in business sentiment, policy developments, stock market moves, interest rate changes, and changes in the outlook of firms in the sample. The expectations index captures the expected direction and magnitude of each change for sample firms.\\n\\nFor more details about the index or the survey, visit the Survey of Business Uncertainty (https://www.frbatlanta.org/research/surveys/business-uncertainty.aspx).\"},\n  {'id': 'ATLSBUIRUI',\n   'realtime_start': '2020-09-24',\n   'realtime_end': '2020-09-24',\n   'title': 'Business Uncertainty: Capital Investment Rate Index (DISCONTINUED)',\n   'observation_start': '2015-01-01',\n   'observation_end': '2020-07-01',\n   'frequency': 'Monthly',\n   'frequency_short': 'M',\n   'units': 'Index',\n   'units_short': 'Index',\n   'seasonal_adjustment': 'Not Seasonally Adjusted',\n   'seasonal_adjustment_short': 'NSA',\n   'last_updated': '2020-07-29 10:01:07-05',\n   'popularity': 9,\n   'group_popularity': 8,\n   'notes': \"This series was discontinued by the source following revisions to the methodology and panel design for the Survey of Business Uncertainty. For more details, see the revised methodology (https://www.frbatlanta.org/-/media/documents/research/surveys/business-uncertainty/survey-of-business-uncertainty-methodology.pdf).\\n\\nThis index reflects firms' uncertainty about the growth of their own capital expenditures over the next 12 months. The index can respond to news about the overall economy, changes in business sentiment, policy developments, stock market moves, interest rate changes, and changes in the outlook of firms in the sample. The uncertainty index captures uncertainty about the outlook for sample firms.\\n\\nFor more details about the index or the survey, visit the Survey of Business Uncertainty (https://www.frbatlanta.org/research/surveys/business-uncertainty.aspx).\"},\n  {'id': 'ATLSBUSGEI',\n   'realtime_start': '2020-09-24',\n   'realtime_end': '2020-09-24',\n   'title': 'Business Expectations: Sales Growth Index (DISCONTINUED)',\n   'observation_start': '2015-01-01',\n   'observation_end': '2020-07-01',\n   'frequency': 'Monthly',\n   'frequency_short': 'M',\n   'units': 'Index',\n   'units_short': 'Index',\n   'seasonal_adjustment': 'Not Seasonally Adjusted',\n   'seasonal_adjustment_short': 'NSA',\n   'last_updated': '2020-07-29 10:01:05-05',\n   'popularity': 9,\n   'group_popularity': 9,\n   'notes': \"This series was discontinued by the source following revisions to the methodology and panel design for the Survey of Business Uncertainty. For more details, see the revised methodology (https://www.frbatlanta.org/-/media/documents/research/surveys/business-uncertainty/survey-of-business-uncertainty-methodology.pdf).\\n\\nThis index reflects firms' mean subjective expectations about the growth of their own sales over the next 12 months. The index can respond to news about the overall economy, changes in business sentiment, policy developments, stock market moves, interest rate changes, and changes in the outlook of firms in the sample. The expectations index captures the expected direction and magnitude of each change for sample firms.\\n\\nFor more details about the index or the survey, visit the Survey of Business Uncertainty (https://www.frbatlanta.org/research/surveys/business-uncertainty.aspx).\"},\n  {'id': 'ATLSBUSGUI',\n   'realtime_start': '2020-09-24',\n   'realtime_end': '2020-09-24',\n   'title': 'Business Uncertainty: Sales Growth Index (DISCONTINUED)',\n   'observation_start': '2015-01-01',\n   'observation_end': '2020-07-01',\n   'frequency': 'Monthly',\n   'frequency_short': 'M',\n   'units': 'Index',\n   'units_short': 'Index',\n   'seasonal_adjustment': 'Not Seasonally Adjusted',\n   'seasonal_adjustment_short': 'NSA',\n   'last_updated': '2020-07-29 10:01:07-05',\n   'popularity': 5,\n   'group_popularity': 5,\n   'notes': \"This series was discontinued by the source following revisions to the methodology and panel design for the Survey of Business Uncertainty. For more details, see the revised methodology (https://www.frbatlanta.org/-/media/documents/research/surveys/business-uncertainty/survey-of-business-uncertainty-methodology.pdf).\\n\\nThis index reflects firms' uncertainty about the growth of their own sales over the next 12 months. The index can respond to news about the overall economy, changes in business sentiment, policy developments, stock market moves, interest rate changes, and changes in the outlook of firms in the sample. The uncertainty index captures uncertainty about the outlook for sample firms.\\n\\nFor more details about the index or the survey, visit the Survey of Business Uncertainty (https://www.frbatlanta.org/research/surveys/business-uncertainty.aspx).\"},\n  {'id': 'ATLSBUSRGEP',\n   'realtime_start': '2020-09-24',\n   'realtime_end': '2020-09-24',\n   'title': 'Business Expectations: Sales Revenue Growth',\n   'observation_start': '2016-12-01',\n   'observation_end': '2020-08-01',\n   'frequency': 'Monthly',\n   'frequency_short': 'M',\n   'units': 'Percent',\n   'units_short': '%',\n   'seasonal_adjustment': 'Not Seasonally Adjusted',\n   'seasonal_adjustment_short': 'NSA',\n   'last_updated': '2020-09-09 11:37:51-05',\n   'popularity': 12,\n   'group_popularity': 12,\n   'notes': \"This index reflects firms' expectations about the growth of their own sales revenue over the next 12 months.\\n\\nFor more details about the methodology or the survey, visit the Survey of Business Uncertainty (https://www.frbatlanta.org/research/surveys/business-uncertainty.aspx).\"},\n  {'id': 'ATLSBUSRGUP',\n   'realtime_start': '2020-09-24',\n   'realtime_end': '2020-09-24',\n   'title': 'Business Uncertainty: Sales Revenue Growth',\n   'observation_start': '2016-12-01',\n   'observation_end': '2020-08-01',\n   'frequency': 'Monthly',\n   'frequency_short': 'M',\n   'units': 'Percent',\n   'units_short': '%',\n   'seasonal_adjustment': 'Not Seasonally Adjusted',\n   'seasonal_adjustment_short': 'NSA',\n   'last_updated': '2020-09-09 11:37:52-05',\n   'popularity': 8,\n   'group_popularity': 8,\n   'notes': \"This index reflects firms' uncertainty about the growth of their own sales revenue over the next 12 months.\\n\\nFor more details about the methodology or the survey, visit the Survey of Business Uncertainty (https://www.frbatlanta.org/research/surveys/business-uncertainty.aspx).\"}]}"
     },
     "metadata": {},
     "execution_count": 26
    }
   ],
   "source": [
    "fred.category_series(33936)"
   ]
  },
  {
   "cell_type": "code",
   "execution_count": 25,
   "metadata": {
    "tags": []
   },
   "outputs": [
    {
     "output_type": "stream",
     "name": "stdout",
     "text": "realtime_start\nrealtime_end\norder_by\nsort_order\ncount\noffset\nlimit\nseriess\n"
    }
   ],
   "source": [
    "for s in fred.category_series(33936):\n",
    "    print(s)"
   ]
  },
  {
   "cell_type": "code",
   "execution_count": 31,
   "metadata": {},
   "outputs": [
    {
     "output_type": "execute_result",
     "data": {
      "text/plain": "8"
     },
     "metadata": {},
     "execution_count": 31
    }
   ],
   "source": [
    "len(fred.releases())"
   ]
  },
  {
   "cell_type": "code",
   "execution_count": 34,
   "metadata": {},
   "outputs": [
    {
     "output_type": "execute_result",
     "data": {
      "text/plain": "8"
     },
     "metadata": {},
     "execution_count": 34
    }
   ],
   "source": [
    "len(fred.dates())"
   ]
  },
  {
   "cell_type": "code",
   "execution_count": 35,
   "metadata": {},
   "outputs": [
    {
     "output_type": "execute_result",
     "data": {
      "text/plain": "{'realtime_start': '2020-09-23',\n 'realtime_end': '2020-09-23',\n 'seriess': [{'id': 'GNPCA',\n   'realtime_start': '2020-09-23',\n   'realtime_end': '2020-09-23',\n   'title': 'Real Gross National Product',\n   'observation_start': '1929-01-01',\n   'observation_end': '2019-01-01',\n   'frequency': 'Annual',\n   'frequency_short': 'A',\n   'units': 'Billions of Chained 2012 Dollars',\n   'units_short': 'Bil. of Chn. 2012 $',\n   'seasonal_adjustment': 'Not Seasonally Adjusted',\n   'seasonal_adjustment_short': 'NSA',\n   'last_updated': '2020-07-30 07:57:33-05',\n   'popularity': 17,\n   'notes': 'BEA Account Code: A001RX\\n\\n'}]}"
     },
     "metadata": {},
     "execution_count": 35
    }
   ],
   "source": [
    "fred.series('GNPCA')"
   ]
  },
  {
   "cell_type": "code",
   "execution_count": 36,
   "metadata": {},
   "outputs": [
    {
     "output_type": "execute_result",
     "data": {
      "text/plain": "{'realtime_start': '2020-09-23',\n 'realtime_end': '2020-09-23',\n 'releases': [{'id': 53,\n   'realtime_start': '2020-09-23',\n   'realtime_end': '2020-09-23',\n   'name': 'Gross Domestic Product',\n   'press_release': True,\n   'link': 'https://www.bea.gov/data/gdp/gross-domestic-product'}]}"
     },
     "metadata": {},
     "execution_count": 36
    }
   ],
   "source": [
    "fred.series('GNPCA', release=True)"
   ]
  },
  {
   "cell_type": "code",
   "execution_count": 59,
   "metadata": {},
   "outputs": [
    {
     "output_type": "execute_result",
     "data": {
      "text/plain": "13"
     },
     "metadata": {},
     "execution_count": 59
    }
   ],
   "source": [
    "len(fred.observations('GNPCA'))"
   ]
  },
  {
   "cell_type": "code",
   "execution_count": 39,
   "metadata": {},
   "outputs": [
    {
     "output_type": "execute_result",
     "data": {
      "text/plain": "{'realtime_start': '2020-09-23',\n 'realtime_end': '2020-09-23',\n 'order_by': 'search_rank',\n 'sort_order': 'desc',\n 'count': 0,\n 'offset': 0,\n 'limit': 1000,\n 'seriess': []}"
     },
     "metadata": {},
     "execution_count": 39
    }
   ],
   "source": [
    "fred.search('search term')"
   ]
  },
  {
   "cell_type": "code",
   "execution_count": 41,
   "metadata": {},
   "outputs": [
    {
     "output_type": "execute_result",
     "data": {
      "text/plain": "10"
     },
     "metadata": {},
     "execution_count": 41
    }
   ],
   "source": [
    "len(fred.updates())"
   ]
  },
  {
   "cell_type": "code",
   "execution_count": 43,
   "metadata": {},
   "outputs": [
    {
     "output_type": "execute_result",
     "data": {
      "text/plain": "8"
     },
     "metadata": {},
     "execution_count": 43
    }
   ],
   "source": [
    "len(fred.vintage('AAA'))"
   ]
  },
  {
   "cell_type": "code",
   "execution_count": 46,
   "metadata": {},
   "outputs": [
    {
     "output_type": "execute_result",
     "data": {
      "text/plain": "8"
     },
     "metadata": {},
     "execution_count": 46
    }
   ],
   "source": [
    "len(fred.sources())"
   ]
  },
  {
   "cell_type": "code",
   "execution_count": 47,
   "metadata": {},
   "outputs": [
    {
     "output_type": "execute_result",
     "data": {
      "text/plain": "{'realtime_start': '2020-09-23',\n 'realtime_end': '2020-09-23',\n 'sources': [{'id': 23,\n   'realtime_start': '2020-09-23',\n   'realtime_end': '2020-09-23',\n   'name': 'U.S. Department of the Treasury. Fiscal Service',\n   'link': 'http://www.fiscal.treasury.gov/'}]}"
     },
     "metadata": {},
     "execution_count": 47
    }
   ],
   "source": [
    "fred.source(23)"
   ]
  },
  {
   "cell_type": "code",
   "execution_count": null,
   "metadata": {},
   "outputs": [],
   "source": [
    "\n",
    "\n",
    ">>> fred.vintage('AAA')\n",
    "\n",
    "\n",
    "# Query economic data sources.\n",
    ">>> fred.sources()\n",
    "\n",
    ">>> fred.source(23)\n"
   ]
  }
 ]
}