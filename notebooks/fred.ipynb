{
 "metadata": {
  "language_info": {
   "codemirror_mode": {
    "name": "ipython",
    "version": 3
   },
   "file_extension": ".py",
   "mimetype": "text/x-python",
   "name": "python",
   "nbconvert_exporter": "python",
   "pygments_lexer": "ipython3",
   "version": "3.6.9-final"
  },
  "orig_nbformat": 2,
  "kernelspec": {
   "name": "python_defaultSpec_1600873955320",
   "display_name": "Python 3.6.9 64-bit"
  }
 },
 "nbformat": 4,
 "nbformat_minor": 2,
 "cells": [
  {
   "cell_type": "code",
   "execution_count": 1,
   "metadata": {},
   "outputs": [],
   "source": [
    "import fred"
   ]
  },
  {
   "cell_type": "code",
   "execution_count": 2,
   "metadata": {},
   "outputs": [
    {
     "output_type": "execute_result",
     "data": {
      "text/plain": "<fred.core.Fred at 0x7fbc6fe2ce80>"
     },
     "metadata": {},
     "execution_count": 2
    }
   ],
   "source": [
    "fred.key('01571df9f62cb8c1ff7dcb8471b164c8')"
   ]
  },
  {
   "cell_type": "code",
   "execution_count": 56,
   "metadata": {},
   "outputs": [
    {
     "output_type": "execute_result",
     "data": {
      "text/plain": "{'categories': [{'id': 0, 'name': 'Categories', 'parent_id': 0}]}"
     },
     "metadata": {},
     "execution_count": 56
    }
   ],
   "source": [
    "fred.category()"
   ]
  },
  {
   "cell_type": "code",
   "execution_count": 52,
   "metadata": {},
   "outputs": [
    {
     "output_type": "execute_result",
     "data": {
      "text/plain": "{'categories': [{'id': 1,\n   'name': 'Production & Business Activity',\n   'parent_id': 0}]}"
     },
     "metadata": {},
     "execution_count": 52
    }
   ],
   "source": [
    "fred.categories(1) # 1 -> 31"
   ]
  },
  {
   "cell_type": "code",
   "execution_count": 53,
   "metadata": {},
   "outputs": [
    {
     "output_type": "execute_result",
     "data": {
      "text/plain": "{'categories': [{'id': 32262,\n   'name': 'Business Cycle Expansions & Contractions',\n   'parent_id': 1},\n  {'id': 33936, 'name': 'Business Surveys', 'parent_id': 1},\n  {'id': 32436, 'name': 'Construction', 'parent_id': 1},\n  {'id': 33940, 'name': 'Emissions', 'parent_id': 1},\n  {'id': 33490, 'name': 'Finance Companies', 'parent_id': 1},\n  {'id': 32216, 'name': 'Health Insurance', 'parent_id': 1},\n  {'id': 97, 'name': 'Housing', 'parent_id': 1},\n  {'id': 3,\n   'name': 'Industrial Production & Capacity Utilization',\n   'parent_id': 1},\n  {'id': 32429, 'name': 'Manufacturing', 'parent_id': 1},\n  {'id': 6, 'name': 'Retail Trade', 'parent_id': 1},\n  {'id': 33441, 'name': 'Services', 'parent_id': 1},\n  {'id': 33492, 'name': 'Technology', 'parent_id': 1},\n  {'id': 33202, 'name': 'Transportation', 'parent_id': 1},\n  {'id': 33203, 'name': 'Wholesale Trade', 'parent_id': 1}]}"
     },
     "metadata": {},
     "execution_count": 53
    }
   ],
   "source": [
    "fred.children(1)"
   ]
  },
  {
   "cell_type": "code",
   "execution_count": 54,
   "metadata": {},
   "outputs": [
    {
     "output_type": "execute_result",
     "data": {
      "text/plain": "{'categories': []}"
     },
     "metadata": {},
     "execution_count": 54
    }
   ],
   "source": [
    "fred.children(33936)"
   ]
  },
  {
   "cell_type": "code",
   "execution_count": 23,
   "metadata": {},
   "outputs": [
    {
     "output_type": "execute_result",
     "data": {
      "text/plain": "{'categories': [{'id': 1,\n   'name': 'Production & Business Activity',\n   'parent_id': 0}]}"
     },
     "metadata": {},
     "execution_count": 23
    }
   ],
   "source": [
    "fred.categories(1)"
   ]
  },
  {
   "cell_type": "code",
   "execution_count": 24,
   "metadata": {},
   "outputs": [
    {
     "output_type": "execute_result",
     "data": {
      "text/plain": "{'realtime_start': '2020-09-23',\n 'realtime_end': '2020-09-23',\n 'order_by': 'series_id',\n 'sort_order': 'asc',\n 'count': 0,\n 'offset': 0,\n 'limit': 1000,\n 'seriess': []}"
     },
     "metadata": {},
     "execution_count": 24
    }
   ],
   "source": [
    "fred.category(series=True)"
   ]
  },
  {
   "cell_type": "code",
   "execution_count": 29,
   "metadata": {},
   "outputs": [
    {
     "output_type": "execute_result",
     "data": {
      "text/plain": "8"
     },
     "metadata": {},
     "execution_count": 29
    }
   ],
   "source": [
    "len(fred.category_series(123))"
   ]
  },
  {
   "cell_type": "code",
   "execution_count": 31,
   "metadata": {},
   "outputs": [
    {
     "output_type": "execute_result",
     "data": {
      "text/plain": "8"
     },
     "metadata": {},
     "execution_count": 31
    }
   ],
   "source": [
    "len(fred.releases())"
   ]
  },
  {
   "cell_type": "code",
   "execution_count": 34,
   "metadata": {},
   "outputs": [
    {
     "output_type": "execute_result",
     "data": {
      "text/plain": "8"
     },
     "metadata": {},
     "execution_count": 34
    }
   ],
   "source": [
    "len(fred.dates())"
   ]
  },
  {
   "cell_type": "code",
   "execution_count": 35,
   "metadata": {},
   "outputs": [
    {
     "output_type": "execute_result",
     "data": {
      "text/plain": "{'realtime_start': '2020-09-23',\n 'realtime_end': '2020-09-23',\n 'seriess': [{'id': 'GNPCA',\n   'realtime_start': '2020-09-23',\n   'realtime_end': '2020-09-23',\n   'title': 'Real Gross National Product',\n   'observation_start': '1929-01-01',\n   'observation_end': '2019-01-01',\n   'frequency': 'Annual',\n   'frequency_short': 'A',\n   'units': 'Billions of Chained 2012 Dollars',\n   'units_short': 'Bil. of Chn. 2012 $',\n   'seasonal_adjustment': 'Not Seasonally Adjusted',\n   'seasonal_adjustment_short': 'NSA',\n   'last_updated': '2020-07-30 07:57:33-05',\n   'popularity': 17,\n   'notes': 'BEA Account Code: A001RX\\n\\n'}]}"
     },
     "metadata": {},
     "execution_count": 35
    }
   ],
   "source": [
    "fred.series('GNPCA')"
   ]
  },
  {
   "cell_type": "code",
   "execution_count": 36,
   "metadata": {},
   "outputs": [
    {
     "output_type": "execute_result",
     "data": {
      "text/plain": "{'realtime_start': '2020-09-23',\n 'realtime_end': '2020-09-23',\n 'releases': [{'id': 53,\n   'realtime_start': '2020-09-23',\n   'realtime_end': '2020-09-23',\n   'name': 'Gross Domestic Product',\n   'press_release': True,\n   'link': 'https://www.bea.gov/data/gdp/gross-domestic-product'}]}"
     },
     "metadata": {},
     "execution_count": 36
    }
   ],
   "source": [
    "fred.series('GNPCA', release=True)"
   ]
  },
  {
   "cell_type": "code",
   "execution_count": 59,
   "metadata": {},
   "outputs": [
    {
     "output_type": "execute_result",
     "data": {
      "text/plain": "13"
     },
     "metadata": {},
     "execution_count": 59
    }
   ],
   "source": [
    "len(fred.observations('GNPCA'))"
   ]
  },
  {
   "cell_type": "code",
   "execution_count": 39,
   "metadata": {},
   "outputs": [
    {
     "output_type": "execute_result",
     "data": {
      "text/plain": "{'realtime_start': '2020-09-23',\n 'realtime_end': '2020-09-23',\n 'order_by': 'search_rank',\n 'sort_order': 'desc',\n 'count': 0,\n 'offset': 0,\n 'limit': 1000,\n 'seriess': []}"
     },
     "metadata": {},
     "execution_count": 39
    }
   ],
   "source": [
    "fred.search('search term')"
   ]
  },
  {
   "cell_type": "code",
   "execution_count": 41,
   "metadata": {},
   "outputs": [
    {
     "output_type": "execute_result",
     "data": {
      "text/plain": "10"
     },
     "metadata": {},
     "execution_count": 41
    }
   ],
   "source": [
    "len(fred.updates())"
   ]
  },
  {
   "cell_type": "code",
   "execution_count": 43,
   "metadata": {},
   "outputs": [
    {
     "output_type": "execute_result",
     "data": {
      "text/plain": "8"
     },
     "metadata": {},
     "execution_count": 43
    }
   ],
   "source": [
    "len(fred.vintage('AAA'))"
   ]
  },
  {
   "cell_type": "code",
   "execution_count": 46,
   "metadata": {},
   "outputs": [
    {
     "output_type": "execute_result",
     "data": {
      "text/plain": "8"
     },
     "metadata": {},
     "execution_count": 46
    }
   ],
   "source": [
    "len(fred.sources())"
   ]
  },
  {
   "cell_type": "code",
   "execution_count": 47,
   "metadata": {},
   "outputs": [
    {
     "output_type": "execute_result",
     "data": {
      "text/plain": "{'realtime_start': '2020-09-23',\n 'realtime_end': '2020-09-23',\n 'sources': [{'id': 23,\n   'realtime_start': '2020-09-23',\n   'realtime_end': '2020-09-23',\n   'name': 'U.S. Department of the Treasury. Fiscal Service',\n   'link': 'http://www.fiscal.treasury.gov/'}]}"
     },
     "metadata": {},
     "execution_count": 47
    }
   ],
   "source": [
    "fred.source(23)"
   ]
  },
  {
   "cell_type": "code",
   "execution_count": null,
   "metadata": {},
   "outputs": [],
   "source": [
    "\n",
    "\n",
    ">>> fred.vintage('AAA')\n",
    "\n",
    "\n",
    "# Query economic data sources.\n",
    ">>> fred.sources()\n",
    "\n",
    ">>> fred.source(23)\n"
   ]
  }
 ]
}