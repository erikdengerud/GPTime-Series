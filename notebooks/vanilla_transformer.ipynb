{
 "metadata": {
  "language_info": {
   "codemirror_mode": {
    "name": "ipython",
    "version": 3
   },
   "file_extension": ".py",
   "mimetype": "text/x-python",
   "name": "python",
   "nbconvert_exporter": "python",
   "pygments_lexer": "ipython3",
   "version": "3.7.6-final"
  },
  "orig_nbformat": 2,
  "kernelspec": {
   "name": "python_defaultSpec_1598452586873",
   "display_name": "Python 3.7.6 64-bit ('env': venv)"
  }
 },
 "nbformat": 4,
 "nbformat_minor": 2,
 "cells": [
  {
   "cell_type": "code",
   "execution_count": 4,
   "metadata": {},
   "outputs": [],
   "source": [
    "from scipy import signal\n",
    "import matplotlib.pyplot as plt\n",
    "import numpy as np"
   ]
  },
  {
   "cell_type": "code",
   "execution_count": 83,
   "metadata": {},
   "outputs": [
    {
     "output_type": "execute_result",
     "data": {
      "text/plain": "[(array([0., 0., 0., 0., 0., 0., 0., 0., 0., 0., 0., 0., 1., 0., 1., 0., 1.,\n         0., 1., 0., 1., 0., 1., 0.]),\n  1),\n (array([0., 0., 0., 0., 1., 0., 1., 0., 1., 0., 1., 0., 1., 0., 1., 0., 1.,\n         0., 1., 0., 1., 0., 1., 0.]),\n  1),\n (array([0., 0., 0., 0., 0., 0., 0., 1., 0., 1., 0., 1., 0., 1., 0., 1., 0.,\n         1., 0., 1., 0., 1., 0., 1.]),\n  0),\n (array([0., 0., 0., 0., 0., 0., 0., 0., 0., 0., 0., 0., 0., 0., 0., 0., 0.,\n         0., 0., 1., 0., 1., 0., 1.]),\n  0),\n (array([0., 0., 0., 1., 0., 1., 0., 1., 0., 1., 0., 1., 0., 1., 0., 1., 0.,\n         1., 0., 1., 0., 1., 0., 1.]),\n  0),\n (array([0., 0., 0., 0., 0., 0., 0., 0., 0., 0., 0., 0., 0., 1., 0., 1., 0.,\n         1., 0., 1., 0., 1., 0., 1.]),\n  0),\n (array([0., 0., 0., 0., 0., 0., 0., 0., 0., 0., 0., 1., 0., 1., 0., 1., 0.,\n         1., 0., 1., 0., 1., 0., 1.]),\n  0),\n (array([0., 0., 0., 0., 0., 0., 0., 0., 0., 0., 0., 0., 0., 0., 0., 0., 0.,\n         0., 0., 0., 0., 0., 0., 1.]),\n  0),\n (array([0., 0., 0., 0., 0., 0., 0., 0., 0., 0., 0., 0., 0., 0., 0., 0., 0.,\n         1., 0., 1., 0., 1., 0., 1.]),\n  0),\n (array([0., 0., 0., 0., 0., 0., 0., 0., 0., 0., 0., 0., 0., 0., 0., 0., 0.,\n         0., 0., 0., 0., 0., 1., 0.]),\n  1)]"
     },
     "metadata": {},
     "execution_count": 83
    }
   ],
   "source": [
    "signal = np.tile([1,0], 100)\n",
    "samples = []\n",
    "for n in range(10):\n",
    "    max_length = 24\n",
    "    lb = np.random.randint(1, max_length)\n",
    "    i = np.random.randint(lb, len(signal))\n",
    "    s = np.concatenate((np.zeros(max_length - lb), signal[i-lb:i]))\n",
    "    label = signal[i]\n",
    "    assert len(s) == max_length\n",
    "    samples.append((s, label))\n",
    "samples"
   ]
  },
  {
   "cell_type": "code",
   "execution_count": 148,
   "metadata": {},
   "outputs": [],
   "source": [
    "import torch.nn as nn\n",
    "import torch\n",
    "import torch.nn.functional as F"
   ]
  },
  {
   "cell_type": "code",
   "execution_count": 106,
   "metadata": {},
   "outputs": [],
   "source": [
    "decoder_layer = nn.TransformerDecoderLayer(d_model=24, nhead=8).double()\n",
    "transformer_decoder = nn.TransformerDecoder(decoder_layer, num_layers=1).double()"
   ]
  },
  {
   "cell_type": "code",
   "execution_count": 109,
   "metadata": {},
   "outputs": [
    {
     "output_type": "execute_result",
     "data": {
      "text/plain": "tensor([[[ 0.4799]],\n\n        [[-0.5945]],\n\n        [[-0.0511]],\n\n        [[-0.2811]],\n\n        [[-0.0335]],\n\n        [[-0.6010]],\n\n        [[-0.5402]],\n\n        [[-0.0976]],\n\n        [[-0.6748]],\n\n        [[-0.5100]]], dtype=torch.float64, grad_fn=<AddBackward0>)"
     },
     "metadata": {},
     "execution_count": 109
    }
   ],
   "source": [
    "sample = torch.from_numpy(np.array([s[0] for s in samples])).double().view(-1, 1, 24)\n",
    "label = torch.from_numpy(np.array([s[1] for s in samples])).double().view(-1, 1, 1)\n",
    "l = nn.Linear(24, 1).double()\n",
    "out = l(transformer_decoder(sample, sample))\n",
    "out"
   ]
  },
  {
   "cell_type": "code",
   "execution_count": null,
   "metadata": {},
   "outputs": [],
   "source": [
    "class PositionalEncoding(nn.module):\n",
    "    def __init__(self, d_model, dropout=0.1, max_len=5000):\n",
    "        super(PositionalEncoding, self).__init__()\n",
    "        self.dropout = nn.Dropout(p=dropout)\n",
    "\n",
    "\n",
    "        pe = torch.zeros(max_len, d_model)\n",
    "        position = torch.arange(0, max_len, dtype=torch.float).unsqueeze(1)\n",
    "        div_term = torch.exp(torch.arange(0, d_model, 2).float() * (-math.log(10000.0) / d_model))\n",
    "        pe[:, 0::2] = torch.sin(position * div_term)\n",
    "        pe[:, 1::2] = torch.cos(position * div_term)\n",
    "        pe = pe.unsqueeze(0).transpose(0, 1)\n",
    "        self.register_buffer('pe', pe)\n",
    "\n",
    "    def forward(self, x):\n",
    "        x = x + self.pe[:x.size(0), :]\n",
    "        return self.dropout(x)"
   ]
  },
  {
   "cell_type": "code",
   "execution_count": 157,
   "metadata": {},
   "outputs": [],
   "source": [
    "class GPTime(nn.Module):\n",
    "    def __init__(self):\n",
    "        super(GPTime, self).__init__()\n",
    "        self.pos_encode = PositionalEncoding()\n",
    "        decoder_layer = nn.TransformerDecoderLayer(d_model=24, nhead=8)\n",
    "        self.decoder = nn.TransformerDecoder(decoder_layer, num_layers=4)\n",
    "        self.linear = nn.Linear(24, 1)\n",
    "\n",
    "    def forward(self, x):\n",
    "        x = self.decoder(x, x)\n",
    "        x = F.relu(x)\n",
    "        x = self.linear(x)\n",
    "        x = F.relu(x)\n",
    "        return x"
   ]
  },
  {
   "cell_type": "code",
   "execution_count": 158,
   "metadata": {},
   "outputs": [],
   "source": [
    "model = GPTime().double()"
   ]
  },
  {
   "cell_type": "code",
   "execution_count": 159,
   "metadata": {
    "tags": []
   },
   "outputs": [
    {
     "output_type": "stream",
     "name": "stdout",
     "text": "0.0027288108436819562\n[0.9892733  0.95533092 0.         0.         0.         0.\n 0.         0.         0.         0.86367359] [1. 1. 0. 0. 0. 0. 0. 0. 0. 1.]\n-0.09443756674104309\n"
    }
   ],
   "source": [
    "criterion = nn.MSELoss()\n",
    "lr = 0.005 # learning rate\n",
    "optimizer = torch.optim.SGD(model.parameters(), lr=lr)\n",
    "NUM_EPOCHS = 1000\n",
    "\n",
    "for epoch in range(1, NUM_EPOCHS + 1):\n",
    "    data, target = sample, label\n",
    "\n",
    "    optimizer.zero_grad()\n",
    "    out = model(data)\n",
    "    loss = criterion(out, target)\n",
    "    loss.backward()\n",
    "    optimizer.step()\n",
    "    #print(loss.item())\n",
    "print(loss.item())   \n",
    "print(model(data).detach().numpy().flatten(), target.detach().numpy().flatten())\n",
    "print((model(data).detach().numpy().flatten() - target.detach().numpy().flatten()).sum())"
   ]
  },
  {
   "cell_type": "code",
   "execution_count": 160,
   "metadata": {},
   "outputs": [
    {
     "output_type": "execute_result",
     "data": {
      "text/plain": "tensor([[[0., 0., 0., 0., 0., 0., 0., 0., 0., 0., 0., 0., 1., 0., 1., 0., 1.,\n          0., 1., 0., 1., 0., 1., 0.]],\n\n        [[0., 0., 0., 0., 1., 0., 1., 0., 1., 0., 1., 0., 1., 0., 1., 0., 1.,\n          0., 1., 0., 1., 0., 1., 0.]],\n\n        [[0., 0., 0., 0., 0., 0., 0., 1., 0., 1., 0., 1., 0., 1., 0., 1., 0.,\n          1., 0., 1., 0., 1., 0., 1.]],\n\n        [[0., 0., 0., 0., 0., 0., 0., 0., 0., 0., 0., 0., 0., 0., 0., 0., 0.,\n          0., 0., 1., 0., 1., 0., 1.]],\n\n        [[0., 0., 0., 1., 0., 1., 0., 1., 0., 1., 0., 1., 0., 1., 0., 1., 0.,\n          1., 0., 1., 0., 1., 0., 1.]],\n\n        [[0., 0., 0., 0., 0., 0., 0., 0., 0., 0., 0., 0., 0., 1., 0., 1., 0.,\n          1., 0., 1., 0., 1., 0., 1.]],\n\n        [[0., 0., 0., 0., 0., 0., 0., 0., 0., 0., 0., 1., 0., 1., 0., 1., 0.,\n          1., 0., 1., 0., 1., 0., 1.]],\n\n        [[0., 0., 0., 0., 0., 0., 0., 0., 0., 0., 0., 0., 0., 0., 0., 0., 0.,\n          0., 0., 0., 0., 0., 0., 1.]],\n\n        [[0., 0., 0., 0., 0., 0., 0., 0., 0., 0., 0., 0., 0., 0., 0., 0., 0.,\n          1., 0., 1., 0., 1., 0., 1.]],\n\n        [[0., 0., 0., 0., 0., 0., 0., 0., 0., 0., 0., 0., 0., 0., 0., 0., 0.,\n          0., 0., 0., 0., 0., 1., 0.]]], dtype=torch.float64)"
     },
     "metadata": {},
     "execution_count": 160
    }
   ],
   "source": [
    "data"
   ]
  },
  {
   "cell_type": "code",
   "execution_count": 96,
   "metadata": {},
   "outputs": [],
   "source": [
    "decoder_layer = nn.TransformerDecoderLayer(d_model=512, nhead=8)\n",
    "transformer_decoder = nn.TransformerDecoder(decoder_layer, num_layers=6)\n",
    "memory = torch.rand(10, 32, 512)\n",
    "tgt = torch.rand(20, 32, 512)\n",
    "out = transformer_decoder(tgt, memory)"
   ]
  },
  {
   "cell_type": "code",
   "execution_count": 98,
   "metadata": {},
   "outputs": [
    {
     "output_type": "execute_result",
     "data": {
      "text/plain": "(torch.Size([10, 32, 512]), torch.Size([20, 32, 512]))"
     },
     "metadata": {},
     "execution_count": 98
    }
   ],
   "source": [
    "memory.shape, tgt.shape"
   ]
  }
 ]
}