{
 "metadata": {
  "language_info": {
   "codemirror_mode": {
    "name": "ipython",
    "version": 3
   },
   "file_extension": ".py",
   "mimetype": "text/x-python",
   "name": "python",
   "nbconvert_exporter": "python",
   "pygments_lexer": "ipython3",
   "version": "3.7.6-final"
  },
  "orig_nbformat": 2,
  "kernelspec": {
   "name": "Python 3.7.6 64-bit ('env': venv)",
   "display_name": "Python 3.7.6 64-bit ('env': venv)",
   "metadata": {
    "interpreter": {
     "hash": "00f192ca58faa63ea184d46f9bca0d5524f8560fda4d0ca2731204f4663b5d31"
    }
   }
  }
 },
 "nbformat": 4,
 "nbformat_minor": 2,
 "cells": [
  {
   "cell_type": "code",
   "execution_count": 1,
   "metadata": {},
   "outputs": [],
   "source": [
    "from typing import Dict, Tuple, Sequence\n",
    "import glob\n",
    "import pandas as pd\n",
    "import numpy as np\n",
    "import sys\n",
    "\n",
    "sys.path.append(\"\")"
   ]
  },
  {
   "cell_type": "code",
   "execution_count": 2,
   "metadata": {},
   "outputs": [
    {
     "output_type": "stream",
     "name": "stdout",
     "text": [
      "num_non_na_train_int = 12\n",
      "num_non_na_test_int = 6\n",
      "X_train.shape = (23000, 12)\n",
      "X_test.shape = (23000, 6)\n"
     ]
    }
   ],
   "source": [
    "train_f = '../GPTime/data/raw/M4/M4train\\\\Yearly-train.csv'\n",
    "test_f = '../GPTime/data/raw/M4/M4test\\\\Yearly-test.csv'\n",
    "\n",
    "# Finding longest possible lag value for the dataset\n",
    "num_non_na_train_int = 12\n",
    "num_non_na_test_int = 6\n",
    "print(f\"num_non_na_train_int = {num_non_na_train_int}\")\n",
    "print(f\"num_non_na_test_int = {num_non_na_test_int}\")\n",
    "\n",
    "# Creating the dataset\n",
    "l_train_tmp = []\n",
    "l_test_tmp = []\n",
    "df_train = pd.read_csv(train_f, index_col=0)\n",
    "df_test = pd.read_csv(test_f, index_col=0)\n",
    "Y_train = df_train.to_numpy()\n",
    "Y_test = df_test.to_numpy()\n",
    "assert (Y_train.shape[0] == Y_test.shape[0]), f\"Y_train.shape[0], {Y_train.shape[0]} differs from Y_test.shape[0], {Y_test.shape[0]}\"\n",
    "for i in range(Y_train.shape[0]):\n",
    "    s_train = Y_train[i][~np.isnan(Y_train[i])]\n",
    "    s_test = Y_test[i][~np.isnan(Y_test[i])]\n",
    "    l_train_tmp.append(s_train[-num_non_na_train_int:])  # shortest in the train set\n",
    "    l_test_tmp.append(s_test[:num_non_na_test_int])  # shortest in the test set\n",
    "\n",
    "# Scaling using the scaling in MASE\n",
    "df_train_out = pd.DataFrame(l_train_tmp)\n",
    "df_test_out = pd.DataFrame(l_test_tmp)\n",
    "# Find the seasonality of the ts\n",
    "scale = (df_train.diff(periods=1, axis=1).abs().mean(axis=1).reset_index(drop=True))\n",
    "\n",
    "X_train = df_train_out.div(scale, axis=0).values\n",
    "X_test = df_test_out.div(scale, axis=0).values\n",
    "\n",
    "print(f\"X_train.shape = {X_train.shape}\")\n",
    "print(f\"X_test.shape = {X_test.shape}\")\n",
    "\n",
    "np.save(\"M4_Yearly_train.npy\", X_train)\n",
    "np.save(\"M4_YEARLY_test.npy\", X_test)  "
   ]
  },
  {
   "cell_type": "code",
   "execution_count": 46,
   "metadata": {},
   "outputs": [],
   "source": [
    "df_train = pd.read_csv(\"../GPTime/data/raw/M4/M4train/Yearly-train.csv\", index_col=0)\n",
    "df_test = pd.read_csv(\"../GPTime/data/raw/M4/M4test/Yearly-test.csv\", index_col=0)\n",
    "scale = df_train.diff(periods=1, axis=1).abs().mean(axis=1).reset_index(drop=True)"
   ]
  },
  {
   "cell_type": "code",
   "execution_count": 47,
   "metadata": {},
   "outputs": [
    {
     "output_type": "stream",
     "name": "stdout",
     "text": [
      "(23000, 835) (23000, 6) (23000,)\n"
     ]
    }
   ],
   "source": [
    "print(df_train.shape, df_test.shape, scale.shape)"
   ]
  },
  {
   "cell_type": "code",
   "execution_count": 56,
   "metadata": {},
   "outputs": [],
   "source": [
    "df_train_scaled = df_train.div(scale.values, axis=0)\n",
    "df_test_scaled = df_test.div(scale.values, axis=0)"
   ]
  },
  {
   "cell_type": "code",
   "execution_count": 57,
   "metadata": {},
   "outputs": [
    {
     "output_type": "execute_result",
     "data": {
      "text/plain": [
       "((23000, 835), (23000, 6))"
      ]
     },
     "metadata": {},
     "execution_count": 57
    }
   ],
   "source": [
    "df_train_scaled.shape, df_test_scaled.shape "
   ]
  },
  {
   "cell_type": "code",
   "execution_count": 58,
   "metadata": {},
   "outputs": [
    {
     "output_type": "execute_result",
     "data": {
      "text/plain": [
       "               V2         V3         V4         V5         V6         V7  \\\n",
       "V1                                                                         \n",
       "Y1      44.870735  44.535859  44.999132  44.111625  44.956622  46.971949   \n",
       "Y2      10.981432  11.161804  12.700265   8.758621   7.915119   7.151194   \n",
       "Y3      14.733096  15.907473  17.081851  18.416370  19.590747  20.551601   \n",
       "Y4      15.918367  17.284144  18.649922  19.733124  20.910518  22.135008   \n",
       "Y5      11.379310  11.666667  12.758621  14.540230  15.000000  15.632184   \n",
       "...           ...        ...        ...        ...        ...        ...   \n",
       "Y22996   2.239326   2.382261   2.725307   2.725307   2.901594   3.163643   \n",
       "Y22997   1.519206   1.375762   1.561588   2.868887   3.455705   8.384975   \n",
       "Y22998   3.995360   2.682715   2.740139   2.871810   2.610789   2.238399   \n",
       "Y22999   0.265752   0.685170   0.667092   0.269368   0.213325   0.350720   \n",
       "Y23000  43.866995  43.931034  44.955665  45.788177  46.364532  47.325123   \n",
       "\n",
       "               V8         V9        V10        V11  ...  V827  V828  V829  \\\n",
       "V1                                                  ...                     \n",
       "Y1      48.376518  49.909485  51.664546  52.814922  ...   NaN   NaN   NaN   \n",
       "Y2       6.355438   6.323607   5.862069   5.347480  ...   NaN   NaN   NaN   \n",
       "Y3      21.352313  22.206406  22.900356  24.181495  ...   NaN   NaN   NaN   \n",
       "Y4      23.029827  23.830455  24.489796  25.855573  ...   NaN   NaN   NaN   \n",
       "Y5      17.068966  17.126437  17.816092  18.563218  ...   NaN   NaN   NaN   \n",
       "...           ...        ...        ...        ...  ...   ...   ...   ...   \n",
       "Y22996   3.787795   4.006964   4.416712   4.531061  ...   NaN   NaN   NaN   \n",
       "Y22997   9.734656   7.811198   4.961871   4.091425  ...   NaN   NaN   NaN   \n",
       "Y22998   2.708817   3.676334   4.054524   4.257541  ...   NaN   NaN   NaN   \n",
       "Y22999   0.471846   0.743021   1.164247   0.784601  ...   NaN   NaN   NaN   \n",
       "Y23000  46.940887  48.157635  49.758621  50.783251  ...   NaN   NaN   NaN   \n",
       "\n",
       "        V830  V831  V832  V833  V834  V835  V836  \n",
       "V1                                                \n",
       "Y1       NaN   NaN   NaN   NaN   NaN   NaN   NaN  \n",
       "Y2       NaN   NaN   NaN   NaN   NaN   NaN   NaN  \n",
       "Y3       NaN   NaN   NaN   NaN   NaN   NaN   NaN  \n",
       "Y4       NaN   NaN   NaN   NaN   NaN   NaN   NaN  \n",
       "Y5       NaN   NaN   NaN   NaN   NaN   NaN   NaN  \n",
       "...      ...   ...   ...   ...   ...   ...   ...  \n",
       "Y22996   NaN   NaN   NaN   NaN   NaN   NaN   NaN  \n",
       "Y22997   NaN   NaN   NaN   NaN   NaN   NaN   NaN  \n",
       "Y22998   NaN   NaN   NaN   NaN   NaN   NaN   NaN  \n",
       "Y22999   NaN   NaN   NaN   NaN   NaN   NaN   NaN  \n",
       "Y23000   NaN   NaN   NaN   NaN   NaN   NaN   NaN  \n",
       "\n",
       "[23000 rows x 835 columns]"
      ],
      "text/html": "<div>\n<style scoped>\n    .dataframe tbody tr th:only-of-type {\n        vertical-align: middle;\n    }\n\n    .dataframe tbody tr th {\n        vertical-align: top;\n    }\n\n    .dataframe thead th {\n        text-align: right;\n    }\n</style>\n<table border=\"1\" class=\"dataframe\">\n  <thead>\n    <tr style=\"text-align: right;\">\n      <th></th>\n      <th>V2</th>\n      <th>V3</th>\n      <th>V4</th>\n      <th>V5</th>\n      <th>V6</th>\n      <th>V7</th>\n      <th>V8</th>\n      <th>V9</th>\n      <th>V10</th>\n      <th>V11</th>\n      <th>...</th>\n      <th>V827</th>\n      <th>V828</th>\n      <th>V829</th>\n      <th>V830</th>\n      <th>V831</th>\n      <th>V832</th>\n      <th>V833</th>\n      <th>V834</th>\n      <th>V835</th>\n      <th>V836</th>\n    </tr>\n    <tr>\n      <th>V1</th>\n      <th></th>\n      <th></th>\n      <th></th>\n      <th></th>\n      <th></th>\n      <th></th>\n      <th></th>\n      <th></th>\n      <th></th>\n      <th></th>\n      <th></th>\n      <th></th>\n      <th></th>\n      <th></th>\n      <th></th>\n      <th></th>\n      <th></th>\n      <th></th>\n      <th></th>\n      <th></th>\n      <th></th>\n    </tr>\n  </thead>\n  <tbody>\n    <tr>\n      <th>Y1</th>\n      <td>44.870735</td>\n      <td>44.535859</td>\n      <td>44.999132</td>\n      <td>44.111625</td>\n      <td>44.956622</td>\n      <td>46.971949</td>\n      <td>48.376518</td>\n      <td>49.909485</td>\n      <td>51.664546</td>\n      <td>52.814922</td>\n      <td>...</td>\n      <td>NaN</td>\n      <td>NaN</td>\n      <td>NaN</td>\n      <td>NaN</td>\n      <td>NaN</td>\n      <td>NaN</td>\n      <td>NaN</td>\n      <td>NaN</td>\n      <td>NaN</td>\n      <td>NaN</td>\n    </tr>\n    <tr>\n      <th>Y2</th>\n      <td>10.981432</td>\n      <td>11.161804</td>\n      <td>12.700265</td>\n      <td>8.758621</td>\n      <td>7.915119</td>\n      <td>7.151194</td>\n      <td>6.355438</td>\n      <td>6.323607</td>\n      <td>5.862069</td>\n      <td>5.347480</td>\n      <td>...</td>\n      <td>NaN</td>\n      <td>NaN</td>\n      <td>NaN</td>\n      <td>NaN</td>\n      <td>NaN</td>\n      <td>NaN</td>\n      <td>NaN</td>\n      <td>NaN</td>\n      <td>NaN</td>\n      <td>NaN</td>\n    </tr>\n    <tr>\n      <th>Y3</th>\n      <td>14.733096</td>\n      <td>15.907473</td>\n      <td>17.081851</td>\n      <td>18.416370</td>\n      <td>19.590747</td>\n      <td>20.551601</td>\n      <td>21.352313</td>\n      <td>22.206406</td>\n      <td>22.900356</td>\n      <td>24.181495</td>\n      <td>...</td>\n      <td>NaN</td>\n      <td>NaN</td>\n      <td>NaN</td>\n      <td>NaN</td>\n      <td>NaN</td>\n      <td>NaN</td>\n      <td>NaN</td>\n      <td>NaN</td>\n      <td>NaN</td>\n      <td>NaN</td>\n    </tr>\n    <tr>\n      <th>Y4</th>\n      <td>15.918367</td>\n      <td>17.284144</td>\n      <td>18.649922</td>\n      <td>19.733124</td>\n      <td>20.910518</td>\n      <td>22.135008</td>\n      <td>23.029827</td>\n      <td>23.830455</td>\n      <td>24.489796</td>\n      <td>25.855573</td>\n      <td>...</td>\n      <td>NaN</td>\n      <td>NaN</td>\n      <td>NaN</td>\n      <td>NaN</td>\n      <td>NaN</td>\n      <td>NaN</td>\n      <td>NaN</td>\n      <td>NaN</td>\n      <td>NaN</td>\n      <td>NaN</td>\n    </tr>\n    <tr>\n      <th>Y5</th>\n      <td>11.379310</td>\n      <td>11.666667</td>\n      <td>12.758621</td>\n      <td>14.540230</td>\n      <td>15.000000</td>\n      <td>15.632184</td>\n      <td>17.068966</td>\n      <td>17.126437</td>\n      <td>17.816092</td>\n      <td>18.563218</td>\n      <td>...</td>\n      <td>NaN</td>\n      <td>NaN</td>\n      <td>NaN</td>\n      <td>NaN</td>\n      <td>NaN</td>\n      <td>NaN</td>\n      <td>NaN</td>\n      <td>NaN</td>\n      <td>NaN</td>\n      <td>NaN</td>\n    </tr>\n    <tr>\n      <th>...</th>\n      <td>...</td>\n      <td>...</td>\n      <td>...</td>\n      <td>...</td>\n      <td>...</td>\n      <td>...</td>\n      <td>...</td>\n      <td>...</td>\n      <td>...</td>\n      <td>...</td>\n      <td>...</td>\n      <td>...</td>\n      <td>...</td>\n      <td>...</td>\n      <td>...</td>\n      <td>...</td>\n      <td>...</td>\n      <td>...</td>\n      <td>...</td>\n      <td>...</td>\n      <td>...</td>\n    </tr>\n    <tr>\n      <th>Y22996</th>\n      <td>2.239326</td>\n      <td>2.382261</td>\n      <td>2.725307</td>\n      <td>2.725307</td>\n      <td>2.901594</td>\n      <td>3.163643</td>\n      <td>3.787795</td>\n      <td>4.006964</td>\n      <td>4.416712</td>\n      <td>4.531061</td>\n      <td>...</td>\n      <td>NaN</td>\n      <td>NaN</td>\n      <td>NaN</td>\n      <td>NaN</td>\n      <td>NaN</td>\n      <td>NaN</td>\n      <td>NaN</td>\n      <td>NaN</td>\n      <td>NaN</td>\n      <td>NaN</td>\n    </tr>\n    <tr>\n      <th>Y22997</th>\n      <td>1.519206</td>\n      <td>1.375762</td>\n      <td>1.561588</td>\n      <td>2.868887</td>\n      <td>3.455705</td>\n      <td>8.384975</td>\n      <td>9.734656</td>\n      <td>7.811198</td>\n      <td>4.961871</td>\n      <td>4.091425</td>\n      <td>...</td>\n      <td>NaN</td>\n      <td>NaN</td>\n      <td>NaN</td>\n      <td>NaN</td>\n      <td>NaN</td>\n      <td>NaN</td>\n      <td>NaN</td>\n      <td>NaN</td>\n      <td>NaN</td>\n      <td>NaN</td>\n    </tr>\n    <tr>\n      <th>Y22998</th>\n      <td>3.995360</td>\n      <td>2.682715</td>\n      <td>2.740139</td>\n      <td>2.871810</td>\n      <td>2.610789</td>\n      <td>2.238399</td>\n      <td>2.708817</td>\n      <td>3.676334</td>\n      <td>4.054524</td>\n      <td>4.257541</td>\n      <td>...</td>\n      <td>NaN</td>\n      <td>NaN</td>\n      <td>NaN</td>\n      <td>NaN</td>\n      <td>NaN</td>\n      <td>NaN</td>\n      <td>NaN</td>\n      <td>NaN</td>\n      <td>NaN</td>\n      <td>NaN</td>\n    </tr>\n    <tr>\n      <th>Y22999</th>\n      <td>0.265752</td>\n      <td>0.685170</td>\n      <td>0.667092</td>\n      <td>0.269368</td>\n      <td>0.213325</td>\n      <td>0.350720</td>\n      <td>0.471846</td>\n      <td>0.743021</td>\n      <td>1.164247</td>\n      <td>0.784601</td>\n      <td>...</td>\n      <td>NaN</td>\n      <td>NaN</td>\n      <td>NaN</td>\n      <td>NaN</td>\n      <td>NaN</td>\n      <td>NaN</td>\n      <td>NaN</td>\n      <td>NaN</td>\n      <td>NaN</td>\n      <td>NaN</td>\n    </tr>\n    <tr>\n      <th>Y23000</th>\n      <td>43.866995</td>\n      <td>43.931034</td>\n      <td>44.955665</td>\n      <td>45.788177</td>\n      <td>46.364532</td>\n      <td>47.325123</td>\n      <td>46.940887</td>\n      <td>48.157635</td>\n      <td>49.758621</td>\n      <td>50.783251</td>\n      <td>...</td>\n      <td>NaN</td>\n      <td>NaN</td>\n      <td>NaN</td>\n      <td>NaN</td>\n      <td>NaN</td>\n      <td>NaN</td>\n      <td>NaN</td>\n      <td>NaN</td>\n      <td>NaN</td>\n      <td>NaN</td>\n    </tr>\n  </tbody>\n</table>\n<p>23000 rows × 835 columns</p>\n</div>"
     },
     "metadata": {},
     "execution_count": 58
    }
   ],
   "source": [
    "df_train_scaled"
   ]
  },
  {
   "cell_type": "code",
   "execution_count": 45,
   "metadata": {},
   "outputs": [
    {
     "output_type": "execute_result",
     "data": {
      "text/plain": [
       "0         115.266667\n",
       "1         188.500000\n",
       "2         187.333333\n",
       "3         212.333333\n",
       "4         174.000000\n",
       "            ...     \n",
       "22995     209.884615\n",
       "22996    3067.391304\n",
       "22997     172.400000\n",
       "22998     553.147059\n",
       "22999     156.153846\n",
       "Length: 23000, dtype: float64"
      ]
     },
     "metadata": {},
     "execution_count": 45
    }
   ],
   "source": [
    "scale"
   ]
  },
  {
   "cell_type": "code",
   "execution_count": 61,
   "metadata": {},
   "outputs": [
    {
     "output_type": "stream",
     "name": "stdout",
     "text": [
      "(23000, 6) (23000, 835)\n",
      "(46000, 835)\n",
      "(23000, 835) (23000, 6)\n"
     ]
    }
   ],
   "source": [
    "# Testing yearly data recursive\n",
    "print(df_test.shape, df_train.shape)\n",
    "print((df_train.div(scale, axis=0)).shape)\n",
    "ts_train = df_train.div(scale.values, axis=0)\n",
    "ts_test = df_test.div(scale.values, axis=0)\n",
    "print(ts_train.shape, ts_test.shape)\n",
    "#X_train_yearly = df_yearly_train.to_numpy()\n",
    "#X_test_yearly = df_yearly_test.to_numpy()\n",
    "X_train_yearly = ts_train.to_numpy()\n",
    "X_test_yearly = ts_test.to_numpy()\n",
    "ts_train = []\n",
    "ts_test = []\n",
    "for i in range(X_train_yearly.shape[0]):\n",
    "    s_train = X_train_yearly[i][~np.isnan(X_train_yearly[i])]\n",
    "    s_test = X_test_yearly[i][~np.isnan(X_test_yearly[i])]\n",
    "    ts_train.append(s_train[-12:])  # shortest in the train set\n",
    "    ts_test.append(s_test[:6])  # shortest in the test set\n",
    "\n",
    "df_train_out = pd.DataFrame(ts_train)\n",
    "df_test_out = pd.DataFrame(ts_test)\n",
    "\n",
    "X_train_2 = np.array(ts_train)\n",
    "X_test_2 = np.array(ts_test)"
   ]
  },
  {
   "cell_type": "code",
   "execution_count": 62,
   "metadata": {},
   "outputs": [
    {
     "output_type": "execute_result",
     "data": {
      "text/plain": [
       "array([[0., 0., 0., ..., 0., 0., 0.],\n",
       "       [0., 0., 0., ..., 0., 0., 0.],\n",
       "       [0., 0., 0., ..., 0., 0., 0.],\n",
       "       ...,\n",
       "       [0., 0., 0., ..., 0., 0., 0.],\n",
       "       [0., 0., 0., ..., 0., 0., 0.],\n",
       "       [0., 0., 0., ..., 0., 0., 0.]])"
      ]
     },
     "metadata": {},
     "execution_count": 62
    }
   ],
   "source": [
    "X_train - X_train_2"
   ]
  },
  {
   "cell_type": "code",
   "execution_count": 19,
   "metadata": {},
   "outputs": [
    {
     "output_type": "execute_result",
     "data": {
      "text/plain": [
       "(array([[61.97802198, 62.72932331, 63.76171197, ..., 65.82388664,\n",
       "         65.33111625, 62.99392713],\n",
       "        [ 9.51724138,  7.56498674,  6.20689655, ...,  5.31564987,\n",
       "          6.9071618 ,  8.50397878],\n",
       "        [33.09608541, 34.80427046, 35.71174377, ..., 42.17081851,\n",
       "         43.87900356, 44.73309609],\n",
       "        ...,\n",
       "        [ 5.52262181,  7.10208817,  8.91473318, ..., 10.80800464,\n",
       "          7.90951276,  5.49883991],\n",
       "        [ 5.79231137,  3.44393045,  3.6970277 , ..., 16.70080289,\n",
       "         12.64401553, 11.40022332],\n",
       "        [44.95566502, 45.78817734, 46.36453202, ..., 54.1773399 ,\n",
       "         55.5862069 , 56.09852217]]),\n",
       " array([[7144. , 7230.6, 7349.6, ..., 7587.3, 7530.5, 7261.1],\n",
       "        [1794. , 1426. , 1170. , ..., 1002. , 1302. , 1603. ],\n",
       "        [6200. , 6520. , 6690. , ..., 7900. , 8220. , 8380. ],\n",
       "        ...,\n",
       "        [ 952.1, 1224.4, 1536.9, ..., 1863.3, 1363.6,  948. ],\n",
       "        [3204. , 1905. , 2045. , ..., 9238. , 6994. , 6306. ],\n",
       "        [7020. , 7150. , 7240. , ..., 8460. , 8680. , 8760. ]]))"
      ]
     },
     "metadata": {},
     "execution_count": 19
    }
   ],
   "source": [
    "X_train, X_train_2"
   ]
  },
  {
   "cell_type": "code",
   "execution_count": 29,
   "metadata": {},
   "outputs": [
    {
     "output_type": "execute_result",
     "data": {
      "text/plain": [
       "(   v1  v2\n",
       " 0   1   2\n",
       " 1   2   3\n",
       " 2   3   4,\n",
       "    v3  v5\n",
       " 0   4   6\n",
       " 1   5   3\n",
       " 2   5   5)"
      ]
     },
     "metadata": {},
     "execution_count": 29
    }
   ],
   "source": [
    "df_a = pd.DataFrame({\"v1\":[1,2,3], \"v2\":[2,3,4]})\n",
    "df_b = pd.DataFrame({\"v3\":[4,5,5], \"v5\":[6,3,5]})\n",
    "df_a, df_b"
   ]
  },
  {
   "cell_type": "code",
   "execution_count": 34,
   "metadata": {},
   "outputs": [
    {
     "output_type": "execute_result",
     "data": {
      "text/plain": [
       "array([2., 2., 0.])"
      ]
     },
     "metadata": {},
     "execution_count": 34
    }
   ],
   "source": [
    "scale = df_b.diff(periods=1, axis=1).abs().mean(axis=1).reset_index(drop=True).values\n",
    "scale"
   ]
  },
  {
   "cell_type": "code",
   "execution_count": 36,
   "metadata": {},
   "outputs": [
    {
     "output_type": "execute_result",
     "data": {
      "text/plain": [
       "    v1   v2\n",
       "0  0.5  1.0\n",
       "1  1.0  1.5\n",
       "2  inf  inf"
      ],
      "text/html": "<div>\n<style scoped>\n    .dataframe tbody tr th:only-of-type {\n        vertical-align: middle;\n    }\n\n    .dataframe tbody tr th {\n        vertical-align: top;\n    }\n\n    .dataframe thead th {\n        text-align: right;\n    }\n</style>\n<table border=\"1\" class=\"dataframe\">\n  <thead>\n    <tr style=\"text-align: right;\">\n      <th></th>\n      <th>v1</th>\n      <th>v2</th>\n    </tr>\n  </thead>\n  <tbody>\n    <tr>\n      <th>0</th>\n      <td>0.5</td>\n      <td>1.0</td>\n    </tr>\n    <tr>\n      <th>1</th>\n      <td>1.0</td>\n      <td>1.5</td>\n    </tr>\n    <tr>\n      <th>2</th>\n      <td>inf</td>\n      <td>inf</td>\n    </tr>\n  </tbody>\n</table>\n</div>"
     },
     "metadata": {},
     "execution_count": 36
    }
   ],
   "source": [
    "df_a.div(scale, axis=0)"
   ]
  },
  {
   "cell_type": "code",
   "execution_count": null,
   "metadata": {},
   "outputs": [],
   "source": []
  }
 ]
}