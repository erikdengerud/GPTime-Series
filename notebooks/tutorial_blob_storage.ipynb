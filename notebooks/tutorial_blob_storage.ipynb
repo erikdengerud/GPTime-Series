{
 "metadata": {
  "language_info": {
   "codemirror_mode": {
    "name": "ipython",
    "version": 3
   },
   "file_extension": ".py",
   "mimetype": "text/x-python",
   "name": "python",
   "nbconvert_exporter": "python",
   "pygments_lexer": "ipython3",
   "version": "3.6.9-final"
  },
  "orig_nbformat": 2,
  "kernelspec": {
   "name": "Python 3.6.9 64-bit ('venv')",
   "display_name": "Python 3.6.9 64-bit ('venv')",
   "metadata": {
    "interpreter": {
     "hash": "372b0b7ec2deba16ae067aa3df2758e57c96731335b7f57a0616055622e60b0e"
    }
   }
  }
 },
 "nbformat": 4,
 "nbformat_minor": 2,
 "cells": [
  {
   "source": [
    "# Accessing Time Series Datasets\n",
    "The raw time series datasets used in this project are stored with Azure blob storage. This notebook shows an example of how to access the datasets and an overview of the data."
   ],
   "cell_type": "markdown",
   "metadata": {}
  },
  {
   "source": [
    "## Datasets\n",
    "\n",
    "### M4\n",
    "* Stored as train and test csv files ogether with a csv file of metadata. The data is downloaded from the M4 repository on github <https://github.com/Mcompetitions/M4-methods>.\n",
    "* Each line in the files are a distinct time series and the index of a specific time series is the same in the train and test files.\n",
    "* Time series are grouped in files by frequency.\n",
    "* Frequencies are:\n",
    "    * Yearly\n",
    "    * Quarterly\n",
    "    * Monthly\n",
    "    * Weekly\n",
    "    * Daily\n",
    "    * Hourly\n",
    "### FRED\n",
    "* The time series are stored in JSON files with 2000 time series in each file.\n",
    "* Metadata for the time series are stored in files meta_xxxx.json.\n",
    "* Time series observations are stored in files raw_xxxx.json.\n",
    "* The data is collected from the Federal Reserve Economic Data database <https://fred.stlouisfed.org/>.\n",
    "* It is collected using the `fred` pythion api.\n",
    "* Frequencies are:\n",
    "    * Yearly\n",
    "    * Quarterly\n",
    "    * Monthly\n",
    "    * Weekly\n",
    "    * Daily"
   ],
   "cell_type": "markdown",
   "metadata": {}
  },
  {
   "source": [
    "## Access\n",
    "Access to the datasets does not at this point require access keys. The blob storage containers are set to public read access. To access the data you can use the python api."
   ],
   "cell_type": "markdown",
   "metadata": {}
  },
  {
   "cell_type": "code",
   "execution_count": 1,
   "metadata": {
    "tags": []
   },
   "outputs": [
    {
     "output_type": "stream",
     "name": "stdout",
     "text": [
      "Azure Blob storage v12.5.0\n"
     ]
    }
   ],
   "source": [
    "import os\n",
    "from azure.storage.blob import BlobServiceClient, BlobClient, ContainerClient, __version__\n",
    "\n",
    "try:\n",
    "    print(\"Azure Blob storage v\" + __version__)\n",
    "    # Quick start code goes here\n",
    "except Exception as ex:\n",
    "    print('Exception:')\n",
    "    print(ex)"
   ]
  },
  {
   "source": [
    "### FRED metadata"
   ],
   "cell_type": "markdown",
   "metadata": {}
  },
  {
   "cell_type": "code",
   "execution_count": 2,
   "metadata": {},
   "outputs": [],
   "source": [
    "import json"
   ]
  },
  {
   "cell_type": "code",
   "execution_count": 3,
   "metadata": {
    "tags": []
   },
   "outputs": [
    {
     "output_type": "stream",
     "name": "stdout",
     "text": [
      "Name of blob: meta_000000.json\n",
      "Number of samples in file: 2001\n",
      "\n",
      "Example of metadata for a time series:\n",
      "\n",
      "category_name: New England Textile Industry, 1815-1860\n",
      "frequency: Annual\n",
      "frequency_short: A\n",
      "group_popularity: 2\n",
      "id: CPNEAMOSKEAGI\n",
      "last_updated: 2019-11-01 13:43:55-05\n",
      "node_id: 33934\n",
      "notes: Data were gathered by the authors from various textile collections deposited at various museums and libraries on the East Coast, and collected from the original business records of textile mills in New England wherever possible. Preference was given to records that were complete and continuous for long periods, and reasonably intelligible.\n",
      "\n",
      "Reporting techniques differed greatly from mill to mill. To make the data comparable, each mill's output was allocated uniformly over the months covered by the accounting period. The monthly figures were then summed to calendar years.\n",
      "\n",
      "More details about the data are available in the book chapter \"The New England Textile Industry, 1825-60: Trends and Fluctuations\" (https://www.nber.org/chapters/c1569.pdf).\n",
      "observation_end: 1847-01-01\n",
      "observation_start: 1837-01-01\n",
      "parent_id: 33060\n",
      "popularity: 2\n",
      "realtime_end: 2020-10-02\n",
      "realtime_start: 2020-10-02\n",
      "seasonal_adjustment: Not Seasonally Adjusted\n",
      "seasonal_adjustment_short: NSA\n",
      "source: FRED\n",
      "title: Cotton Production by Amoskeag I Mill\n",
      "units: Thousands of Yards\n",
      "units_short: Thous. of Yards\n"
     ]
    }
   ],
   "source": [
    "container_client = ContainerClient(account_url=\"https://tsdatasets.blob.core.windows.net/\", container_name=\"fred\")\n",
    "all_blobs = container_client.list_blobs()\n",
    "for b in all_blobs:\n",
    "    bname = b[\"name\"]\n",
    "    print(f\"Name of blob: {bname}\")\n",
    "    blob_client = BlobClient(account_url=\"https://tsdatasets.blob.core.windows.net/\", container_name=\"fred\", blob_name=bname)\n",
    "    with open(bname, \"wb\") as my_blob:\n",
    "        download_stream = blob_client.download_blob()\n",
    "        my_blob.write(download_stream.readall())\n",
    "        my_blob.close()\n",
    "    break\n",
    "with open(bname, \"rb\") as fp:\n",
    "    blob_json = json.load(fp)\n",
    "    fp.close()\n",
    "print(f\"Number of samples in file: {len(blob_json)}\\n\")\n",
    "print(\"Example of metadata for a time series:\\n\")\n",
    "for key, value in blob_json[1].items():\n",
    "    print(f\"{key}: {value}\")"
   ]
  },
  {
   "source": [
    "### FRED observations"
   ],
   "cell_type": "markdown",
   "metadata": {}
  },
  {
   "cell_type": "code",
   "execution_count": 4,
   "metadata": {
    "tags": []
   },
   "outputs": [
    {
     "output_type": "stream",
     "name": "stdout",
     "text": [
      "Name of blob: raw_000000.json\n",
      "Number of samples in file: 2001\n",
      "category_name: New England Textile Industry, 1815-1860\n",
      "frequency: Annual\n",
      "id: CPNEAMOSKEAGI\n",
      "node_id: 33934\n",
      "observations: [{'date': '1837-01-01', 'value': '1272.0'}, {'date': '1838-01-01', 'value': '1407.0'}, {'date': '1839-01-01', 'value': '1453.0'}, {'date': '1840-01-01', 'value': '1126.0'}, {'date': '1841-01-01', 'value': '1077.0'}, {'date': '1842-01-01', 'value': '1102.0'}, {'date': '1843-01-01', 'value': '1148.0'}, {'date': '1844-01-01', 'value': '1160.0'}, {'date': '1845-01-01', 'value': '1189.0'}, {'date': '1846-01-01', 'value': '1190.0'}, {'date': '1847-01-01', 'value': '540.0'}]\n",
      "parent_id: 33060\n",
      "source: FRED\n"
     ]
    }
   ],
   "source": [
    "bname = \"raw_000000.json\"\n",
    "print(f\"Name of blob: {bname}\")\n",
    "blob_client = BlobClient(account_url=\"https://tsdatasets.blob.core.windows.net/\", container_name=\"fred\", blob_name=bname)\n",
    "with open(bname, \"wb\") as my_blob:\n",
    "    download_stream = blob_client.download_blob()\n",
    "    my_blob.write(download_stream.readall())\n",
    "    my_blob.close()\n",
    "with open(bname, \"rb\") as fp:\n",
    "    blob_json = json.load(fp)\n",
    "    fp.close()\n",
    "print(f\"Number of samples in file: {len(blob_json)}\")\n",
    "for key, value in blob_json[1].items():\n",
    "    print(f\"{key}: {value}\")"
   ]
  },
  {
   "source": [
    "### M4"
   ],
   "cell_type": "markdown",
   "metadata": {}
  },
  {
   "cell_type": "code",
   "execution_count": 5,
   "metadata": {
    "tags": []
   },
   "outputs": [
    {
     "output_type": "stream",
     "name": "stdout",
     "text": [
      "Name of blob: Daily-test.csv\n",
      "Name of blob: Daily-train.csv\n",
      "Name of blob: Hourly-test.csv\n",
      "Name of blob: Hourly-train.csv\n",
      "Name of blob: M4-info.csv\n",
      "Name of blob: Monthly-test.csv\n",
      "Name of blob: Monthly-train.csv\n",
      "Name of blob: Quarterly-test.csv\n",
      "Name of blob: Quarterly-train.csv\n",
      "Name of blob: Weekly-test.csv\n",
      "Name of blob: Weekly-train.csv\n",
      "Name of blob: Yearly-test.csv\n",
      "Name of blob: Yearly-train.csv\n",
      "\n",
      "Downloading Yearly-train.csv\n",
      "   V1      V2      V3      V4      V5      V6      V7      V8      V9     V10  \\\n",
      "0  Y1  5172.1  5133.5  5186.9  5084.6  5182.0  5414.3  5576.2  5752.9  5955.2   \n",
      "1  Y2  2070.0  2104.0  2394.0  1651.0  1492.0  1348.0  1198.0  1192.0  1105.0   \n",
      "2  Y3  2760.0  2980.0  3200.0  3450.0  3670.0  3850.0  4000.0  4160.0  4290.0   \n",
      "3  Y4  3380.0  3670.0  3960.0  4190.0  4440.0  4700.0  4890.0  5060.0  5200.0   \n",
      "4  Y5  1980.0  2030.0  2220.0  2530.0  2610.0  2720.0  2970.0  2980.0  3100.0   \n",
      "\n",
      "   ...  V827  V828  V829  V830  V831  V832  V833  V834  V835  V836  \n",
      "0  ...   NaN   NaN   NaN   NaN   NaN   NaN   NaN   NaN   NaN   NaN  \n",
      "1  ...   NaN   NaN   NaN   NaN   NaN   NaN   NaN   NaN   NaN   NaN  \n",
      "2  ...   NaN   NaN   NaN   NaN   NaN   NaN   NaN   NaN   NaN   NaN  \n",
      "3  ...   NaN   NaN   NaN   NaN   NaN   NaN   NaN   NaN   NaN   NaN  \n",
      "4  ...   NaN   NaN   NaN   NaN   NaN   NaN   NaN   NaN   NaN   NaN  \n",
      "\n",
      "[5 rows x 836 columns]\n"
     ]
    }
   ],
   "source": [
    "import pandas as pd\n",
    "container_client = ContainerClient(account_url=\"https://tsdatasets.blob.core.windows.net/\", container_name=\"mfour\")\n",
    "all_blobs = container_client.list_blobs()\n",
    "for b in all_blobs:\n",
    "    bname = b[\"name\"]\n",
    "    print(f\"Name of blob: {bname}\")\n",
    "print(f\"\\nDownloading {bname}\")\n",
    "blob_client = BlobClient(account_url=\"https://tsdatasets.blob.core.windows.net/\", container_name=\"mfour\", blob_name=bname)\n",
    "\n",
    "with open(bname, \"wb\") as my_blob:\n",
    "    download_stream = blob_client.download_blob()\n",
    "    my_blob.write(download_stream.readall())\n",
    "    my_blob.close()\n",
    "\n",
    "df = pd.read_csv(bname)\n",
    "print(df.head())"
   ]
  }
 ]
}